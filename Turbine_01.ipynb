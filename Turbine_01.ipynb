{
  "nbformat": 4,
  "nbformat_minor": 0,
  "metadata": {
    "colab": {
      "provenance": []
    },
    "kernelspec": {
      "name": "python3",
      "display_name": "Python 3"
    },
    "language_info": {
      "name": "python"
    }
  },
  "cells": [
    {
      "cell_type": "code",
      "execution_count": null,
      "metadata": {
        "id": "XXiNq-hvo-_X"
      },
      "outputs": [],
      "source": [
        "import pandas as pd\n",
        "import numpy as np\n",
        "import matplotlib.pyplot as plt\n",
        "import seaborn as sns\n",
        "from datetime import datetime as dt"
      ]
    },
    {
      "cell_type": "code",
      "source": [
        "data=pd.read_csv(\"/content/train.csv\",\n",
        "                 index_col='timestamp',parse_dates=['timestamp'])\n",
        "data.head()"
      ],
      "metadata": {
        "colab": {
          "base_uri": "https://localhost:8080/",
          "height": 475
        },
        "id": "duzdQrQLpJV4",
        "outputId": "32078556-accd-4080-eb48-2524d36342c4"
      },
      "execution_count": null,
      "outputs": [
        {
          "output_type": "execute_result",
          "data": {
            "text/plain": [
              "                     active_power_calculated_by_converter  active_power_raw  \\\n",
              "timestamp                                                                     \n",
              "2021-02-19 20:18:00                            816.636759        834.917206   \n",
              "2021-04-27 04:55:00                            419.107829        421.050873   \n",
              "2021-01-25 06:26:00                           1303.530558       1337.566142   \n",
              "2021-10-30 03:47:00                             61.494872         53.481008   \n",
              "2021-03-15 00:39:00                            593.514364        611.659108   \n",
              "\n",
              "                     ambient_temperature  generator_speed  \\\n",
              "timestamp                                                   \n",
              "2021-02-19 20:18:00            31.694380      1159.616602   \n",
              "2021-04-27 04:55:00            12.894948       928.747996   \n",
              "2021-01-25 06:26:00            16.648388      1201.219775   \n",
              "2021-10-30 03:47:00            28.388141       769.806122   \n",
              "2021-03-15 00:39:00            31.519527      1046.916768   \n",
              "\n",
              "                     generator_winding_temp_max  grid_power10min_average  \\\n",
              "timestamp                                                                  \n",
              "2021-02-19 20:18:00                   65.954214               917.897085   \n",
              "2021-04-27 04:55:00                   59.571319               445.554250   \n",
              "2021-01-25 06:26:00                   61.270498              1364.716003   \n",
              "2021-10-30 03:47:00                   40.674348                14.324897   \n",
              "2021-03-15 00:39:00                   64.341763               599.020172   \n",
              "\n",
              "                     nc1_inside_temp  nacelle_temp  \\\n",
              "timestamp                                            \n",
              "2021-02-19 20:18:00        31.881972     31.504713   \n",
              "2021-04-27 04:55:00        32.423705     32.755770   \n",
              "2021-01-25 06:26:00        11.446849     18.332985   \n",
              "2021-10-30 03:47:00        34.253204     32.662889   \n",
              "2021-03-15 00:39:00        32.405586     31.466387   \n",
              "\n",
              "                     reactice_power_calculated_by_converter  reactive_power  \\\n",
              "timestamp                                                                     \n",
              "2021-02-19 20:18:00                              141.457644      165.501518   \n",
              "2021-04-27 04:55:00                               89.186457      113.835236   \n",
              "2021-01-25 06:26:00                              230.622309      281.452253   \n",
              "2021-10-30 03:47:00                               66.211015       75.017531   \n",
              "2021-03-15 00:39:00                              137.163938      160.202421   \n",
              "\n",
              "                     wind_direction_raw  wind_speed_raw  \\\n",
              "timestamp                                                 \n",
              "2021-02-19 20:18:00          280.864782        7.057000   \n",
              "2021-04-27 04:55:00          299.552460        5.474937   \n",
              "2021-01-25 06:26:00           84.960106        8.092457   \n",
              "2021-10-30 03:47:00           87.261119        4.071032   \n",
              "2021-03-15 00:39:00          313.724818        6.357943   \n",
              "\n",
              "                     wind_speed_turbulence   turbine_id     Target  \n",
              "timestamp                                                           \n",
              "2021-02-19 20:18:00               0.544082  Turbine_108  47.582787  \n",
              "2021-04-27 04:55:00               0.469031   Turbine_18  46.070328  \n",
              "2021-01-25 06:26:00               0.622318  Turbine_105  39.989236  \n",
              "2021-10-30 03:47:00               0.760719   Turbine_15  46.056587  \n",
              "2021-03-15 00:39:00               0.346068   Turbine_01  54.346095  "
            ],
            "text/html": [
              "\n",
              "  <div id=\"df-f83d5bef-2692-4d9a-bce0-05ee188b402c\">\n",
              "    <div class=\"colab-df-container\">\n",
              "      <div>\n",
              "<style scoped>\n",
              "    .dataframe tbody tr th:only-of-type {\n",
              "        vertical-align: middle;\n",
              "    }\n",
              "\n",
              "    .dataframe tbody tr th {\n",
              "        vertical-align: top;\n",
              "    }\n",
              "\n",
              "    .dataframe thead th {\n",
              "        text-align: right;\n",
              "    }\n",
              "</style>\n",
              "<table border=\"1\" class=\"dataframe\">\n",
              "  <thead>\n",
              "    <tr style=\"text-align: right;\">\n",
              "      <th></th>\n",
              "      <th>active_power_calculated_by_converter</th>\n",
              "      <th>active_power_raw</th>\n",
              "      <th>ambient_temperature</th>\n",
              "      <th>generator_speed</th>\n",
              "      <th>generator_winding_temp_max</th>\n",
              "      <th>grid_power10min_average</th>\n",
              "      <th>nc1_inside_temp</th>\n",
              "      <th>nacelle_temp</th>\n",
              "      <th>reactice_power_calculated_by_converter</th>\n",
              "      <th>reactive_power</th>\n",
              "      <th>wind_direction_raw</th>\n",
              "      <th>wind_speed_raw</th>\n",
              "      <th>wind_speed_turbulence</th>\n",
              "      <th>turbine_id</th>\n",
              "      <th>Target</th>\n",
              "    </tr>\n",
              "    <tr>\n",
              "      <th>timestamp</th>\n",
              "      <th></th>\n",
              "      <th></th>\n",
              "      <th></th>\n",
              "      <th></th>\n",
              "      <th></th>\n",
              "      <th></th>\n",
              "      <th></th>\n",
              "      <th></th>\n",
              "      <th></th>\n",
              "      <th></th>\n",
              "      <th></th>\n",
              "      <th></th>\n",
              "      <th></th>\n",
              "      <th></th>\n",
              "      <th></th>\n",
              "    </tr>\n",
              "  </thead>\n",
              "  <tbody>\n",
              "    <tr>\n",
              "      <th>2021-02-19 20:18:00</th>\n",
              "      <td>816.636759</td>\n",
              "      <td>834.917206</td>\n",
              "      <td>31.694380</td>\n",
              "      <td>1159.616602</td>\n",
              "      <td>65.954214</td>\n",
              "      <td>917.897085</td>\n",
              "      <td>31.881972</td>\n",
              "      <td>31.504713</td>\n",
              "      <td>141.457644</td>\n",
              "      <td>165.501518</td>\n",
              "      <td>280.864782</td>\n",
              "      <td>7.057000</td>\n",
              "      <td>0.544082</td>\n",
              "      <td>Turbine_108</td>\n",
              "      <td>47.582787</td>\n",
              "    </tr>\n",
              "    <tr>\n",
              "      <th>2021-04-27 04:55:00</th>\n",
              "      <td>419.107829</td>\n",
              "      <td>421.050873</td>\n",
              "      <td>12.894948</td>\n",
              "      <td>928.747996</td>\n",
              "      <td>59.571319</td>\n",
              "      <td>445.554250</td>\n",
              "      <td>32.423705</td>\n",
              "      <td>32.755770</td>\n",
              "      <td>89.186457</td>\n",
              "      <td>113.835236</td>\n",
              "      <td>299.552460</td>\n",
              "      <td>5.474937</td>\n",
              "      <td>0.469031</td>\n",
              "      <td>Turbine_18</td>\n",
              "      <td>46.070328</td>\n",
              "    </tr>\n",
              "    <tr>\n",
              "      <th>2021-01-25 06:26:00</th>\n",
              "      <td>1303.530558</td>\n",
              "      <td>1337.566142</td>\n",
              "      <td>16.648388</td>\n",
              "      <td>1201.219775</td>\n",
              "      <td>61.270498</td>\n",
              "      <td>1364.716003</td>\n",
              "      <td>11.446849</td>\n",
              "      <td>18.332985</td>\n",
              "      <td>230.622309</td>\n",
              "      <td>281.452253</td>\n",
              "      <td>84.960106</td>\n",
              "      <td>8.092457</td>\n",
              "      <td>0.622318</td>\n",
              "      <td>Turbine_105</td>\n",
              "      <td>39.989236</td>\n",
              "    </tr>\n",
              "    <tr>\n",
              "      <th>2021-10-30 03:47:00</th>\n",
              "      <td>61.494872</td>\n",
              "      <td>53.481008</td>\n",
              "      <td>28.388141</td>\n",
              "      <td>769.806122</td>\n",
              "      <td>40.674348</td>\n",
              "      <td>14.324897</td>\n",
              "      <td>34.253204</td>\n",
              "      <td>32.662889</td>\n",
              "      <td>66.211015</td>\n",
              "      <td>75.017531</td>\n",
              "      <td>87.261119</td>\n",
              "      <td>4.071032</td>\n",
              "      <td>0.760719</td>\n",
              "      <td>Turbine_15</td>\n",
              "      <td>46.056587</td>\n",
              "    </tr>\n",
              "    <tr>\n",
              "      <th>2021-03-15 00:39:00</th>\n",
              "      <td>593.514364</td>\n",
              "      <td>611.659108</td>\n",
              "      <td>31.519527</td>\n",
              "      <td>1046.916768</td>\n",
              "      <td>64.341763</td>\n",
              "      <td>599.020172</td>\n",
              "      <td>32.405586</td>\n",
              "      <td>31.466387</td>\n",
              "      <td>137.163938</td>\n",
              "      <td>160.202421</td>\n",
              "      <td>313.724818</td>\n",
              "      <td>6.357943</td>\n",
              "      <td>0.346068</td>\n",
              "      <td>Turbine_01</td>\n",
              "      <td>54.346095</td>\n",
              "    </tr>\n",
              "  </tbody>\n",
              "</table>\n",
              "</div>\n",
              "      <button class=\"colab-df-convert\" onclick=\"convertToInteractive('df-f83d5bef-2692-4d9a-bce0-05ee188b402c')\"\n",
              "              title=\"Convert this dataframe to an interactive table.\"\n",
              "              style=\"display:none;\">\n",
              "        \n",
              "  <svg xmlns=\"http://www.w3.org/2000/svg\" height=\"24px\"viewBox=\"0 0 24 24\"\n",
              "       width=\"24px\">\n",
              "    <path d=\"M0 0h24v24H0V0z\" fill=\"none\"/>\n",
              "    <path d=\"M18.56 5.44l.94 2.06.94-2.06 2.06-.94-2.06-.94-.94-2.06-.94 2.06-2.06.94zm-11 1L8.5 8.5l.94-2.06 2.06-.94-2.06-.94L8.5 2.5l-.94 2.06-2.06.94zm10 10l.94 2.06.94-2.06 2.06-.94-2.06-.94-.94-2.06-.94 2.06-2.06.94z\"/><path d=\"M17.41 7.96l-1.37-1.37c-.4-.4-.92-.59-1.43-.59-.52 0-1.04.2-1.43.59L10.3 9.45l-7.72 7.72c-.78.78-.78 2.05 0 2.83L4 21.41c.39.39.9.59 1.41.59.51 0 1.02-.2 1.41-.59l7.78-7.78 2.81-2.81c.8-.78.8-2.07 0-2.86zM5.41 20L4 18.59l7.72-7.72 1.47 1.35L5.41 20z\"/>\n",
              "  </svg>\n",
              "      </button>\n",
              "      \n",
              "  <style>\n",
              "    .colab-df-container {\n",
              "      display:flex;\n",
              "      flex-wrap:wrap;\n",
              "      gap: 12px;\n",
              "    }\n",
              "\n",
              "    .colab-df-convert {\n",
              "      background-color: #E8F0FE;\n",
              "      border: none;\n",
              "      border-radius: 50%;\n",
              "      cursor: pointer;\n",
              "      display: none;\n",
              "      fill: #1967D2;\n",
              "      height: 32px;\n",
              "      padding: 0 0 0 0;\n",
              "      width: 32px;\n",
              "    }\n",
              "\n",
              "    .colab-df-convert:hover {\n",
              "      background-color: #E2EBFA;\n",
              "      box-shadow: 0px 1px 2px rgba(60, 64, 67, 0.3), 0px 1px 3px 1px rgba(60, 64, 67, 0.15);\n",
              "      fill: #174EA6;\n",
              "    }\n",
              "\n",
              "    [theme=dark] .colab-df-convert {\n",
              "      background-color: #3B4455;\n",
              "      fill: #D2E3FC;\n",
              "    }\n",
              "\n",
              "    [theme=dark] .colab-df-convert:hover {\n",
              "      background-color: #434B5C;\n",
              "      box-shadow: 0px 1px 3px 1px rgba(0, 0, 0, 0.15);\n",
              "      filter: drop-shadow(0px 1px 2px rgba(0, 0, 0, 0.3));\n",
              "      fill: #FFFFFF;\n",
              "    }\n",
              "  </style>\n",
              "\n",
              "      <script>\n",
              "        const buttonEl =\n",
              "          document.querySelector('#df-f83d5bef-2692-4d9a-bce0-05ee188b402c button.colab-df-convert');\n",
              "        buttonEl.style.display =\n",
              "          google.colab.kernel.accessAllowed ? 'block' : 'none';\n",
              "\n",
              "        async function convertToInteractive(key) {\n",
              "          const element = document.querySelector('#df-f83d5bef-2692-4d9a-bce0-05ee188b402c');\n",
              "          const dataTable =\n",
              "            await google.colab.kernel.invokeFunction('convertToInteractive',\n",
              "                                                     [key], {});\n",
              "          if (!dataTable) return;\n",
              "\n",
              "          const docLinkHtml = 'Like what you see? Visit the ' +\n",
              "            '<a target=\"_blank\" href=https://colab.research.google.com/notebooks/data_table.ipynb>data table notebook</a>'\n",
              "            + ' to learn more about interactive tables.';\n",
              "          element.innerHTML = '';\n",
              "          dataTable['output_type'] = 'display_data';\n",
              "          await google.colab.output.renderOutput(dataTable, element);\n",
              "          const docLink = document.createElement('div');\n",
              "          docLink.innerHTML = docLinkHtml;\n",
              "          element.appendChild(docLink);\n",
              "        }\n",
              "      </script>\n",
              "    </div>\n",
              "  </div>\n",
              "  "
            ]
          },
          "metadata": {},
          "execution_count": 149
        }
      ]
    },
    {
      "cell_type": "code",
      "source": [
        "dtypes={'timestamp':'object', 'active_power_calculated_by_converter':'float32', 'active_power_raw':'float32',\n",
        "       'ambient_temperature':'float32', 'generator_speed':'float32', 'generator_winding_temp_max':'float32',\n",
        "       'grid_power10min_average':'float32', 'nc1_inside_temp':'float32', 'nacelle_temp':'float32',\n",
        "       'reactice_power_calculated_by_converter':'float32', 'reactive_power':'float32',\n",
        "       'wind_direction_raw':'float32', 'wind_speed_raw':'float32', 'wind_speed_turbulence':'float32',\n",
        "       'turbine_id':'category', 'Target':'float32'}\n",
        "\n",
        "data=pd.read_csv(\"/content/train.csv\",\n",
        "                 index_col='timestamp',parse_dates=['timestamp'],dtype=dtypes)"
      ],
      "metadata": {
        "id": "1czd2bTdpJYg"
      },
      "execution_count": null,
      "outputs": []
    },
    {
      "cell_type": "code",
      "source": [
        "dTurbine_01=data[data['turbine_id']==\"Turbine_01\"]"
      ],
      "metadata": {
        "id": "Lc3440wgpJcA"
      },
      "execution_count": null,
      "outputs": []
    },
    {
      "cell_type": "code",
      "source": [
        "dTurbine_01.shape"
      ],
      "metadata": {
        "colab": {
          "base_uri": "https://localhost:8080/"
        },
        "id": "FJ1ZkkUHrAxg",
        "outputId": "368e49ab-7871-4975-e388-efba15301571"
      },
      "execution_count": null,
      "outputs": [
        {
          "output_type": "execute_result",
          "data": {
            "text/plain": [
              "(54171, 15)"
            ]
          },
          "metadata": {},
          "execution_count": 152
        }
      ]
    },
    {
      "cell_type": "code",
      "source": [
        "dTurbine_01.index=pd.to_datetime(dTurbine_01.index,format='%Y-%m-%d %H')"
      ],
      "metadata": {
        "id": "oO1tPWaFrDSz"
      },
      "execution_count": null,
      "outputs": []
    },
    {
      "cell_type": "code",
      "source": [
        "dTurbine_01.sort_index(inplace=True)"
      ],
      "metadata": {
        "colab": {
          "base_uri": "https://localhost:8080/"
        },
        "id": "aVAIuoVfvw7D",
        "outputId": "cc07c96b-fab8-488d-9210-1bc86d524ee8"
      },
      "execution_count": null,
      "outputs": [
        {
          "output_type": "stream",
          "name": "stderr",
          "text": [
            "<ipython-input-154-316327531c28>:1: SettingWithCopyWarning:\n",
            "\n",
            "\n",
            "A value is trying to be set on a copy of a slice from a DataFrame\n",
            "\n",
            "See the caveats in the documentation: https://pandas.pydata.org/pandas-docs/stable/user_guide/indexing.html#returning-a-view-versus-a-copy\n",
            "\n"
          ]
        }
      ]
    },
    {
      "cell_type": "markdown",
      "source": [
        "<font color=red>To find whether the regular interval of time series can be on hourly basis</font>"
      ],
      "metadata": {
        "id": "FXZcu67a0tMl"
      }
    },
    {
      "cell_type": "code",
      "source": [
        "dTurbine_01.index"
      ],
      "metadata": {
        "colab": {
          "base_uri": "https://localhost:8080/"
        },
        "id": "AuLyWDf7uqIv",
        "outputId": "4eba040a-79e3-4eda-dc39-1ad7f2a5bb5b"
      },
      "execution_count": null,
      "outputs": [
        {
          "output_type": "execute_result",
          "data": {
            "text/plain": [
              "DatetimeIndex(['2021-01-01 20:27:00', '2021-01-01 20:30:00',\n",
              "               '2021-01-01 20:35:00', '2021-01-01 20:36:00',\n",
              "               '2021-01-01 20:37:00', '2021-01-01 20:38:00',\n",
              "               '2021-01-01 20:41:00', '2021-01-01 20:42:00',\n",
              "               '2021-01-01 20:47:00', '2021-01-01 20:56:00',\n",
              "               ...\n",
              "               '2021-12-31 22:49:00', '2021-12-31 22:51:00',\n",
              "               '2021-12-31 23:03:00', '2021-12-31 23:05:00',\n",
              "               '2021-12-31 23:08:00', '2021-12-31 23:16:00',\n",
              "               '2021-12-31 23:30:00', '2021-12-31 23:31:00',\n",
              "               '2021-12-31 23:33:00', '2021-12-31 23:50:00'],\n",
              "              dtype='datetime64[ns]', name='timestamp', length=54171, freq=None)"
            ]
          },
          "metadata": {},
          "execution_count": 155
        }
      ]
    },
    {
      "cell_type": "code",
      "source": [
        "# d_1jan=dTurbine_01[(dTurbine_01.index.month==1)and(dTurbine_01.index.day==1)]\n",
        "arr=np.logical_and(dTurbine_01.index.month==1,dTurbine_01.index.day==1)"
      ],
      "metadata": {
        "id": "Jg4FCakSwk1H"
      },
      "execution_count": null,
      "outputs": []
    },
    {
      "cell_type": "code",
      "source": [
        "arr"
      ],
      "metadata": {
        "colab": {
          "base_uri": "https://localhost:8080/"
        },
        "id": "MHSM8C0aykJF",
        "outputId": "d926b54a-8586-4f98-a5b0-8a872a50739d"
      },
      "execution_count": null,
      "outputs": [
        {
          "output_type": "execute_result",
          "data": {
            "text/plain": [
              "array([ True,  True,  True, ..., False, False, False])"
            ]
          },
          "metadata": {},
          "execution_count": 157
        }
      ]
    },
    {
      "cell_type": "code",
      "source": [
        "d_1jan=dTurbine_01[arr]"
      ],
      "metadata": {
        "id": "DtHgm-lP0NQu"
      },
      "execution_count": null,
      "outputs": []
    },
    {
      "cell_type": "code",
      "source": [
        "d_1jan.head()"
      ],
      "metadata": {
        "colab": {
          "base_uri": "https://localhost:8080/",
          "height": 475
        },
        "id": "4s9VOuFBxQXk",
        "outputId": "80f74e61-dfd2-45f9-b47b-47b972d3f27d"
      },
      "execution_count": null,
      "outputs": [
        {
          "output_type": "execute_result",
          "data": {
            "text/plain": [
              "                     active_power_calculated_by_converter  active_power_raw  \\\n",
              "timestamp                                                                     \n",
              "2021-01-01 20:27:00                            716.153625        738.391174   \n",
              "2021-01-01 20:30:00                            668.484070        691.595581   \n",
              "2021-01-01 20:35:00                            619.715027        637.734863   \n",
              "2021-01-01 20:36:00                            607.128601        627.410767   \n",
              "2021-01-01 20:37:00                            619.598450        638.911377   \n",
              "\n",
              "                     ambient_temperature  generator_speed  \\\n",
              "timestamp                                                   \n",
              "2021-01-01 20:27:00            12.833890      1113.618652   \n",
              "2021-01-01 20:30:00            12.827969      1089.887207   \n",
              "2021-01-01 20:35:00            12.800751      1061.761108   \n",
              "2021-01-01 20:36:00            12.779938      1054.729614   \n",
              "2021-01-01 20:37:00            12.773916      1061.468140   \n",
              "\n",
              "                     generator_winding_temp_max  grid_power10min_average  \\\n",
              "timestamp                                                                  \n",
              "2021-01-01 20:27:00                   52.250389               643.019775   \n",
              "2021-01-01 20:30:00                   52.109486               660.632812   \n",
              "2021-01-01 20:35:00                   52.671341               658.606689   \n",
              "2021-01-01 20:36:00                   52.599617               656.049316   \n",
              "2021-01-01 20:37:00                   52.472519               653.701050   \n",
              "\n",
              "                     nc1_inside_temp  nacelle_temp  \\\n",
              "timestamp                                            \n",
              "2021-01-01 20:27:00        30.480120     24.793364   \n",
              "2021-01-01 20:30:00        30.429287     24.774328   \n",
              "2021-01-01 20:35:00        30.293150     24.653873   \n",
              "2021-01-01 20:36:00        30.243378     24.675203   \n",
              "2021-01-01 20:37:00        30.214264     24.657110   \n",
              "\n",
              "                     reactice_power_calculated_by_converter  reactive_power  \\\n",
              "timestamp                                                                     \n",
              "2021-01-01 20:27:00                              140.667740      174.028030   \n",
              "2021-01-01 20:30:00                              135.837692      169.279572   \n",
              "2021-01-01 20:35:00                              125.420776      159.777908   \n",
              "2021-01-01 20:36:00                              131.538300      160.707367   \n",
              "2021-01-01 20:37:00                              134.686478      164.216827   \n",
              "\n",
              "                     wind_direction_raw  wind_speed_raw  \\\n",
              "timestamp                                                 \n",
              "2021-01-01 20:27:00           51.831135        7.345428   \n",
              "2021-01-01 20:30:00           50.499496        7.607543   \n",
              "2021-01-01 20:35:00           51.727501        7.150571   \n",
              "2021-01-01 20:36:00           52.921501        7.139572   \n",
              "2021-01-01 20:37:00           52.537315        7.302331   \n",
              "\n",
              "                     wind_speed_turbulence  turbine_id     Target  \n",
              "timestamp                                                          \n",
              "2021-01-01 20:27:00               0.318483  Turbine_01  46.682571  \n",
              "2021-01-01 20:30:00               0.297538  Turbine_01  46.645905  \n",
              "2021-01-01 20:35:00               0.309950  Turbine_01  46.645744  \n",
              "2021-01-01 20:36:00               0.324575  Turbine_01  46.617508  \n",
              "2021-01-01 20:37:00               0.308070  Turbine_01  46.633438  "
            ],
            "text/html": [
              "\n",
              "  <div id=\"df-ec7bf680-650e-46a9-92fd-f30a4e7cf59b\">\n",
              "    <div class=\"colab-df-container\">\n",
              "      <div>\n",
              "<style scoped>\n",
              "    .dataframe tbody tr th:only-of-type {\n",
              "        vertical-align: middle;\n",
              "    }\n",
              "\n",
              "    .dataframe tbody tr th {\n",
              "        vertical-align: top;\n",
              "    }\n",
              "\n",
              "    .dataframe thead th {\n",
              "        text-align: right;\n",
              "    }\n",
              "</style>\n",
              "<table border=\"1\" class=\"dataframe\">\n",
              "  <thead>\n",
              "    <tr style=\"text-align: right;\">\n",
              "      <th></th>\n",
              "      <th>active_power_calculated_by_converter</th>\n",
              "      <th>active_power_raw</th>\n",
              "      <th>ambient_temperature</th>\n",
              "      <th>generator_speed</th>\n",
              "      <th>generator_winding_temp_max</th>\n",
              "      <th>grid_power10min_average</th>\n",
              "      <th>nc1_inside_temp</th>\n",
              "      <th>nacelle_temp</th>\n",
              "      <th>reactice_power_calculated_by_converter</th>\n",
              "      <th>reactive_power</th>\n",
              "      <th>wind_direction_raw</th>\n",
              "      <th>wind_speed_raw</th>\n",
              "      <th>wind_speed_turbulence</th>\n",
              "      <th>turbine_id</th>\n",
              "      <th>Target</th>\n",
              "    </tr>\n",
              "    <tr>\n",
              "      <th>timestamp</th>\n",
              "      <th></th>\n",
              "      <th></th>\n",
              "      <th></th>\n",
              "      <th></th>\n",
              "      <th></th>\n",
              "      <th></th>\n",
              "      <th></th>\n",
              "      <th></th>\n",
              "      <th></th>\n",
              "      <th></th>\n",
              "      <th></th>\n",
              "      <th></th>\n",
              "      <th></th>\n",
              "      <th></th>\n",
              "      <th></th>\n",
              "    </tr>\n",
              "  </thead>\n",
              "  <tbody>\n",
              "    <tr>\n",
              "      <th>2021-01-01 20:27:00</th>\n",
              "      <td>716.153625</td>\n",
              "      <td>738.391174</td>\n",
              "      <td>12.833890</td>\n",
              "      <td>1113.618652</td>\n",
              "      <td>52.250389</td>\n",
              "      <td>643.019775</td>\n",
              "      <td>30.480120</td>\n",
              "      <td>24.793364</td>\n",
              "      <td>140.667740</td>\n",
              "      <td>174.028030</td>\n",
              "      <td>51.831135</td>\n",
              "      <td>7.345428</td>\n",
              "      <td>0.318483</td>\n",
              "      <td>Turbine_01</td>\n",
              "      <td>46.682571</td>\n",
              "    </tr>\n",
              "    <tr>\n",
              "      <th>2021-01-01 20:30:00</th>\n",
              "      <td>668.484070</td>\n",
              "      <td>691.595581</td>\n",
              "      <td>12.827969</td>\n",
              "      <td>1089.887207</td>\n",
              "      <td>52.109486</td>\n",
              "      <td>660.632812</td>\n",
              "      <td>30.429287</td>\n",
              "      <td>24.774328</td>\n",
              "      <td>135.837692</td>\n",
              "      <td>169.279572</td>\n",
              "      <td>50.499496</td>\n",
              "      <td>7.607543</td>\n",
              "      <td>0.297538</td>\n",
              "      <td>Turbine_01</td>\n",
              "      <td>46.645905</td>\n",
              "    </tr>\n",
              "    <tr>\n",
              "      <th>2021-01-01 20:35:00</th>\n",
              "      <td>619.715027</td>\n",
              "      <td>637.734863</td>\n",
              "      <td>12.800751</td>\n",
              "      <td>1061.761108</td>\n",
              "      <td>52.671341</td>\n",
              "      <td>658.606689</td>\n",
              "      <td>30.293150</td>\n",
              "      <td>24.653873</td>\n",
              "      <td>125.420776</td>\n",
              "      <td>159.777908</td>\n",
              "      <td>51.727501</td>\n",
              "      <td>7.150571</td>\n",
              "      <td>0.309950</td>\n",
              "      <td>Turbine_01</td>\n",
              "      <td>46.645744</td>\n",
              "    </tr>\n",
              "    <tr>\n",
              "      <th>2021-01-01 20:36:00</th>\n",
              "      <td>607.128601</td>\n",
              "      <td>627.410767</td>\n",
              "      <td>12.779938</td>\n",
              "      <td>1054.729614</td>\n",
              "      <td>52.599617</td>\n",
              "      <td>656.049316</td>\n",
              "      <td>30.243378</td>\n",
              "      <td>24.675203</td>\n",
              "      <td>131.538300</td>\n",
              "      <td>160.707367</td>\n",
              "      <td>52.921501</td>\n",
              "      <td>7.139572</td>\n",
              "      <td>0.324575</td>\n",
              "      <td>Turbine_01</td>\n",
              "      <td>46.617508</td>\n",
              "    </tr>\n",
              "    <tr>\n",
              "      <th>2021-01-01 20:37:00</th>\n",
              "      <td>619.598450</td>\n",
              "      <td>638.911377</td>\n",
              "      <td>12.773916</td>\n",
              "      <td>1061.468140</td>\n",
              "      <td>52.472519</td>\n",
              "      <td>653.701050</td>\n",
              "      <td>30.214264</td>\n",
              "      <td>24.657110</td>\n",
              "      <td>134.686478</td>\n",
              "      <td>164.216827</td>\n",
              "      <td>52.537315</td>\n",
              "      <td>7.302331</td>\n",
              "      <td>0.308070</td>\n",
              "      <td>Turbine_01</td>\n",
              "      <td>46.633438</td>\n",
              "    </tr>\n",
              "  </tbody>\n",
              "</table>\n",
              "</div>\n",
              "      <button class=\"colab-df-convert\" onclick=\"convertToInteractive('df-ec7bf680-650e-46a9-92fd-f30a4e7cf59b')\"\n",
              "              title=\"Convert this dataframe to an interactive table.\"\n",
              "              style=\"display:none;\">\n",
              "        \n",
              "  <svg xmlns=\"http://www.w3.org/2000/svg\" height=\"24px\"viewBox=\"0 0 24 24\"\n",
              "       width=\"24px\">\n",
              "    <path d=\"M0 0h24v24H0V0z\" fill=\"none\"/>\n",
              "    <path d=\"M18.56 5.44l.94 2.06.94-2.06 2.06-.94-2.06-.94-.94-2.06-.94 2.06-2.06.94zm-11 1L8.5 8.5l.94-2.06 2.06-.94-2.06-.94L8.5 2.5l-.94 2.06-2.06.94zm10 10l.94 2.06.94-2.06 2.06-.94-2.06-.94-.94-2.06-.94 2.06-2.06.94z\"/><path d=\"M17.41 7.96l-1.37-1.37c-.4-.4-.92-.59-1.43-.59-.52 0-1.04.2-1.43.59L10.3 9.45l-7.72 7.72c-.78.78-.78 2.05 0 2.83L4 21.41c.39.39.9.59 1.41.59.51 0 1.02-.2 1.41-.59l7.78-7.78 2.81-2.81c.8-.78.8-2.07 0-2.86zM5.41 20L4 18.59l7.72-7.72 1.47 1.35L5.41 20z\"/>\n",
              "  </svg>\n",
              "      </button>\n",
              "      \n",
              "  <style>\n",
              "    .colab-df-container {\n",
              "      display:flex;\n",
              "      flex-wrap:wrap;\n",
              "      gap: 12px;\n",
              "    }\n",
              "\n",
              "    .colab-df-convert {\n",
              "      background-color: #E8F0FE;\n",
              "      border: none;\n",
              "      border-radius: 50%;\n",
              "      cursor: pointer;\n",
              "      display: none;\n",
              "      fill: #1967D2;\n",
              "      height: 32px;\n",
              "      padding: 0 0 0 0;\n",
              "      width: 32px;\n",
              "    }\n",
              "\n",
              "    .colab-df-convert:hover {\n",
              "      background-color: #E2EBFA;\n",
              "      box-shadow: 0px 1px 2px rgba(60, 64, 67, 0.3), 0px 1px 3px 1px rgba(60, 64, 67, 0.15);\n",
              "      fill: #174EA6;\n",
              "    }\n",
              "\n",
              "    [theme=dark] .colab-df-convert {\n",
              "      background-color: #3B4455;\n",
              "      fill: #D2E3FC;\n",
              "    }\n",
              "\n",
              "    [theme=dark] .colab-df-convert:hover {\n",
              "      background-color: #434B5C;\n",
              "      box-shadow: 0px 1px 3px 1px rgba(0, 0, 0, 0.15);\n",
              "      filter: drop-shadow(0px 1px 2px rgba(0, 0, 0, 0.3));\n",
              "      fill: #FFFFFF;\n",
              "    }\n",
              "  </style>\n",
              "\n",
              "      <script>\n",
              "        const buttonEl =\n",
              "          document.querySelector('#df-ec7bf680-650e-46a9-92fd-f30a4e7cf59b button.colab-df-convert');\n",
              "        buttonEl.style.display =\n",
              "          google.colab.kernel.accessAllowed ? 'block' : 'none';\n",
              "\n",
              "        async function convertToInteractive(key) {\n",
              "          const element = document.querySelector('#df-ec7bf680-650e-46a9-92fd-f30a4e7cf59b');\n",
              "          const dataTable =\n",
              "            await google.colab.kernel.invokeFunction('convertToInteractive',\n",
              "                                                     [key], {});\n",
              "          if (!dataTable) return;\n",
              "\n",
              "          const docLinkHtml = 'Like what you see? Visit the ' +\n",
              "            '<a target=\"_blank\" href=https://colab.research.google.com/notebooks/data_table.ipynb>data table notebook</a>'\n",
              "            + ' to learn more about interactive tables.';\n",
              "          element.innerHTML = '';\n",
              "          dataTable['output_type'] = 'display_data';\n",
              "          await google.colab.output.renderOutput(dataTable, element);\n",
              "          const docLink = document.createElement('div');\n",
              "          docLink.innerHTML = docLinkHtml;\n",
              "          element.appendChild(docLink);\n",
              "        }\n",
              "      </script>\n",
              "    </div>\n",
              "  </div>\n",
              "  "
            ]
          },
          "metadata": {},
          "execution_count": 159
        }
      ]
    },
    {
      "cell_type": "code",
      "source": [
        "np.unique(d_1jan.index.hour)"
      ],
      "metadata": {
        "colab": {
          "base_uri": "https://localhost:8080/"
        },
        "id": "smVCO1MQw73G",
        "outputId": "dc4e40e7-9481-41b6-a165-5c68fca351dd"
      },
      "execution_count": null,
      "outputs": [
        {
          "output_type": "execute_result",
          "data": {
            "text/plain": [
              "array([20, 21, 22, 23])"
            ]
          },
          "metadata": {},
          "execution_count": 160
        }
      ]
    },
    {
      "cell_type": "code",
      "source": [
        "np.unique(dTurbine_01.index.day)"
      ],
      "metadata": {
        "colab": {
          "base_uri": "https://localhost:8080/"
        },
        "id": "6acEkkS8vrUd",
        "outputId": "8cb8186c-743e-4395-c8bc-e63355224ff6"
      },
      "execution_count": null,
      "outputs": [
        {
          "output_type": "execute_result",
          "data": {
            "text/plain": [
              "array([ 1,  2,  3,  4,  5,  6,  7,  8,  9, 10, 11, 12, 13, 14, 15, 16, 17,\n",
              "       18, 19, 20, 21, 22, 23, 24, 25, 26, 27, 28, 29, 30, 31])"
            ]
          },
          "metadata": {},
          "execution_count": 161
        }
      ]
    },
    {
      "cell_type": "markdown",
      "source": [
        "**CONCLUSION**<BR>\n",
        "<font color=blue>since we don't have each hour of the day for each day.<br>we can't use hour as a time interval.</br></font>"
      ],
      "metadata": {
        "id": "iYc2eJZt1Al1"
      }
    },
    {
      "cell_type": "markdown",
      "source": [
        "<font color=red>To make our analysis with data easy and efficient we are going  to use sqlite3 python framework to implement sql.<br>Also,putting missing dates in the  data."
      ],
      "metadata": {
        "id": "XF3RKkRz2P3a"
      }
    },
    {
      "cell_type": "code",
      "source": [
        "dTurbine_01['Date']=dTurbine_01.index.date"
      ],
      "metadata": {
        "colab": {
          "base_uri": "https://localhost:8080/"
        },
        "id": "OUl89nsR83_G",
        "outputId": "ed032039-3b9d-4158-ff0b-b6ed414772d6"
      },
      "execution_count": null,
      "outputs": [
        {
          "output_type": "stream",
          "name": "stderr",
          "text": [
            "<ipython-input-162-4c273297ae0c>:1: SettingWithCopyWarning:\n",
            "\n",
            "\n",
            "A value is trying to be set on a copy of a slice from a DataFrame.\n",
            "Try using .loc[row_indexer,col_indexer] = value instead\n",
            "\n",
            "See the caveats in the documentation: https://pandas.pydata.org/pandas-docs/stable/user_guide/indexing.html#returning-a-view-versus-a-copy\n",
            "\n"
          ]
        }
      ]
    },
    {
      "cell_type": "code",
      "source": [
        "dTurbine_01['Date']"
      ],
      "metadata": {
        "colab": {
          "base_uri": "https://localhost:8080/"
        },
        "id": "JZ7Zbpzt-siE",
        "outputId": "0b133250-8a12-49b5-f77e-154bed175e28"
      },
      "execution_count": null,
      "outputs": [
        {
          "output_type": "execute_result",
          "data": {
            "text/plain": [
              "timestamp\n",
              "2021-01-01 20:27:00    2021-01-01\n",
              "2021-01-01 20:30:00    2021-01-01\n",
              "2021-01-01 20:35:00    2021-01-01\n",
              "2021-01-01 20:36:00    2021-01-01\n",
              "2021-01-01 20:37:00    2021-01-01\n",
              "                          ...    \n",
              "2021-12-31 23:16:00    2021-12-31\n",
              "2021-12-31 23:30:00    2021-12-31\n",
              "2021-12-31 23:31:00    2021-12-31\n",
              "2021-12-31 23:33:00    2021-12-31\n",
              "2021-12-31 23:50:00    2021-12-31\n",
              "Name: Date, Length: 54171, dtype: object"
            ]
          },
          "metadata": {},
          "execution_count": 163
        }
      ]
    },
    {
      "cell_type": "code",
      "source": [
        "dTurbine_01.columns"
      ],
      "metadata": {
        "colab": {
          "base_uri": "https://localhost:8080/"
        },
        "id": "t3u9-JTS5NA6",
        "outputId": "8b8c6a18-e74c-46a0-a3b2-d278e34718a1"
      },
      "execution_count": null,
      "outputs": [
        {
          "output_type": "execute_result",
          "data": {
            "text/plain": [
              "Index(['active_power_calculated_by_converter', 'active_power_raw',\n",
              "       'ambient_temperature', 'generator_speed', 'generator_winding_temp_max',\n",
              "       'grid_power10min_average', 'nc1_inside_temp', 'nacelle_temp',\n",
              "       'reactice_power_calculated_by_converter', 'reactive_power',\n",
              "       'wind_direction_raw', 'wind_speed_raw', 'wind_speed_turbulence',\n",
              "       'turbine_id', 'Target', 'Date'],\n",
              "      dtype='object')"
            ]
          },
          "metadata": {},
          "execution_count": 164
        }
      ]
    },
    {
      "cell_type": "code",
      "source": [
        "import sqlite3"
      ],
      "metadata": {
        "id": "IeQfq4mZwVBC"
      },
      "execution_count": null,
      "outputs": []
    },
    {
      "cell_type": "code",
      "source": [
        "conn=sqlite3.connect('test_database_1')\n",
        "cur=conn.cursor()"
      ],
      "metadata": {
        "id": "DqLrqFXc3729"
      },
      "execution_count": null,
      "outputs": []
    },
    {
      "cell_type": "code",
      "source": [
        "cur.execute('CREATE TABLE IF NOT EXISTS DTurbine_01(active_power_calculated_by_converter, active_power_raw,ambient_temperature, generator_speed, generator_winding_temp_max,grid_power10min_average, nc1_inside_temp, nacelle_temp,reactice_power_calculated_by_converter, reactive_power,wind_direction_raw, wind_speed_raw, wind_speed_turbulence,turbine_id, Target,Date)')\n",
        "conn.commit()"
      ],
      "metadata": {
        "id": "rz961viG5Ai3"
      },
      "execution_count": null,
      "outputs": []
    },
    {
      "cell_type": "code",
      "source": [
        "dTurbine_01.to_sql('DTurbine_01',conn,if_exists='replace',index=True,index_label=['timestamp'])"
      ],
      "metadata": {
        "id": "exuRGSjt4dgR",
        "colab": {
          "base_uri": "https://localhost:8080/"
        },
        "outputId": "936b2a0e-ab42-4a27-909a-a433a3301cc7"
      },
      "execution_count": null,
      "outputs": [
        {
          "output_type": "execute_result",
          "data": {
            "text/plain": [
              "54171"
            ]
          },
          "metadata": {},
          "execution_count": 168
        }
      ]
    },
    {
      "cell_type": "code",
      "source": [
        "cur.execute('''\n",
        "   SELECT Date,turbine_id,AVG(Target) FROM DTurbine_01\n",
        "   GROUP BY Date\n",
        "   ''')"
      ],
      "metadata": {
        "colab": {
          "base_uri": "https://localhost:8080/"
        },
        "id": "TYn4MB0Y6_J4",
        "outputId": "07ac1b0a-5815-4db1-f0ae-f64108a43e42"
      },
      "execution_count": null,
      "outputs": [
        {
          "output_type": "execute_result",
          "data": {
            "text/plain": [
              "<sqlite3.Cursor at 0x7f5f21433340>"
            ]
          },
          "metadata": {},
          "execution_count": 169
        }
      ]
    },
    {
      "cell_type": "code",
      "source": [
        "dNew_01=pd.DataFrame(cur.fetchall(),columns=['Date','turbine_id','avg_Target'])"
      ],
      "metadata": {
        "id": "Wg-IJnNz7oV3"
      },
      "execution_count": null,
      "outputs": []
    },
    {
      "cell_type": "markdown",
      "source": [
        "<h1><font color='purple'><b>Multivariate Time Series</b></font></h1>"
      ],
      "metadata": {
        "id": "yZLhMedaRABd"
      }
    },
    {
      "cell_type": "code",
      "source": [
        "dTurbine_01.head(2)"
      ],
      "metadata": {
        "colab": {
          "base_uri": "https://localhost:8080/",
          "height": 277
        },
        "id": "ABfbdTt4Q56n",
        "outputId": "290c6a12-aeaf-45e2-9e8e-b52b877a0715"
      },
      "execution_count": null,
      "outputs": [
        {
          "output_type": "execute_result",
          "data": {
            "text/plain": [
              "                     active_power_calculated_by_converter  active_power_raw  \\\n",
              "timestamp                                                                     \n",
              "2021-01-01 20:27:00                            716.153625        738.391174   \n",
              "2021-01-01 20:38:00                            630.513916        649.101624   \n",
              "\n",
              "                     ambient_temperature  generator_speed  \\\n",
              "timestamp                                                   \n",
              "2021-01-01 20:27:00            12.833890      1113.618652   \n",
              "2021-01-01 20:38:00            12.770711      1067.620850   \n",
              "\n",
              "                     generator_winding_temp_max  grid_power10min_average  \\\n",
              "timestamp                                                                  \n",
              "2021-01-01 20:27:00                   52.250389               643.019775   \n",
              "2021-01-01 20:38:00                   52.271442               652.938110   \n",
              "\n",
              "                     nc1_inside_temp  nacelle_temp  \\\n",
              "timestamp                                            \n",
              "2021-01-01 20:27:00        30.480120     24.793364   \n",
              "2021-01-01 20:38:00        30.194574     24.631500   \n",
              "\n",
              "                     reactice_power_calculated_by_converter  reactive_power  \\\n",
              "timestamp                                                                     \n",
              "2021-01-01 20:27:00                               140.66774      174.028030   \n",
              "2021-01-01 20:38:00                               130.99025      166.114319   \n",
              "\n",
              "                     wind_direction_raw  wind_speed_raw  \\\n",
              "timestamp                                                 \n",
              "2021-01-01 20:27:00           51.831135        7.345428   \n",
              "2021-01-01 20:38:00           52.886063        7.507572   \n",
              "\n",
              "                     wind_speed_turbulence  turbine_id     Target        Date  \n",
              "timestamp                                                                      \n",
              "2021-01-01 20:27:00               0.318483  Turbine_01  46.682571  2021-01-01  \n",
              "2021-01-01 20:38:00               0.333520  Turbine_01  46.611885  2021-01-01  "
            ],
            "text/html": [
              "\n",
              "  <div id=\"df-c5c80a7d-cda8-45e5-a475-6133f9bbe08b\">\n",
              "    <div class=\"colab-df-container\">\n",
              "      <div>\n",
              "<style scoped>\n",
              "    .dataframe tbody tr th:only-of-type {\n",
              "        vertical-align: middle;\n",
              "    }\n",
              "\n",
              "    .dataframe tbody tr th {\n",
              "        vertical-align: top;\n",
              "    }\n",
              "\n",
              "    .dataframe thead th {\n",
              "        text-align: right;\n",
              "    }\n",
              "</style>\n",
              "<table border=\"1\" class=\"dataframe\">\n",
              "  <thead>\n",
              "    <tr style=\"text-align: right;\">\n",
              "      <th></th>\n",
              "      <th>active_power_calculated_by_converter</th>\n",
              "      <th>active_power_raw</th>\n",
              "      <th>ambient_temperature</th>\n",
              "      <th>generator_speed</th>\n",
              "      <th>generator_winding_temp_max</th>\n",
              "      <th>grid_power10min_average</th>\n",
              "      <th>nc1_inside_temp</th>\n",
              "      <th>nacelle_temp</th>\n",
              "      <th>reactice_power_calculated_by_converter</th>\n",
              "      <th>reactive_power</th>\n",
              "      <th>wind_direction_raw</th>\n",
              "      <th>wind_speed_raw</th>\n",
              "      <th>wind_speed_turbulence</th>\n",
              "      <th>turbine_id</th>\n",
              "      <th>Target</th>\n",
              "      <th>Date</th>\n",
              "    </tr>\n",
              "    <tr>\n",
              "      <th>timestamp</th>\n",
              "      <th></th>\n",
              "      <th></th>\n",
              "      <th></th>\n",
              "      <th></th>\n",
              "      <th></th>\n",
              "      <th></th>\n",
              "      <th></th>\n",
              "      <th></th>\n",
              "      <th></th>\n",
              "      <th></th>\n",
              "      <th></th>\n",
              "      <th></th>\n",
              "      <th></th>\n",
              "      <th></th>\n",
              "      <th></th>\n",
              "      <th></th>\n",
              "    </tr>\n",
              "  </thead>\n",
              "  <tbody>\n",
              "    <tr>\n",
              "      <th>2021-01-01 20:27:00</th>\n",
              "      <td>716.153625</td>\n",
              "      <td>738.391174</td>\n",
              "      <td>12.833890</td>\n",
              "      <td>1113.618652</td>\n",
              "      <td>52.250389</td>\n",
              "      <td>643.019775</td>\n",
              "      <td>30.480120</td>\n",
              "      <td>24.793364</td>\n",
              "      <td>140.66774</td>\n",
              "      <td>174.028030</td>\n",
              "      <td>51.831135</td>\n",
              "      <td>7.345428</td>\n",
              "      <td>0.318483</td>\n",
              "      <td>Turbine_01</td>\n",
              "      <td>46.682571</td>\n",
              "      <td>2021-01-01</td>\n",
              "    </tr>\n",
              "    <tr>\n",
              "      <th>2021-01-01 20:38:00</th>\n",
              "      <td>630.513916</td>\n",
              "      <td>649.101624</td>\n",
              "      <td>12.770711</td>\n",
              "      <td>1067.620850</td>\n",
              "      <td>52.271442</td>\n",
              "      <td>652.938110</td>\n",
              "      <td>30.194574</td>\n",
              "      <td>24.631500</td>\n",
              "      <td>130.99025</td>\n",
              "      <td>166.114319</td>\n",
              "      <td>52.886063</td>\n",
              "      <td>7.507572</td>\n",
              "      <td>0.333520</td>\n",
              "      <td>Turbine_01</td>\n",
              "      <td>46.611885</td>\n",
              "      <td>2021-01-01</td>\n",
              "    </tr>\n",
              "  </tbody>\n",
              "</table>\n",
              "</div>\n",
              "      <button class=\"colab-df-convert\" onclick=\"convertToInteractive('df-c5c80a7d-cda8-45e5-a475-6133f9bbe08b')\"\n",
              "              title=\"Convert this dataframe to an interactive table.\"\n",
              "              style=\"display:none;\">\n",
              "        \n",
              "  <svg xmlns=\"http://www.w3.org/2000/svg\" height=\"24px\"viewBox=\"0 0 24 24\"\n",
              "       width=\"24px\">\n",
              "    <path d=\"M0 0h24v24H0V0z\" fill=\"none\"/>\n",
              "    <path d=\"M18.56 5.44l.94 2.06.94-2.06 2.06-.94-2.06-.94-.94-2.06-.94 2.06-2.06.94zm-11 1L8.5 8.5l.94-2.06 2.06-.94-2.06-.94L8.5 2.5l-.94 2.06-2.06.94zm10 10l.94 2.06.94-2.06 2.06-.94-2.06-.94-.94-2.06-.94 2.06-2.06.94z\"/><path d=\"M17.41 7.96l-1.37-1.37c-.4-.4-.92-.59-1.43-.59-.52 0-1.04.2-1.43.59L10.3 9.45l-7.72 7.72c-.78.78-.78 2.05 0 2.83L4 21.41c.39.39.9.59 1.41.59.51 0 1.02-.2 1.41-.59l7.78-7.78 2.81-2.81c.8-.78.8-2.07 0-2.86zM5.41 20L4 18.59l7.72-7.72 1.47 1.35L5.41 20z\"/>\n",
              "  </svg>\n",
              "      </button>\n",
              "      \n",
              "  <style>\n",
              "    .colab-df-container {\n",
              "      display:flex;\n",
              "      flex-wrap:wrap;\n",
              "      gap: 12px;\n",
              "    }\n",
              "\n",
              "    .colab-df-convert {\n",
              "      background-color: #E8F0FE;\n",
              "      border: none;\n",
              "      border-radius: 50%;\n",
              "      cursor: pointer;\n",
              "      display: none;\n",
              "      fill: #1967D2;\n",
              "      height: 32px;\n",
              "      padding: 0 0 0 0;\n",
              "      width: 32px;\n",
              "    }\n",
              "\n",
              "    .colab-df-convert:hover {\n",
              "      background-color: #E2EBFA;\n",
              "      box-shadow: 0px 1px 2px rgba(60, 64, 67, 0.3), 0px 1px 3px 1px rgba(60, 64, 67, 0.15);\n",
              "      fill: #174EA6;\n",
              "    }\n",
              "\n",
              "    [theme=dark] .colab-df-convert {\n",
              "      background-color: #3B4455;\n",
              "      fill: #D2E3FC;\n",
              "    }\n",
              "\n",
              "    [theme=dark] .colab-df-convert:hover {\n",
              "      background-color: #434B5C;\n",
              "      box-shadow: 0px 1px 3px 1px rgba(0, 0, 0, 0.15);\n",
              "      filter: drop-shadow(0px 1px 2px rgba(0, 0, 0, 0.3));\n",
              "      fill: #FFFFFF;\n",
              "    }\n",
              "  </style>\n",
              "\n",
              "      <script>\n",
              "        const buttonEl =\n",
              "          document.querySelector('#df-c5c80a7d-cda8-45e5-a475-6133f9bbe08b button.colab-df-convert');\n",
              "        buttonEl.style.display =\n",
              "          google.colab.kernel.accessAllowed ? 'block' : 'none';\n",
              "\n",
              "        async function convertToInteractive(key) {\n",
              "          const element = document.querySelector('#df-c5c80a7d-cda8-45e5-a475-6133f9bbe08b');\n",
              "          const dataTable =\n",
              "            await google.colab.kernel.invokeFunction('convertToInteractive',\n",
              "                                                     [key], {});\n",
              "          if (!dataTable) return;\n",
              "\n",
              "          const docLinkHtml = 'Like what you see? Visit the ' +\n",
              "            '<a target=\"_blank\" href=https://colab.research.google.com/notebooks/data_table.ipynb>data table notebook</a>'\n",
              "            + ' to learn more about interactive tables.';\n",
              "          element.innerHTML = '';\n",
              "          dataTable['output_type'] = 'display_data';\n",
              "          await google.colab.output.renderOutput(dataTable, element);\n",
              "          const docLink = document.createElement('div');\n",
              "          docLink.innerHTML = docLinkHtml;\n",
              "          element.appendChild(docLink);\n",
              "        }\n",
              "      </script>\n",
              "    </div>\n",
              "  </div>\n",
              "  "
            ]
          },
          "metadata": {},
          "execution_count": 23
        }
      ]
    },
    {
      "cell_type": "code",
      "source": [
        "cur.execute('''\n",
        "   SELECT Date,turbine_id,AVG(active_power_calculated_by_converter),AVG(active_power_raw),AVG(ambient_temperature),AVG(generator_speed),\n",
        "   AVG(generator_winding_temp_max),AVG(grid_power10min_average),AVG(nc1_inside_temp),AVG(nacelle_temp),\n",
        "   AVG(reactice_power_calculated_by_converter),AVG(reactive_power),AVG(wind_direction_raw),AVG(wind_speed_raw),AVG(wind_speed_turbulence),\n",
        "   AVG(Target) FROM DTurbine_01\n",
        "   GROUP BY Date\n",
        "   ''')"
      ],
      "metadata": {
        "colab": {
          "base_uri": "https://localhost:8080/"
        },
        "id": "g7brLMszRMrp",
        "outputId": "e8658e5d-df3f-4812-c962-7534e618f45b"
      },
      "execution_count": null,
      "outputs": [
        {
          "output_type": "execute_result",
          "data": {
            "text/plain": [
              "<sqlite3.Cursor at 0x7f6ca5febab0>"
            ]
          },
          "metadata": {},
          "execution_count": 24
        }
      ]
    },
    {
      "cell_type": "code",
      "source": [
        "data.columns"
      ],
      "metadata": {
        "colab": {
          "base_uri": "https://localhost:8080/"
        },
        "id": "-sFSXzYHTf4k",
        "outputId": "e26de093-857a-4b13-dff2-18e9957040a8"
      },
      "execution_count": null,
      "outputs": [
        {
          "output_type": "execute_result",
          "data": {
            "text/plain": [
              "Index(['active_power_calculated_by_converter', 'active_power_raw',\n",
              "       'ambient_temperature', 'generator_speed', 'generator_winding_temp_max',\n",
              "       'grid_power10min_average', 'nc1_inside_temp', 'nacelle_temp',\n",
              "       'reactice_power_calculated_by_converter', 'reactive_power',\n",
              "       'wind_direction_raw', 'wind_speed_raw', 'wind_speed_turbulence',\n",
              "       'turbine_id', 'Target'],\n",
              "      dtype='object')"
            ]
          },
          "metadata": {},
          "execution_count": 25
        }
      ]
    },
    {
      "cell_type": "code",
      "source": [
        "data_mv=pd.DataFrame(cur.fetchall(),columns=['Date','turbine_id','active_power_calculated_by_converter', 'active_power_raw',\n",
        "       'ambient_temperature', 'generator_speed', 'generator_winding_temp_max','grid_power10min_average', 'nc1_inside_temp', 'nacelle_temp','reactice_power_calculated_by_converter', 'reactive_power',\n",
        "       'wind_direction_raw', 'wind_speed_raw', 'wind_speed_turbulence', 'Target'])"
      ],
      "metadata": {
        "id": "SPZNGSu7TZJ8"
      },
      "execution_count": null,
      "outputs": []
    },
    {
      "cell_type": "code",
      "source": [
        "data_mv.isnull().sum()"
      ],
      "metadata": {
        "colab": {
          "base_uri": "https://localhost:8080/"
        },
        "id": "B1u8tw0fT48e",
        "outputId": "531c449f-1777-43bf-94cf-6def019f571c"
      },
      "execution_count": null,
      "outputs": [
        {
          "output_type": "execute_result",
          "data": {
            "text/plain": [
              "Date                                      0\n",
              "turbine_id                                0\n",
              "active_power_calculated_by_converter      0\n",
              "active_power_raw                          0\n",
              "ambient_temperature                       0\n",
              "generator_speed                           0\n",
              "generator_winding_temp_max                0\n",
              "grid_power10min_average                   0\n",
              "nc1_inside_temp                           0\n",
              "nacelle_temp                              0\n",
              "reactice_power_calculated_by_converter    0\n",
              "reactive_power                            0\n",
              "wind_direction_raw                        0\n",
              "wind_speed_raw                            0\n",
              "wind_speed_turbulence                     0\n",
              "Target                                    0\n",
              "dtype: int64"
            ]
          },
          "metadata": {},
          "execution_count": 27
        }
      ]
    },
    {
      "cell_type": "code",
      "source": [
        "data_mv.shape"
      ],
      "metadata": {
        "id": "0BCjTeaOUFzg",
        "outputId": "4d0ab44a-1040-4251-fe77-05e1dda8a9a1",
        "colab": {
          "base_uri": "https://localhost:8080/"
        }
      },
      "execution_count": null,
      "outputs": [
        {
          "output_type": "execute_result",
          "data": {
            "text/plain": [
              "(351, 16)"
            ]
          },
          "metadata": {},
          "execution_count": 28
        }
      ]
    },
    {
      "cell_type": "code",
      "source": [
        "data_mv.head()"
      ],
      "metadata": {
        "id": "Qh2hG5iOULFR",
        "colab": {
          "base_uri": "https://localhost:8080/",
          "height": 357
        },
        "outputId": "6a03928c-137c-4840-a1e7-c933e6fc3e05"
      },
      "execution_count": null,
      "outputs": [
        {
          "output_type": "execute_result",
          "data": {
            "text/plain": [
              "         Date  turbine_id  active_power_calculated_by_converter  \\\n",
              "0  2021-01-01  Turbine_01                            515.135620   \n",
              "1  2021-01-02  Turbine_01                            242.046833   \n",
              "2  2021-01-03  Turbine_01                            198.248418   \n",
              "3  2021-01-15  Turbine_01                            151.472192   \n",
              "4  2021-01-16  Turbine_01                            294.870429   \n",
              "\n",
              "   active_power_raw  ambient_temperature  generator_speed  \\\n",
              "0        528.020604            12.653049       989.437636   \n",
              "1        244.561774            12.648963       841.609660   \n",
              "2        202.726076            12.184353       827.521644   \n",
              "3        157.879971            16.590205       763.986206   \n",
              "4        296.898246            22.390095       870.482881   \n",
              "\n",
              "   generator_winding_temp_max  grid_power10min_average  nc1_inside_temp  \\\n",
              "0                   53.134246               533.605884        29.232762   \n",
              "1                   45.519322               222.844642        28.595353   \n",
              "2                   48.033284               205.618807        27.601759   \n",
              "3                   46.826955               126.193919        32.316927   \n",
              "4                   49.280830               277.858467        30.895856   \n",
              "\n",
              "   nacelle_temp  reactice_power_calculated_by_converter  reactive_power  \\\n",
              "0     24.438631                              122.450394      151.046875   \n",
              "1     24.439168                               98.228780      114.999430   \n",
              "2     23.387642                               96.280394      112.187149   \n",
              "3     29.237328                               93.335930      107.212178   \n",
              "4     26.853914                              106.429406      127.353516   \n",
              "\n",
              "   wind_direction_raw  wind_speed_raw  wind_speed_turbulence     Target  \n",
              "0           49.285138        6.873621               0.345558  46.756965  \n",
              "1           41.031544        5.059726               0.393491  45.989674  \n",
              "2           49.615854        5.003497               0.345447  45.946105  \n",
              "3           43.782910        5.181084               0.337958  48.167165  \n",
              "4           64.282560        5.462210               0.420109  46.430029  "
            ],
            "text/html": [
              "\n",
              "  <div id=\"df-f3d5ee64-bae4-42b4-8ccc-65bfa52d6a54\">\n",
              "    <div class=\"colab-df-container\">\n",
              "      <div>\n",
              "<style scoped>\n",
              "    .dataframe tbody tr th:only-of-type {\n",
              "        vertical-align: middle;\n",
              "    }\n",
              "\n",
              "    .dataframe tbody tr th {\n",
              "        vertical-align: top;\n",
              "    }\n",
              "\n",
              "    .dataframe thead th {\n",
              "        text-align: right;\n",
              "    }\n",
              "</style>\n",
              "<table border=\"1\" class=\"dataframe\">\n",
              "  <thead>\n",
              "    <tr style=\"text-align: right;\">\n",
              "      <th></th>\n",
              "      <th>Date</th>\n",
              "      <th>turbine_id</th>\n",
              "      <th>active_power_calculated_by_converter</th>\n",
              "      <th>active_power_raw</th>\n",
              "      <th>ambient_temperature</th>\n",
              "      <th>generator_speed</th>\n",
              "      <th>generator_winding_temp_max</th>\n",
              "      <th>grid_power10min_average</th>\n",
              "      <th>nc1_inside_temp</th>\n",
              "      <th>nacelle_temp</th>\n",
              "      <th>reactice_power_calculated_by_converter</th>\n",
              "      <th>reactive_power</th>\n",
              "      <th>wind_direction_raw</th>\n",
              "      <th>wind_speed_raw</th>\n",
              "      <th>wind_speed_turbulence</th>\n",
              "      <th>Target</th>\n",
              "    </tr>\n",
              "  </thead>\n",
              "  <tbody>\n",
              "    <tr>\n",
              "      <th>0</th>\n",
              "      <td>2021-01-01</td>\n",
              "      <td>Turbine_01</td>\n",
              "      <td>515.135620</td>\n",
              "      <td>528.020604</td>\n",
              "      <td>12.653049</td>\n",
              "      <td>989.437636</td>\n",
              "      <td>53.134246</td>\n",
              "      <td>533.605884</td>\n",
              "      <td>29.232762</td>\n",
              "      <td>24.438631</td>\n",
              "      <td>122.450394</td>\n",
              "      <td>151.046875</td>\n",
              "      <td>49.285138</td>\n",
              "      <td>6.873621</td>\n",
              "      <td>0.345558</td>\n",
              "      <td>46.756965</td>\n",
              "    </tr>\n",
              "    <tr>\n",
              "      <th>1</th>\n",
              "      <td>2021-01-02</td>\n",
              "      <td>Turbine_01</td>\n",
              "      <td>242.046833</td>\n",
              "      <td>244.561774</td>\n",
              "      <td>12.648963</td>\n",
              "      <td>841.609660</td>\n",
              "      <td>45.519322</td>\n",
              "      <td>222.844642</td>\n",
              "      <td>28.595353</td>\n",
              "      <td>24.439168</td>\n",
              "      <td>98.228780</td>\n",
              "      <td>114.999430</td>\n",
              "      <td>41.031544</td>\n",
              "      <td>5.059726</td>\n",
              "      <td>0.393491</td>\n",
              "      <td>45.989674</td>\n",
              "    </tr>\n",
              "    <tr>\n",
              "      <th>2</th>\n",
              "      <td>2021-01-03</td>\n",
              "      <td>Turbine_01</td>\n",
              "      <td>198.248418</td>\n",
              "      <td>202.726076</td>\n",
              "      <td>12.184353</td>\n",
              "      <td>827.521644</td>\n",
              "      <td>48.033284</td>\n",
              "      <td>205.618807</td>\n",
              "      <td>27.601759</td>\n",
              "      <td>23.387642</td>\n",
              "      <td>96.280394</td>\n",
              "      <td>112.187149</td>\n",
              "      <td>49.615854</td>\n",
              "      <td>5.003497</td>\n",
              "      <td>0.345447</td>\n",
              "      <td>45.946105</td>\n",
              "    </tr>\n",
              "    <tr>\n",
              "      <th>3</th>\n",
              "      <td>2021-01-15</td>\n",
              "      <td>Turbine_01</td>\n",
              "      <td>151.472192</td>\n",
              "      <td>157.879971</td>\n",
              "      <td>16.590205</td>\n",
              "      <td>763.986206</td>\n",
              "      <td>46.826955</td>\n",
              "      <td>126.193919</td>\n",
              "      <td>32.316927</td>\n",
              "      <td>29.237328</td>\n",
              "      <td>93.335930</td>\n",
              "      <td>107.212178</td>\n",
              "      <td>43.782910</td>\n",
              "      <td>5.181084</td>\n",
              "      <td>0.337958</td>\n",
              "      <td>48.167165</td>\n",
              "    </tr>\n",
              "    <tr>\n",
              "      <th>4</th>\n",
              "      <td>2021-01-16</td>\n",
              "      <td>Turbine_01</td>\n",
              "      <td>294.870429</td>\n",
              "      <td>296.898246</td>\n",
              "      <td>22.390095</td>\n",
              "      <td>870.482881</td>\n",
              "      <td>49.280830</td>\n",
              "      <td>277.858467</td>\n",
              "      <td>30.895856</td>\n",
              "      <td>26.853914</td>\n",
              "      <td>106.429406</td>\n",
              "      <td>127.353516</td>\n",
              "      <td>64.282560</td>\n",
              "      <td>5.462210</td>\n",
              "      <td>0.420109</td>\n",
              "      <td>46.430029</td>\n",
              "    </tr>\n",
              "  </tbody>\n",
              "</table>\n",
              "</div>\n",
              "      <button class=\"colab-df-convert\" onclick=\"convertToInteractive('df-f3d5ee64-bae4-42b4-8ccc-65bfa52d6a54')\"\n",
              "              title=\"Convert this dataframe to an interactive table.\"\n",
              "              style=\"display:none;\">\n",
              "        \n",
              "  <svg xmlns=\"http://www.w3.org/2000/svg\" height=\"24px\"viewBox=\"0 0 24 24\"\n",
              "       width=\"24px\">\n",
              "    <path d=\"M0 0h24v24H0V0z\" fill=\"none\"/>\n",
              "    <path d=\"M18.56 5.44l.94 2.06.94-2.06 2.06-.94-2.06-.94-.94-2.06-.94 2.06-2.06.94zm-11 1L8.5 8.5l.94-2.06 2.06-.94-2.06-.94L8.5 2.5l-.94 2.06-2.06.94zm10 10l.94 2.06.94-2.06 2.06-.94-2.06-.94-.94-2.06-.94 2.06-2.06.94z\"/><path d=\"M17.41 7.96l-1.37-1.37c-.4-.4-.92-.59-1.43-.59-.52 0-1.04.2-1.43.59L10.3 9.45l-7.72 7.72c-.78.78-.78 2.05 0 2.83L4 21.41c.39.39.9.59 1.41.59.51 0 1.02-.2 1.41-.59l7.78-7.78 2.81-2.81c.8-.78.8-2.07 0-2.86zM5.41 20L4 18.59l7.72-7.72 1.47 1.35L5.41 20z\"/>\n",
              "  </svg>\n",
              "      </button>\n",
              "      \n",
              "  <style>\n",
              "    .colab-df-container {\n",
              "      display:flex;\n",
              "      flex-wrap:wrap;\n",
              "      gap: 12px;\n",
              "    }\n",
              "\n",
              "    .colab-df-convert {\n",
              "      background-color: #E8F0FE;\n",
              "      border: none;\n",
              "      border-radius: 50%;\n",
              "      cursor: pointer;\n",
              "      display: none;\n",
              "      fill: #1967D2;\n",
              "      height: 32px;\n",
              "      padding: 0 0 0 0;\n",
              "      width: 32px;\n",
              "    }\n",
              "\n",
              "    .colab-df-convert:hover {\n",
              "      background-color: #E2EBFA;\n",
              "      box-shadow: 0px 1px 2px rgba(60, 64, 67, 0.3), 0px 1px 3px 1px rgba(60, 64, 67, 0.15);\n",
              "      fill: #174EA6;\n",
              "    }\n",
              "\n",
              "    [theme=dark] .colab-df-convert {\n",
              "      background-color: #3B4455;\n",
              "      fill: #D2E3FC;\n",
              "    }\n",
              "\n",
              "    [theme=dark] .colab-df-convert:hover {\n",
              "      background-color: #434B5C;\n",
              "      box-shadow: 0px 1px 3px 1px rgba(0, 0, 0, 0.15);\n",
              "      filter: drop-shadow(0px 1px 2px rgba(0, 0, 0, 0.3));\n",
              "      fill: #FFFFFF;\n",
              "    }\n",
              "  </style>\n",
              "\n",
              "      <script>\n",
              "        const buttonEl =\n",
              "          document.querySelector('#df-f3d5ee64-bae4-42b4-8ccc-65bfa52d6a54 button.colab-df-convert');\n",
              "        buttonEl.style.display =\n",
              "          google.colab.kernel.accessAllowed ? 'block' : 'none';\n",
              "\n",
              "        async function convertToInteractive(key) {\n",
              "          const element = document.querySelector('#df-f3d5ee64-bae4-42b4-8ccc-65bfa52d6a54');\n",
              "          const dataTable =\n",
              "            await google.colab.kernel.invokeFunction('convertToInteractive',\n",
              "                                                     [key], {});\n",
              "          if (!dataTable) return;\n",
              "\n",
              "          const docLinkHtml = 'Like what you see? Visit the ' +\n",
              "            '<a target=\"_blank\" href=https://colab.research.google.com/notebooks/data_table.ipynb>data table notebook</a>'\n",
              "            + ' to learn more about interactive tables.';\n",
              "          element.innerHTML = '';\n",
              "          dataTable['output_type'] = 'display_data';\n",
              "          await google.colab.output.renderOutput(dataTable, element);\n",
              "          const docLink = document.createElement('div');\n",
              "          docLink.innerHTML = docLinkHtml;\n",
              "          element.appendChild(docLink);\n",
              "        }\n",
              "      </script>\n",
              "    </div>\n",
              "  </div>\n",
              "  "
            ]
          },
          "metadata": {},
          "execution_count": 29
        }
      ]
    },
    {
      "cell_type": "markdown",
      "source": [
        "<h2><b>Check for stationarity</b><h2\n",
        "\n",
        "```\n",
        "# This is formatted as code\n",
        "```\n",
        "\n",
        ">"
      ],
      "metadata": {
        "id": "zP9loqlCaTA-"
      }
    },
    {
      "cell_type": "code",
      "source": [
        "from statsmodels.tsa.api import adfuller\n",
        "for i in range(len(data_mv.columns[2:])):\n",
        "  result=adfuller(data_mv[data_mv.columns[i+2]])\n",
        "\n",
        "  if result[1]>0.05:\n",
        "    print('{} - series is not stationary'.format(data_mv.columns[i+2]))\n",
        "\n",
        "  else:\n",
        "    print('{} - series is stationary'.format(data_mv.columns[i+2]))"
      ],
      "metadata": {
        "colab": {
          "base_uri": "https://localhost:8080/"
        },
        "id": "sTY1kPbtWJrE",
        "outputId": "2a4219f8-0d8f-40ab-8b8a-697196551eb1"
      },
      "execution_count": null,
      "outputs": [
        {
          "output_type": "stream",
          "name": "stdout",
          "text": [
            "active_power_calculated_by_converter - series is stationary\n",
            "active_power_raw - series is stationary\n",
            "ambient_temperature - series is not stationary\n",
            "generator_speed - series is stationary\n",
            "generator_winding_temp_max - series is not stationary\n",
            "grid_power10min_average - series is stationary\n",
            "nc1_inside_temp - series is stationary\n",
            "nacelle_temp - series is not stationary\n",
            "reactice_power_calculated_by_converter - series is stationary\n",
            "reactive_power - series is stationary\n",
            "wind_direction_raw - series is not stationary\n",
            "wind_speed_raw - series is stationary\n",
            "wind_speed_turbulence - series is stationary\n",
            "Target - series is not stationary\n"
          ]
        }
      ]
    },
    {
      "cell_type": "code",
      "source": [
        "data_mv.info()"
      ],
      "metadata": {
        "colab": {
          "base_uri": "https://localhost:8080/"
        },
        "id": "aQ9YXQtwYzw7",
        "outputId": "c72b828f-8d3e-424b-dea2-1a70fbd38941"
      },
      "execution_count": null,
      "outputs": [
        {
          "output_type": "stream",
          "name": "stdout",
          "text": [
            "<class 'pandas.core.frame.DataFrame'>\n",
            "RangeIndex: 351 entries, 0 to 350\n",
            "Data columns (total 16 columns):\n",
            " #   Column                                  Non-Null Count  Dtype  \n",
            "---  ------                                  --------------  -----  \n",
            " 0   Date                                    351 non-null    object \n",
            " 1   turbine_id                              351 non-null    object \n",
            " 2   active_power_calculated_by_converter    351 non-null    float64\n",
            " 3   active_power_raw                        351 non-null    float64\n",
            " 4   ambient_temperature                     351 non-null    float64\n",
            " 5   generator_speed                         351 non-null    float64\n",
            " 6   generator_winding_temp_max              351 non-null    float64\n",
            " 7   grid_power10min_average                 351 non-null    float64\n",
            " 8   nc1_inside_temp                         351 non-null    float64\n",
            " 9   nacelle_temp                            351 non-null    float64\n",
            " 10  reactice_power_calculated_by_converter  351 non-null    float64\n",
            " 11  reactive_power                          351 non-null    float64\n",
            " 12  wind_direction_raw                      351 non-null    float64\n",
            " 13  wind_speed_raw                          351 non-null    float64\n",
            " 14  wind_speed_turbulence                   351 non-null    float64\n",
            " 15  Target                                  351 non-null    float64\n",
            "dtypes: float64(14), object(2)\n",
            "memory usage: 44.0+ KB\n"
          ]
        }
      ]
    },
    {
      "cell_type": "markdown",
      "source": [
        "<h2><b>making stationary</b><h2"
      ],
      "metadata": {
        "id": "7G_AoJspanRN"
      }
    },
    {
      "cell_type": "code",
      "source": [
        "nobs=4\n",
        "df_train,df_test=data_mv[0:-nobs],data_mv[-nobs:]\n",
        "df_differenced=df_train.select_dtypes(include=['float64']).diff().dropna()\n",
        "df_differenced.head()\n",
        "for i in range(len(df_differenced.columns)):\n",
        "  result=adfuller(df_differenced[df_differenced.columns[i]])\n",
        "\n",
        "  if result[1]>0.05:\n",
        "    print('{} - series is not stationary'.format(df_differenced.columns[i]))\n",
        "\n",
        "  else:\n",
        "    print('{} - series is stationary'.format(df_differenced.columns[i]))"
      ],
      "metadata": {
        "colab": {
          "base_uri": "https://localhost:8080/"
        },
        "id": "AA50vQHFXyz1",
        "outputId": "59aa7d99-3c23-42e7-dfd9-42ef745eeb79"
      },
      "execution_count": null,
      "outputs": [
        {
          "output_type": "stream",
          "name": "stdout",
          "text": [
            "active_power_calculated_by_converter - series is stationary\n",
            "active_power_raw - series is stationary\n",
            "ambient_temperature - series is stationary\n",
            "generator_speed - series is stationary\n",
            "generator_winding_temp_max - series is stationary\n",
            "grid_power10min_average - series is stationary\n",
            "nc1_inside_temp - series is stationary\n",
            "nacelle_temp - series is stationary\n",
            "reactice_power_calculated_by_converter - series is stationary\n",
            "reactive_power - series is stationary\n",
            "wind_direction_raw - series is stationary\n",
            "wind_speed_raw - series is stationary\n",
            "wind_speed_turbulence - series is stationary\n",
            "Target - series is stationary\n"
          ]
        }
      ]
    },
    {
      "cell_type": "markdown",
      "source": [
        "<h2><b>Selecting order(P) of VAR model</b><h2"
      ],
      "metadata": {
        "id": "8qzRNIv5askS"
      }
    },
    {
      "cell_type": "code",
      "source": [
        "from statsmodels.tsa.api import VAR\n",
        "model=VAR(df_differenced)\n",
        "x=model.select_order(maxlags=12)\n",
        "x.summary()"
      ],
      "metadata": {
        "colab": {
          "base_uri": "https://localhost:8080/",
          "height": 401
        },
        "id": "m8U0LMKUZxBc",
        "outputId": "d2960b76-f4ff-4605-acec-1d1d33c4d5cf"
      },
      "execution_count": null,
      "outputs": [
        {
          "output_type": "stream",
          "name": "stderr",
          "text": [
            "/usr/local/lib/python3.8/dist-packages/statsmodels/tsa/base/tsa_model.py:578: ValueWarning: An unsupported index was provided and will be ignored when e.g. forecasting.\n",
            "  warnings.warn('An unsupported index was provided and will be'\n"
          ]
        },
        {
          "output_type": "execute_result",
          "data": {
            "text/plain": [
              "<class 'statsmodels.iolib.table.SimpleTable'>"
            ],
            "text/html": [
              "<table class=\"simpletable\">\n",
              "<caption>VAR Order Selection (* highlights the minimums)</caption>\n",
              "<tr>\n",
              "   <td></td>      <th>AIC</th>         <th>BIC</th>         <th>FPE</th>        <th>HQIC</th>    \n",
              "</tr>\n",
              "<tr>\n",
              "  <th>0</th>  <td>     27.66</td>  <td>     27.82*</td> <td> 1.032e+12</td>  <td>     27.73</td> \n",
              "</tr>\n",
              "<tr>\n",
              "  <th>1</th>  <td>     25.99</td>  <td>     28.38</td>  <td> 1.934e+11</td>  <td>     26.94*</td>\n",
              "</tr>\n",
              "<tr>\n",
              "  <th>2</th>  <td>     25.54</td>  <td>     30.17</td>  <td> 1.239e+11</td>  <td>     27.38</td> \n",
              "</tr>\n",
              "<tr>\n",
              "  <th>3</th>  <td>     25.51*</td> <td>     32.38</td>  <td> 1.222e+11*</td> <td>     28.25</td> \n",
              "</tr>\n",
              "<tr>\n",
              "  <th>4</th>  <td>     25.62</td>  <td>     34.73</td>  <td> 1.410e+11</td>  <td>     29.26</td> \n",
              "</tr>\n",
              "<tr>\n",
              "  <th>5</th>  <td>     25.91</td>  <td>     37.25</td>  <td> 1.957e+11</td>  <td>     30.43</td> \n",
              "</tr>\n",
              "<tr>\n",
              "  <th>6</th>  <td>     26.10</td>  <td>     39.68</td>  <td> 2.538e+11</td>  <td>     31.51</td> \n",
              "</tr>\n",
              "<tr>\n",
              "  <th>7</th>  <td>     26.45</td>  <td>     42.26</td>  <td> 3.950e+11</td>  <td>     32.75</td> \n",
              "</tr>\n",
              "<tr>\n",
              "  <th>8</th>  <td>     26.66</td>  <td>     44.72</td>  <td> 5.611e+11</td>  <td>     33.86</td> \n",
              "</tr>\n",
              "<tr>\n",
              "  <th>9</th>  <td>     26.73</td>  <td>     47.02</td>  <td> 7.151e+11</td>  <td>     34.82</td> \n",
              "</tr>\n",
              "<tr>\n",
              "  <th>10</th> <td>     26.87</td>  <td>     49.39</td>  <td> 1.023e+12</td>  <td>     35.85</td> \n",
              "</tr>\n",
              "<tr>\n",
              "  <th>11</th> <td>     27.18</td>  <td>     51.94</td>  <td> 1.868e+12</td>  <td>     37.05</td> \n",
              "</tr>\n",
              "<tr>\n",
              "  <th>12</th> <td>     27.33</td>  <td>     54.33</td>  <td> 3.121e+12</td>  <td>     38.10</td> \n",
              "</tr>\n",
              "</table>"
            ]
          },
          "metadata": {},
          "execution_count": 33
        }
      ]
    },
    {
      "cell_type": "markdown",
      "source": [
        "<h1><b>Train the VAR Model of selected order(p)<b></h1>"
      ],
      "metadata": {
        "id": "vxZ2DtKTmI9o"
      }
    },
    {
      "cell_type": "code",
      "source": [
        "model_fitted=model.fit(3)\n",
        "model_fitted.summary()"
      ],
      "metadata": {
        "colab": {
          "base_uri": "https://localhost:8080/"
        },
        "id": "PYMGYL1PmIMV",
        "outputId": "0567596b-30b9-455d-fa0a-e536459a298a"
      },
      "execution_count": null,
      "outputs": [
        {
          "output_type": "execute_result",
          "data": {
            "text/plain": [
              "  Summary of Regression Results   \n",
              "==================================\n",
              "Model:                         VAR\n",
              "Method:                        OLS\n",
              "Date:           Thu, 16, Feb, 2023\n",
              "Time:                     04:28:43\n",
              "--------------------------------------------------------------------\n",
              "No. of Equations:         14.0000    BIC:                    37.7829\n",
              "Nobs:                     343.000    HQIC:                   33.7303\n",
              "Log likelihood:          -11536.3    FPE:                3.10257e+13\n",
              "AIC:                      31.0473    Det(Omega_mle):     5.93768e+12\n",
              "--------------------------------------------------------------------\n",
              "Results for equation active_power_calculated_by_converter\n",
              "============================================================================================================\n",
              "                                               coefficient       std. error           t-stat            prob\n",
              "------------------------------------------------------------------------------------------------------------\n",
              "const                                             0.813251        10.208481            0.080           0.937\n",
              "L1.active_power_calculated_by_converter          -4.863181         1.857018           -2.619           0.009\n",
              "L1.active_power_raw                               3.815435         1.568533            2.432           0.015\n",
              "L1.ambient_temperature                           -1.236261        26.536960           -0.047           0.963\n",
              "L1.generator_speed                                0.143617         0.419311            0.343           0.732\n",
              "L1.generator_winding_temp_max                    -0.843099         5.848986           -0.144           0.885\n",
              "L1.grid_power10min_average                        0.313227         0.517324            0.605           0.545\n",
              "L1.nc1_inside_temp                               27.216543        21.419690            1.271           0.204\n",
              "L1.nacelle_temp                                  -5.627908        28.658522           -0.196           0.844\n",
              "L1.reactice_power_calculated_by_converter        -6.272111         8.043622           -0.780           0.436\n",
              "L1.reactive_power                                 8.230501         8.142933            1.011           0.312\n",
              "L1.wind_direction_raw                            -0.067838         0.215636           -0.315           0.753\n",
              "L1.wind_speed_raw                               -28.162630        48.385026           -0.582           0.561\n",
              "L1.wind_speed_turbulence                         53.819423       149.193094            0.361           0.718\n",
              "L1.Target                                         5.077358        13.535139            0.375           0.708\n",
              "L2.active_power_calculated_by_converter          -3.403779         2.254530           -1.510           0.131\n",
              "L2.active_power_raw                               1.510759         1.874194            0.806           0.420\n",
              "L2.ambient_temperature                           -5.277338        29.944062           -0.176           0.860\n",
              "L2.generator_speed                                0.441142         0.484629            0.910           0.363\n",
              "L2.generator_winding_temp_max                    -1.291960         6.481300           -0.199           0.842\n",
              "L2.grid_power10min_average                        0.664862         0.610944            1.088           0.276\n",
              "L2.nc1_inside_temp                               -7.779380        23.567196           -0.330           0.741\n",
              "L2.nacelle_temp                                   2.251432        29.174409            0.077           0.938\n",
              "L2.reactice_power_calculated_by_converter         4.087593         9.558882            0.428           0.669\n",
              "L2.reactive_power                                -0.574671         9.680297           -0.059           0.953\n",
              "L2.wind_direction_raw                            -0.166506         0.215387           -0.773           0.439\n",
              "L2.wind_speed_raw                                56.588049        55.317028            1.023           0.306\n",
              "L2.wind_speed_turbulence                        -94.014584       158.458627           -0.593           0.553\n",
              "L2.Target                                        -2.442275        13.167914           -0.185           0.853\n",
              "L3.active_power_calculated_by_converter          -1.614884         1.894292           -0.852           0.394\n",
              "L3.active_power_raw                               0.940600         1.592014            0.591           0.555\n",
              "L3.ambient_temperature                            6.464792        25.738796            0.251           0.802\n",
              "L3.generator_speed                                0.739821         0.427335            1.731           0.083\n",
              "L3.generator_winding_temp_max                     1.265010         5.992233            0.211           0.833\n",
              "L3.grid_power10min_average                        0.068817         0.523971            0.131           0.896\n",
              "L3.nc1_inside_temp                               18.581589        22.505663            0.826           0.409\n",
              "L3.nacelle_temp                                   4.011684        25.016947            0.160           0.873\n",
              "L3.reactice_power_calculated_by_converter         2.475393         8.069106            0.307           0.759\n",
              "L3.reactive_power                                -1.242915         8.157017           -0.152           0.879\n",
              "L3.wind_direction_raw                            -0.008942         0.214790           -0.042           0.967\n",
              "L3.wind_speed_raw                               -26.528773        48.503530           -0.547           0.584\n",
              "L3.wind_speed_turbulence                         -4.082355       147.391300           -0.028           0.978\n",
              "L3.Target                                        -7.110539        12.635978           -0.563           0.574\n",
              "============================================================================================================\n",
              "\n",
              "Results for equation active_power_raw\n",
              "============================================================================================================\n",
              "                                               coefficient       std. error           t-stat            prob\n",
              "------------------------------------------------------------------------------------------------------------\n",
              "const                                             0.833930        10.445437            0.080           0.936\n",
              "L1.active_power_calculated_by_converter          -4.151339         1.900122           -2.185           0.029\n",
              "L1.active_power_raw                               3.152944         1.604942            1.965           0.049\n",
              "L1.ambient_temperature                           -0.843553        27.152928           -0.031           0.975\n",
              "L1.generator_speed                                0.152580         0.429044            0.356           0.722\n",
              "L1.generator_winding_temp_max                    -0.675489         5.984750           -0.113           0.910\n",
              "L1.grid_power10min_average                        0.291602         0.529332            0.551           0.582\n",
              "L1.nc1_inside_temp                               27.745783        21.916877            1.266           0.206\n",
              "L1.nacelle_temp                                  -6.683295        29.323734           -0.228           0.820\n",
              "L1.reactice_power_calculated_by_converter        -6.143708         8.230328           -0.746           0.455\n",
              "L1.reactive_power                                 8.075849         8.331945            0.969           0.332\n",
              "L1.wind_direction_raw                            -0.072756         0.220641           -0.330           0.742\n",
              "L1.wind_speed_raw                               -28.971036        49.508123           -0.585           0.558\n",
              "L1.wind_speed_turbulence                         51.676699       152.656114            0.339           0.735\n",
              "L1.Target                                         4.828892        13.849313            0.349           0.727\n",
              "L2.active_power_calculated_by_converter          -2.873290         2.306862           -1.246           0.213\n",
              "L2.active_power_raw                               1.013443         1.917697            0.528           0.597\n",
              "L2.ambient_temperature                           -4.889022        30.639113           -0.160           0.873\n",
              "L2.generator_speed                                0.435815         0.495878            0.879           0.379\n",
              "L2.generator_winding_temp_max                    -1.032337         6.631742           -0.156           0.876\n",
              "L2.grid_power10min_average                        0.660659         0.625125            1.057           0.291\n",
              "L2.nc1_inside_temp                               -7.608321        24.114229           -0.316           0.752\n",
              "L2.nacelle_temp                                   0.921295        29.851596            0.031           0.975\n",
              "L2.reactice_power_calculated_by_converter         4.605989         9.780760            0.471           0.638\n",
              "L2.reactive_power                                -1.096024         9.904993           -0.111           0.912\n",
              "L2.wind_direction_raw                            -0.176173         0.220386           -0.799           0.424\n",
              "L2.wind_speed_raw                                56.790295        56.601028            1.003           0.316\n",
              "L2.wind_speed_turbulence                       -101.366660       162.136716           -0.625           0.532\n",
              "L2.Target                                        -3.316603        13.473564           -0.246           0.806\n",
              "L3.active_power_calculated_by_converter          -1.414250         1.938262           -0.730           0.466\n",
              "L3.active_power_raw                               0.701153         1.628967            0.430           0.667\n",
              "L3.ambient_temperature                            6.347171        26.336236            0.241           0.810\n",
              "L3.generator_speed                                0.777988         0.437254            1.779           0.075\n",
              "L3.generator_winding_temp_max                     1.395793         6.131323            0.228           0.820\n",
              "L3.grid_power10min_average                        0.060078         0.536133            0.112           0.911\n",
              "L3.nc1_inside_temp                               17.925501        23.028056            0.778           0.436\n",
              "L3.nacelle_temp                                   4.967502        25.597632            0.194           0.846\n",
              "L3.reactice_power_calculated_by_converter         2.501056         8.256403            0.303           0.762\n",
              "L3.reactive_power                                -1.142588         8.346355           -0.137           0.891\n",
              "L3.wind_direction_raw                             0.005514         0.219775            0.025           0.980\n",
              "L3.wind_speed_raw                               -24.986774        49.629378           -0.503           0.615\n",
              "L3.wind_speed_turbulence                         -4.605747       150.812497           -0.031           0.976\n",
              "L3.Target                                        -7.202715        12.929280           -0.557           0.577\n",
              "============================================================================================================\n",
              "\n",
              "Results for equation ambient_temperature\n",
              "============================================================================================================\n",
              "                                               coefficient       std. error           t-stat            prob\n",
              "------------------------------------------------------------------------------------------------------------\n",
              "const                                             0.024949         0.054088            0.461           0.645\n",
              "L1.active_power_calculated_by_converter           0.006604         0.009839            0.671           0.502\n",
              "L1.active_power_raw                              -0.010934         0.008311           -1.316           0.188\n",
              "L1.ambient_temperature                            0.852155         0.140601            6.061           0.000\n",
              "L1.generator_speed                               -0.004543         0.002222           -2.045           0.041\n",
              "L1.generator_winding_temp_max                    -0.082058         0.030990           -2.648           0.008\n",
              "L1.grid_power10min_average                        0.005863         0.002741            2.139           0.032\n",
              "L1.nc1_inside_temp                                0.250343         0.113488            2.206           0.027\n",
              "L1.nacelle_temp                                  -0.680694         0.151841           -4.483           0.000\n",
              "L1.reactice_power_calculated_by_converter        -0.003512         0.042617           -0.082           0.934\n",
              "L1.reactive_power                                 0.007247         0.043144            0.168           0.867\n",
              "L1.wind_direction_raw                            -0.000506         0.001143           -0.443           0.658\n",
              "L1.wind_speed_raw                                 0.332944         0.256358            1.299           0.194\n",
              "L1.wind_speed_turbulence                         -1.555121         0.790469           -1.967           0.049\n",
              "L1.Target                                        -0.107195         0.071713           -1.495           0.135\n",
              "L2.active_power_calculated_by_converter           0.011657         0.011945            0.976           0.329\n",
              "L2.active_power_raw                              -0.015135         0.009930           -1.524           0.127\n",
              "L2.ambient_temperature                           -0.296471         0.158652           -1.869           0.062\n",
              "L2.generator_speed                               -0.000801         0.002568           -0.312           0.755\n",
              "L2.generator_winding_temp_max                    -0.052799         0.034340           -1.538           0.124\n",
              "L2.grid_power10min_average                        0.006121         0.003237            1.891           0.059\n",
              "L2.nc1_inside_temp                               -0.011265         0.124866           -0.090           0.928\n",
              "L2.nacelle_temp                                   0.168495         0.154575            1.090           0.276\n",
              "L2.reactice_power_calculated_by_converter        -0.015580         0.050646           -0.308           0.758\n",
              "L2.reactive_power                                 0.010699         0.051289            0.209           0.835\n",
              "L2.wind_direction_raw                             0.000076         0.001141            0.067           0.947\n",
              "L2.wind_speed_raw                                -0.361944         0.293086           -1.235           0.217\n",
              "L2.wind_speed_turbulence                          0.690694         0.839560            0.823           0.411\n",
              "L2.Target                                         0.062909         0.069767            0.902           0.367\n",
              "L3.active_power_calculated_by_converter           0.011401         0.010037            1.136           0.256\n",
              "L3.active_power_raw                              -0.011715         0.008435           -1.389           0.165\n",
              "L3.ambient_temperature                           -0.075929         0.136372           -0.557           0.578\n",
              "L3.generator_speed                               -0.000201         0.002264           -0.089           0.929\n",
              "L3.generator_winding_temp_max                    -0.020100         0.031749           -0.633           0.527\n",
              "L3.grid_power10min_average                        0.003563         0.002776            1.283           0.199\n",
              "L3.nc1_inside_temp                               -0.001417         0.119242           -0.012           0.991\n",
              "L3.nacelle_temp                                  -0.016986         0.132547           -0.128           0.898\n",
              "L3.reactice_power_calculated_by_converter         0.000766         0.042753            0.018           0.986\n",
              "L3.reactive_power                                -0.002675         0.043218           -0.062           0.951\n",
              "L3.wind_direction_raw                            -0.000915         0.001138           -0.804           0.421\n",
              "L3.wind_speed_raw                                -0.637392         0.256986           -2.480           0.013\n",
              "L3.wind_speed_turbulence                          0.880778         0.780923            1.128           0.259\n",
              "L3.Target                                        -0.024434         0.066949           -0.365           0.715\n",
              "============================================================================================================\n",
              "\n",
              "Results for equation generator_speed\n",
              "============================================================================================================\n",
              "                                               coefficient       std. error           t-stat            prob\n",
              "------------------------------------------------------------------------------------------------------------\n",
              "const                                             0.013423         4.708132            0.003           0.998\n",
              "L1.active_power_calculated_by_converter          -2.102366         0.856453           -2.455           0.014\n",
              "L1.active_power_raw                               1.706032         0.723404            2.358           0.018\n",
              "L1.ambient_temperature                            4.791486        12.238795            0.391           0.695\n",
              "L1.generator_speed                               -0.494696         0.193385           -2.558           0.011\n",
              "L1.generator_winding_temp_max                    -0.138448         2.697541           -0.051           0.959\n",
              "L1.grid_power10min_average                        0.244184         0.238589            1.023           0.306\n",
              "L1.nc1_inside_temp                               13.237470         9.878720            1.340           0.180\n",
              "L1.nacelle_temp                                 -11.765406        13.217255           -0.890           0.373\n",
              "L1.reactice_power_calculated_by_converter        -5.982946         3.709703           -1.613           0.107\n",
              "L1.reactive_power                                 6.329328         3.755505            1.685           0.092\n",
              "L1.wind_direction_raw                             0.035347         0.099451            0.355           0.722\n",
              "L1.wind_speed_raw                               -10.979808        22.315080           -0.492           0.623\n",
              "L1.wind_speed_turbulence                         41.322555        68.807566            0.601           0.548\n",
              "L1.Target                                         4.177291         6.242380            0.669           0.503\n",
              "L2.active_power_calculated_by_converter          -1.809151         1.039785           -1.740           0.082\n",
              "L2.active_power_raw                               0.969397         0.864375            1.122           0.262\n",
              "L2.ambient_temperature                           -3.790653        13.810143           -0.274           0.784\n",
              "L2.generator_speed                               -0.136808         0.223510           -0.612           0.540\n",
              "L2.generator_winding_temp_max                    -0.574813         2.989163           -0.192           0.848\n",
              "L2.grid_power10min_average                        0.442739         0.281766            1.571           0.116\n",
              "L2.nc1_inside_temp                               -6.283047        10.869145           -0.578           0.563\n",
              "L2.nacelle_temp                                   2.928949        13.455181            0.218           0.828\n",
              "L2.reactice_power_calculated_by_converter         0.722610         4.408538            0.164           0.870\n",
              "L2.reactive_power                                 0.559741         4.464534            0.125           0.900\n",
              "L2.wind_direction_raw                            -0.094230         0.099336           -0.949           0.343\n",
              "L2.wind_speed_raw                                18.154170        25.512106            0.712           0.477\n",
              "L2.wind_speed_turbulence                        -13.504623        73.080812           -0.185           0.853\n",
              "L2.Target                                        -3.542047         6.073017           -0.583           0.560\n",
              "L3.active_power_calculated_by_converter          -0.391026         0.873644           -0.448           0.654\n",
              "L3.active_power_raw                               0.189033         0.734234            0.257           0.797\n",
              "L3.ambient_temperature                            5.442209        11.870683            0.458           0.647\n",
              "L3.generator_speed                                0.050623         0.197086            0.257           0.797\n",
              "L3.generator_winding_temp_max                     0.840411         2.763606            0.304           0.761\n",
              "L3.grid_power10min_average                        0.115565         0.241654            0.478           0.632\n",
              "L3.nc1_inside_temp                                1.893526        10.379568            0.182           0.855\n",
              "L3.nacelle_temp                                   0.079827        11.537767            0.007           0.994\n",
              "L3.reactice_power_calculated_by_converter         2.729992         3.721456            0.734           0.463\n",
              "L3.reactive_power                                -2.366035         3.762000           -0.629           0.529\n",
              "L3.wind_direction_raw                             0.028015         0.099061            0.283           0.777\n",
              "L3.wind_speed_raw                                -7.891824        22.369734           -0.353           0.724\n",
              "L3.wind_speed_turbulence                         15.704791        67.976582            0.231           0.817\n",
              "L3.Target                                        -4.121482         5.827689           -0.707           0.479\n",
              "============================================================================================================\n",
              "\n",
              "Results for equation generator_winding_temp_max\n",
              "============================================================================================================\n",
              "                                               coefficient       std. error           t-stat            prob\n",
              "------------------------------------------------------------------------------------------------------------\n",
              "const                                            -0.034512         0.207805           -0.166           0.868\n",
              "L1.active_power_calculated_by_converter          -0.033932         0.037802           -0.898           0.369\n",
              "L1.active_power_raw                               0.025844         0.031929            0.809           0.418\n",
              "L1.ambient_temperature                            1.026792         0.540190            1.901           0.057\n",
              "L1.generator_speed                               -0.009750         0.008536           -1.142           0.253\n",
              "L1.generator_winding_temp_max                    -0.633727         0.119063           -5.323           0.000\n",
              "L1.grid_power10min_average                        0.005129         0.010531            0.487           0.626\n",
              "L1.nc1_inside_temp                                0.378010         0.436022            0.867           0.386\n",
              "L1.nacelle_temp                                  -0.869564         0.583377           -1.491           0.136\n",
              "L1.reactice_power_calculated_by_converter        -0.189857         0.163737           -1.160           0.246\n",
              "L1.reactive_power                                 0.212205         0.165759            1.280           0.200\n",
              "L1.wind_direction_raw                            -0.005103         0.004390           -1.163           0.245\n",
              "L1.wind_speed_raw                                 0.485328         0.984932            0.493           0.622\n",
              "L1.wind_speed_turbulence                          2.245205         3.036995            0.739           0.460\n",
              "L1.Target                                         0.267314         0.275523            0.970           0.332\n",
              "L2.active_power_calculated_by_converter          -0.051094         0.045894           -1.113           0.266\n",
              "L2.active_power_raw                               0.009356         0.038151            0.245           0.806\n",
              "L2.ambient_temperature                            0.282010         0.609545            0.463           0.644\n",
              "L2.generator_speed                                0.003575         0.009865            0.362           0.717\n",
              "L2.generator_winding_temp_max                    -0.588575         0.131934           -4.461           0.000\n",
              "L2.grid_power10min_average                        0.023146         0.012436            1.861           0.063\n",
              "L2.nc1_inside_temp                               -0.439344         0.479737           -0.916           0.360\n",
              "L2.nacelle_temp                                   0.147156         0.593878            0.248           0.804\n",
              "L2.reactice_power_calculated_by_converter        -0.045987         0.194582           -0.236           0.813\n",
              "L2.reactive_power                                 0.116592         0.197053            0.592           0.554\n",
              "L2.wind_direction_raw                            -0.003172         0.004384           -0.724           0.469\n",
              "L2.wind_speed_raw                                 1.250096         1.126041            1.110           0.267\n",
              "L2.wind_speed_turbulence                         -0.106735         3.225606           -0.033           0.974\n",
              "L2.Target                                         0.258429         0.268048            0.964           0.335\n",
              "L3.active_power_calculated_by_converter          -0.011794         0.038560           -0.306           0.760\n",
              "L3.active_power_raw                              -0.003640         0.032407           -0.112           0.911\n",
              "L3.ambient_temperature                            0.145340         0.523943            0.277           0.781\n",
              "L3.generator_speed                                0.007413         0.008699            0.852           0.394\n",
              "L3.generator_winding_temp_max                    -0.296576         0.121979           -2.431           0.015\n",
              "L3.grid_power10min_average                        0.011764         0.010666            1.103           0.270\n",
              "L3.nc1_inside_temp                                0.454741         0.458128            0.993           0.321\n",
              "L3.nacelle_temp                                   0.199306         0.509248            0.391           0.696\n",
              "L3.reactice_power_calculated_by_converter        -0.064781         0.164256           -0.394           0.693\n",
              "L3.reactive_power                                 0.081328         0.166045            0.490           0.624\n",
              "L3.wind_direction_raw                            -0.004765         0.004372           -1.090           0.276\n",
              "L3.wind_speed_raw                                -0.838752         0.987345           -0.850           0.396\n",
              "L3.wind_speed_turbulence                          0.998521         3.000318            0.333           0.739\n",
              "L3.Target                                        -0.052838         0.257220           -0.205           0.837\n",
              "============================================================================================================\n",
              "\n",
              "Results for equation grid_power10min_average\n",
              "============================================================================================================\n",
              "                                               coefficient       std. error           t-stat            prob\n",
              "------------------------------------------------------------------------------------------------------------\n",
              "const                                             0.886362        10.765532            0.082           0.934\n",
              "L1.active_power_calculated_by_converter          -4.226970         1.958350           -2.158           0.031\n",
              "L1.active_power_raw                               3.948964         1.654124            2.387           0.017\n",
              "L1.ambient_temperature                           -3.161691        27.985016           -0.113           0.910\n",
              "L1.generator_speed                                0.136441         0.442192            0.309           0.758\n",
              "L1.generator_winding_temp_max                     0.238378         6.168150            0.039           0.969\n",
              "L1.grid_power10min_average                       -0.458806         0.545553           -0.841           0.400\n",
              "L1.nc1_inside_temp                               29.617333        22.588509            1.311           0.190\n",
              "L1.nacelle_temp                                  -8.941254        30.222346           -0.296           0.767\n",
              "L1.reactice_power_calculated_by_converter        -5.622014         8.482542           -0.663           0.507\n",
              "L1.reactive_power                                 7.635544         8.587273            0.889           0.374\n",
              "L1.wind_direction_raw                            -0.089424         0.227403           -0.393           0.694\n",
              "L1.wind_speed_raw                               -24.364404        51.025276           -0.477           0.633\n",
              "L1.wind_speed_turbulence                         88.629449       157.334186            0.563           0.573\n",
              "L1.Target                                         5.195719        14.273718            0.364           0.716\n",
              "L2.active_power_calculated_by_converter          -3.442146         2.377554           -1.448           0.148\n",
              "L2.active_power_raw                               1.886772         1.976464            0.955           0.340\n",
              "L2.ambient_temperature                           -3.212325        31.578034           -0.102           0.919\n",
              "L2.generator_speed                                0.484266         0.511074            0.948           0.343\n",
              "L2.generator_winding_temp_max                    -1.558489         6.834968           -0.228           0.820\n",
              "L2.grid_power10min_average                        0.238023         0.644281            0.369           0.712\n",
              "L2.nc1_inside_temp                               -9.244302        24.853198           -0.372           0.710\n",
              "L2.nacelle_temp                                   0.341747        30.766384            0.011           0.991\n",
              "L2.reactice_power_calculated_by_converter         6.253507        10.080486            0.620           0.535\n",
              "L2.reactive_power                                -2.226602        10.208526           -0.218           0.827\n",
              "L2.wind_direction_raw                            -0.182747         0.227140           -0.805           0.421\n",
              "L2.wind_speed_raw                                72.003891        58.335539            1.234           0.217\n",
              "L2.wind_speed_turbulence                        -97.118049       167.105317           -0.581           0.561\n",
              "L2.Target                                        -2.310149        13.886454           -0.166           0.868\n",
              "L3.active_power_calculated_by_converter          -1.765949         1.997659           -0.884           0.377\n",
              "L3.active_power_raw                               1.244527         1.678886            0.741           0.459\n",
              "L3.ambient_temperature                            6.358981        27.143297            0.234           0.815\n",
              "L3.generator_speed                                0.773769         0.450654            1.717           0.086\n",
              "L3.generator_winding_temp_max                     2.216153         6.319214            0.351           0.726\n",
              "L3.grid_power10min_average                       -0.103411         0.552563           -0.187           0.852\n",
              "L3.nc1_inside_temp                               23.505053        23.733740            0.990           0.322\n",
              "L3.nacelle_temp                                   1.818501        26.382059            0.069           0.945\n",
              "L3.reactice_power_calculated_by_converter         3.665050         8.509417            0.431           0.667\n",
              "L3.reactive_power                                -2.406721         8.602124           -0.280           0.780\n",
              "L3.wind_direction_raw                            -0.065562         0.226510           -0.289           0.772\n",
              "L3.wind_speed_raw                               -23.199250        51.150246           -0.454           0.650\n",
              "L3.wind_speed_turbulence                          9.949417       155.434073            0.064           0.949\n",
              "L3.Target                                        -8.087939        13.325492           -0.607           0.544\n",
              "============================================================================================================\n",
              "\n",
              "Results for equation nc1_inside_temp\n",
              "============================================================================================================\n",
              "                                               coefficient       std. error           t-stat            prob\n",
              "------------------------------------------------------------------------------------------------------------\n",
              "const                                             0.003768         0.025187            0.150           0.881\n",
              "L1.active_power_calculated_by_converter           0.004685         0.004582            1.022           0.307\n",
              "L1.active_power_raw                              -0.004271         0.003870           -1.104           0.270\n",
              "L1.ambient_temperature                            0.185095         0.065472            2.827           0.005\n",
              "L1.generator_speed                                0.000887         0.001035            0.858           0.391\n",
              "L1.generator_winding_temp_max                    -0.006895         0.014431           -0.478           0.633\n",
              "L1.grid_power10min_average                        0.000200         0.001276            0.157           0.875\n",
              "L1.nc1_inside_temp                               -0.320658         0.052847           -6.068           0.000\n",
              "L1.nacelle_temp                                  -0.077759         0.070707           -1.100           0.271\n",
              "L1.reactice_power_calculated_by_converter         0.013134         0.019845            0.662           0.508\n",
              "L1.reactive_power                                -0.014442         0.020090           -0.719           0.472\n",
              "L1.wind_direction_raw                             0.000272         0.000532            0.511           0.609\n",
              "L1.wind_speed_raw                                 0.090363         0.119376            0.757           0.449\n",
              "L1.wind_speed_turbulence                         -0.539424         0.368092           -1.465           0.143\n",
              "L1.Target                                        -0.019768         0.033394           -0.592           0.554\n",
              "L2.active_power_calculated_by_converter          -0.000378         0.005562           -0.068           0.946\n",
              "L2.active_power_raw                               0.000210         0.004624            0.045           0.964\n",
              "L2.ambient_temperature                           -0.034615         0.073879           -0.469           0.639\n",
              "L2.generator_speed                                0.001760         0.001196            1.472           0.141\n",
              "L2.generator_winding_temp_max                     0.008913         0.015991            0.557           0.577\n",
              "L2.grid_power10min_average                       -0.001476         0.001507           -0.979           0.327\n",
              "L2.nc1_inside_temp                               -0.247037         0.058145           -4.249           0.000\n",
              "L2.nacelle_temp                                   0.076611         0.071980            1.064           0.287\n",
              "L2.reactice_power_calculated_by_converter         0.004292         0.023584            0.182           0.856\n",
              "L2.reactive_power                                -0.002847         0.023883           -0.119           0.905\n",
              "L2.wind_direction_raw                            -0.000152         0.000531           -0.287           0.774\n",
              "L2.wind_speed_raw                                 0.284978         0.136479            2.088           0.037\n",
              "L2.wind_speed_turbulence                         -0.706403         0.390952           -1.807           0.071\n",
              "L2.Target                                        -0.010131         0.032488           -0.312           0.755\n",
              "L3.active_power_calculated_by_converter          -0.000304         0.004674           -0.065           0.948\n",
              "L3.active_power_raw                               0.000799         0.003928            0.203           0.839\n",
              "L3.ambient_temperature                           -0.101662         0.063503           -1.601           0.109\n",
              "L3.generator_speed                                0.000312         0.001054            0.296           0.767\n",
              "L3.generator_winding_temp_max                    -0.005486         0.014784           -0.371           0.711\n",
              "L3.grid_power10min_average                       -0.001017         0.001293           -0.787           0.431\n",
              "L3.nc1_inside_temp                               -0.091404         0.055526           -1.646           0.100\n",
              "L3.nacelle_temp                                   0.132415         0.061722            2.145           0.032\n",
              "L3.reactice_power_calculated_by_converter         0.008503         0.019908            0.427           0.669\n",
              "L3.reactive_power                                -0.006841         0.020125           -0.340           0.734\n",
              "L3.wind_direction_raw                             0.000452         0.000530            0.853           0.393\n",
              "L3.wind_speed_raw                                 0.170263         0.119669            1.423           0.155\n",
              "L3.wind_speed_turbulence                         -0.350080         0.363646           -0.963           0.336\n",
              "L3.Target                                         0.015978         0.031176            0.513           0.608\n",
              "============================================================================================================\n",
              "\n",
              "Results for equation nacelle_temp\n",
              "============================================================================================================\n",
              "                                               coefficient       std. error           t-stat            prob\n",
              "------------------------------------------------------------------------------------------------------------\n",
              "const                                             0.007903         0.051146            0.155           0.877\n",
              "L1.active_power_calculated_by_converter           0.011660         0.009304            1.253           0.210\n",
              "L1.active_power_raw                              -0.014335         0.007859           -1.824           0.068\n",
              "L1.ambient_temperature                            0.331208         0.132955            2.491           0.013\n",
              "L1.generator_speed                               -0.002943         0.002101           -1.401           0.161\n",
              "L1.generator_winding_temp_max                    -0.044907         0.029304           -1.532           0.125\n",
              "L1.grid_power10min_average                        0.005124         0.002592            1.977           0.048\n",
              "L1.nc1_inside_temp                               -0.160979         0.107316           -1.500           0.134\n",
              "L1.nacelle_temp                                  -0.378795         0.143584           -2.638           0.008\n",
              "L1.reactice_power_calculated_by_converter         0.018223         0.040300            0.452           0.651\n",
              "L1.reactive_power                                -0.016665         0.040797           -0.408           0.683\n",
              "L1.wind_direction_raw                            -0.000986         0.001080           -0.913           0.361\n",
              "L1.wind_speed_raw                                 0.071145         0.242417            0.293           0.769\n",
              "L1.wind_speed_turbulence                         -1.187216         0.747482           -1.588           0.112\n",
              "L1.Target                                        -0.110594         0.067813           -1.631           0.103\n",
              "L2.active_power_calculated_by_converter           0.021349         0.011296            1.890           0.059\n",
              "L2.active_power_raw                              -0.023121         0.009390           -2.462           0.014\n",
              "L2.ambient_temperature                           -0.023961         0.150025           -0.160           0.873\n",
              "L2.generator_speed                               -0.000223         0.002428           -0.092           0.927\n",
              "L2.generator_winding_temp_max                    -0.050326         0.032472           -1.550           0.121\n",
              "L2.grid_power10min_average                        0.006629         0.003061            2.166           0.030\n",
              "L2.nc1_inside_temp                               -0.094733         0.118076           -0.802           0.422\n",
              "L2.nacelle_temp                                  -0.061549         0.146169           -0.421           0.674\n",
              "L2.reactice_power_calculated_by_converter         0.023776         0.047892            0.496           0.620\n",
              "L2.reactive_power                                -0.029872         0.048500           -0.616           0.538\n",
              "L2.wind_direction_raw                            -0.000473         0.001079           -0.438           0.661\n",
              "L2.wind_speed_raw                                -0.403946         0.277147           -1.458           0.145\n",
              "L2.wind_speed_turbulence                          0.138871         0.793904            0.175           0.861\n",
              "L2.Target                                         0.032284         0.065973            0.489           0.625\n",
              "L3.active_power_calculated_by_converter           0.015208         0.009491            1.602           0.109\n",
              "L3.active_power_raw                              -0.014942         0.007976           -1.873           0.061\n",
              "L3.ambient_temperature                           -0.207767         0.128956           -1.611           0.107\n",
              "L3.generator_speed                                0.000412         0.002141            0.192           0.847\n",
              "L3.generator_winding_temp_max                    -0.009609         0.030022           -0.320           0.749\n",
              "L3.grid_power10min_average                        0.003846         0.002625            1.465           0.143\n",
              "L3.nc1_inside_temp                               -0.011655         0.112757           -0.103           0.918\n",
              "L3.nacelle_temp                                   0.101779         0.125339            0.812           0.417\n",
              "L3.reactice_power_calculated_by_converter         0.028283         0.040428            0.700           0.484\n",
              "L3.reactive_power                                -0.032573         0.040868           -0.797           0.425\n",
              "L3.wind_direction_raw                            -0.001504         0.001076           -1.398           0.162\n",
              "L3.wind_speed_raw                                -0.423762         0.243011           -1.744           0.081\n",
              "L3.wind_speed_turbulence                          0.076837         0.738455            0.104           0.917\n",
              "L3.Target                                         0.008408         0.063308            0.133           0.894\n",
              "============================================================================================================\n",
              "\n",
              "Results for equation reactice_power_calculated_by_converter\n",
              "============================================================================================================\n",
              "                                               coefficient       std. error           t-stat            prob\n",
              "------------------------------------------------------------------------------------------------------------\n",
              "const                                            -0.260399         1.737679           -0.150           0.881\n",
              "L1.active_power_calculated_by_converter          -0.603317         0.316100           -1.909           0.056\n",
              "L1.active_power_raw                               0.506048         0.266994            1.895           0.058\n",
              "L1.ambient_temperature                           -0.543358         4.517098           -0.120           0.904\n",
              "L1.generator_speed                               -0.004627         0.071375           -0.065           0.948\n",
              "L1.generator_winding_temp_max                    -0.836054         0.995609           -0.840           0.401\n",
              "L1.grid_power10min_average                        0.063538         0.088058            0.722           0.471\n",
              "L1.nc1_inside_temp                                2.593511         3.646041            0.711           0.477\n",
              "L1.nacelle_temp                                   1.250985         4.878229            0.256           0.798\n",
              "L1.reactice_power_calculated_by_converter        -1.033185         1.369178           -0.755           0.450\n",
              "L1.reactive_power                                 1.071778         1.386083            0.773           0.439\n",
              "L1.wind_direction_raw                            -0.022220         0.036705           -0.605           0.545\n",
              "L1.wind_speed_raw                                -4.889140         8.236057           -0.594           0.553\n",
              "L1.wind_speed_turbulence                         11.786513        25.395519            0.464           0.643\n",
              "L1.Target                                        -0.194886         2.303940           -0.085           0.933\n",
              "L2.active_power_calculated_by_converter          -0.380144         0.383764           -0.991           0.322\n",
              "L2.active_power_raw                               0.153518         0.319024            0.481           0.630\n",
              "L2.ambient_temperature                           -0.008129         5.097052           -0.002           0.999\n",
              "L2.generator_speed                                0.093129         0.082493            1.129           0.259\n",
              "L2.generator_winding_temp_max                    -0.951230         1.103241           -0.862           0.389\n",
              "L2.grid_power10min_average                        0.073115         0.103994            0.703           0.482\n",
              "L2.nc1_inside_temp                               -2.104436         4.011588           -0.525           0.600\n",
              "L2.nacelle_temp                                   1.110517         4.966043            0.224           0.823\n",
              "L2.reactice_power_calculated_by_converter         0.649060         1.627105            0.399           0.690\n",
              "L2.reactive_power                                -0.295181         1.647772           -0.179           0.858\n",
              "L2.wind_direction_raw                            -0.013055         0.036663           -0.356           0.722\n",
              "L2.wind_speed_raw                                12.006209         9.416016            1.275           0.202\n",
              "L2.wind_speed_turbulence                        -27.511713        26.972690           -1.020           0.308\n",
              "L2.Target                                        -0.009324         2.241431           -0.004           0.997\n",
              "L3.active_power_calculated_by_converter          -0.159765         0.322445           -0.495           0.620\n",
              "L3.active_power_raw                               0.150514         0.270991            0.555           0.579\n",
              "L3.ambient_temperature                            1.467480         4.381235            0.335           0.738\n",
              "L3.generator_speed                                0.114073         0.072741            1.568           0.117\n",
              "L3.generator_winding_temp_max                     0.364814         1.019993            0.358           0.721\n",
              "L3.grid_power10min_average                       -0.025572         0.089190           -0.287           0.774\n",
              "L3.nc1_inside_temp                                5.009781         3.830894            1.308           0.191\n",
              "L3.nacelle_temp                                  -0.368870         4.258363           -0.087           0.931\n",
              "L3.reactice_power_calculated_by_converter         0.417085         1.373516            0.304           0.761\n",
              "L3.reactive_power                                -0.428754         1.388480           -0.309           0.757\n",
              "L3.wind_direction_raw                            -0.028910         0.036561           -0.791           0.429\n",
              "L3.wind_speed_raw                                -6.230598         8.256229           -0.755           0.450\n",
              "L3.wind_speed_turbulence                         -6.848775        25.088819           -0.273           0.785\n",
              "L3.Target                                        -2.169349         2.150885           -1.009           0.313\n",
              "============================================================================================================\n",
              "\n",
              "Results for equation reactive_power\n",
              "============================================================================================================\n",
              "                                               coefficient       std. error           t-stat            prob\n",
              "------------------------------------------------------------------------------------------------------------\n",
              "const                                            -0.255636         2.118746           -0.121           0.904\n",
              "L1.active_power_calculated_by_converter          -0.757929         0.385420           -1.967           0.049\n",
              "L1.active_power_raw                               0.646711         0.325545            1.987           0.047\n",
              "L1.ambient_temperature                           -0.807656         5.507683           -0.147           0.883\n",
              "L1.generator_speed                                0.001984         0.087027            0.023           0.982\n",
              "L1.generator_winding_temp_max                    -0.921658         1.213943           -0.759           0.448\n",
              "L1.grid_power10min_average                        0.078511         0.107369            0.731           0.465\n",
              "L1.nc1_inside_temp                                3.866746         4.445605            0.870           0.384\n",
              "L1.nacelle_temp                                   0.982629         5.948008            0.165           0.869\n",
              "L1.reactice_power_calculated_by_converter        -0.491771         1.669434           -0.295           0.768\n",
              "L1.reactive_power                                 0.599924         1.690046            0.355           0.723\n",
              "L1.wind_direction_raw                            -0.028721         0.044755           -0.642           0.521\n",
              "L1.wind_speed_raw                                -5.345542        10.042196           -0.532           0.595\n",
              "L1.wind_speed_turbulence                         12.905334        30.964669            0.417           0.677\n",
              "L1.Target                                         0.283273         2.809186            0.101           0.920\n",
              "L2.active_power_calculated_by_converter          -0.522811         0.467922           -1.117           0.264\n",
              "L2.active_power_raw                               0.231425         0.388985            0.595           0.552\n",
              "L2.ambient_temperature                            0.038016         6.214818            0.006           0.995\n",
              "L2.generator_speed                                0.108689         0.100584            1.081           0.280\n",
              "L2.generator_winding_temp_max                    -1.046731         1.345178           -0.778           0.436\n",
              "L2.grid_power10min_average                        0.100573         0.126800            0.793           0.428\n",
              "L2.nc1_inside_temp                               -2.484896         4.891315           -0.508           0.611\n",
              "L2.nacelle_temp                                   0.962517         6.055079            0.159           0.874\n",
              "L2.reactice_power_calculated_by_converter         1.282481         1.983923            0.646           0.518\n",
              "L2.reactive_power                                -0.770183         2.009122           -0.383           0.701\n",
              "L2.wind_direction_raw                            -0.020975         0.044703           -0.469           0.639\n",
              "L2.wind_speed_raw                                15.193690        11.480917            1.323           0.186\n",
              "L2.wind_speed_turbulence                        -30.876433        32.887708           -0.939           0.348\n",
              "L2.Target                                         0.056848         2.732969            0.021           0.983\n",
              "L3.active_power_calculated_by_converter          -0.231604         0.393156           -0.589           0.556\n",
              "L3.active_power_raw                               0.197060         0.330419            0.596           0.551\n",
              "L3.ambient_temperature                            1.873523         5.342025            0.351           0.726\n",
              "L3.generator_speed                                0.141130         0.088692            1.591           0.112\n",
              "L3.generator_winding_temp_max                     0.377723         1.243674            0.304           0.761\n",
              "L3.grid_power10min_average                       -0.020766         0.108749           -0.191           0.849\n",
              "L3.nc1_inside_temp                                5.794662         4.670996            1.241           0.215\n",
              "L3.nacelle_temp                                  -0.341719         5.192207           -0.066           0.948\n",
              "L3.reactice_power_calculated_by_converter         0.704128         1.674724            0.420           0.674\n",
              "L3.reactive_power                                -0.650806         1.692969           -0.384           0.701\n",
              "L3.wind_direction_raw                            -0.030221         0.044579           -0.678           0.498\n",
              "L3.wind_speed_raw                                -6.798827        10.066791           -0.675           0.499\n",
              "L3.wind_speed_turbulence                         -7.355303        30.590711           -0.240           0.810\n",
              "L3.Target                                        -2.400923         2.622567           -0.915           0.360\n",
              "============================================================================================================\n",
              "\n",
              "Results for equation wind_direction_raw\n",
              "============================================================================================================\n",
              "                                               coefficient       std. error           t-stat            prob\n",
              "------------------------------------------------------------------------------------------------------------\n",
              "const                                             0.279766         2.935850            0.095           0.924\n",
              "L1.active_power_calculated_by_converter          -0.081077         0.534058           -0.152           0.879\n",
              "L1.active_power_raw                               0.040788         0.451093            0.090           0.928\n",
              "L1.ambient_temperature                            1.557598         7.631747            0.204           0.838\n",
              "L1.generator_speed                               -0.136544         0.120589           -1.132           0.258\n",
              "L1.generator_winding_temp_max                    -0.571475         1.682106           -0.340           0.734\n",
              "L1.grid_power10min_average                        0.184554         0.148777            1.240           0.215\n",
              "L1.nc1_inside_temp                               10.122416         6.160075            1.643           0.100\n",
              "L1.nacelle_temp                                  -2.452939         8.241885           -0.298           0.766\n",
              "L1.reactice_power_calculated_by_converter         0.949205         2.313260            0.410           0.682\n",
              "L1.reactive_power                                -1.021542         2.341821           -0.436           0.663\n",
              "L1.wind_direction_raw                            -0.178792         0.062015           -2.883           0.004\n",
              "L1.wind_speed_raw                                 0.122818        13.915018            0.009           0.993\n",
              "L1.wind_speed_turbulence                         26.738319        42.906343            0.623           0.533\n",
              "L1.Target                                         6.492599         3.892562            1.668           0.095\n",
              "L2.active_power_calculated_by_converter          -1.343465         0.648379           -2.072           0.038\n",
              "L2.active_power_raw                               0.963325         0.538998            1.787           0.074\n",
              "L2.ambient_temperature                            0.636722         8.611593            0.074           0.941\n",
              "L2.generator_speed                               -0.012558         0.139374           -0.090           0.928\n",
              "L2.generator_winding_temp_max                     2.675255         1.863953            1.435           0.151\n",
              "L2.grid_power10min_average                        0.142534         0.175701            0.811           0.417\n",
              "L2.nc1_inside_temp                               -2.784793         6.777674           -0.411           0.681\n",
              "L2.nacelle_temp                                   1.675502         8.390249            0.200           0.842\n",
              "L2.reactice_power_calculated_by_converter         1.731940         2.749033            0.630           0.529\n",
              "L2.reactive_power                                -1.165689         2.783950           -0.419           0.675\n",
              "L2.wind_direction_raw                            -0.202629         0.061943           -3.271           0.001\n",
              "L2.wind_speed_raw                                26.621404        15.908588            1.673           0.094\n",
              "L2.wind_speed_turbulence                         13.084898        45.571012            0.287           0.774\n",
              "L2.Target                                         0.514969         3.786952            0.136           0.892\n",
              "L3.active_power_calculated_by_converter          -1.044081         0.544778           -1.917           0.055\n",
              "L3.active_power_raw                               0.714088         0.457846            1.560           0.119\n",
              "L3.ambient_temperature                           -4.315296         7.402203           -0.583           0.560\n",
              "L3.generator_speed                                0.145503         0.122897            1.184           0.236\n",
              "L3.generator_winding_temp_max                     2.237020         1.723302            1.298           0.194\n",
              "L3.grid_power10min_average                        0.167923         0.150688            1.114           0.265\n",
              "L3.nc1_inside_temp                                4.098581         6.472389            0.633           0.527\n",
              "L3.nacelle_temp                                   4.424799         7.194607            0.615           0.539\n",
              "L3.reactice_power_calculated_by_converter         1.456826         2.320589            0.628           0.530\n",
              "L3.reactive_power                                -1.136276         2.345871           -0.484           0.628\n",
              "L3.wind_direction_raw                            -0.194855         0.061771           -3.154           0.002\n",
              "L3.wind_speed_raw                                12.913466        13.949098            0.926           0.355\n",
              "L3.wind_speed_turbulence                        -25.553599        42.388167           -0.603           0.547\n",
              "L3.Target                                        -2.312204         3.633973           -0.636           0.525\n",
              "============================================================================================================\n",
              "\n",
              "Results for equation wind_speed_raw\n",
              "============================================================================================================\n",
              "                                               coefficient       std. error           t-stat            prob\n",
              "------------------------------------------------------------------------------------------------------------\n",
              "const                                             0.002579         0.046700            0.055           0.956\n",
              "L1.active_power_calculated_by_converter          -0.016723         0.008495           -1.969           0.049\n",
              "L1.active_power_raw                               0.015918         0.007175            2.218           0.027\n",
              "L1.ambient_temperature                           -0.040608         0.121396           -0.335           0.738\n",
              "L1.generator_speed                                0.001371         0.001918            0.715           0.475\n",
              "L1.generator_winding_temp_max                     0.013850         0.026757            0.518           0.605\n",
              "L1.grid_power10min_average                       -0.000076         0.002367           -0.032           0.974\n",
              "L1.nc1_inside_temp                                0.114714         0.097987            1.171           0.242\n",
              "L1.nacelle_temp                                  -0.048327         0.131101           -0.369           0.712\n",
              "L1.reactice_power_calculated_by_converter        -0.034712         0.036796           -0.943           0.346\n",
              "L1.reactive_power                                 0.040882         0.037251            1.097           0.272\n",
              "L1.wind_direction_raw                            -0.000361         0.000986           -0.366           0.714\n",
              "L1.wind_speed_raw                                -0.771441         0.221342           -3.485           0.000\n",
              "L1.wind_speed_turbulence                          0.382271         0.682499            0.560           0.575\n",
              "L1.Target                                         0.047002         0.061918            0.759           0.448\n",
              "L2.active_power_calculated_by_converter          -0.015574         0.010314           -1.510           0.131\n",
              "L2.active_power_raw                               0.009335         0.008574            1.089           0.276\n",
              "L2.ambient_temperature                           -0.064488         0.136982           -0.471           0.638\n",
              "L2.generator_speed                                0.002978         0.002217            1.343           0.179\n",
              "L2.generator_winding_temp_max                     0.008221         0.029649            0.277           0.782\n",
              "L2.grid_power10min_average                        0.001737         0.002795            0.621           0.534\n",
              "L2.nc1_inside_temp                               -0.082264         0.107811           -0.763           0.445\n",
              "L2.nacelle_temp                                   0.004462         0.133461            0.033           0.973\n",
              "L2.reactice_power_calculated_by_converter         0.037858         0.043728            0.866           0.387\n",
              "L2.reactive_power                                -0.019431         0.044284           -0.439           0.661\n",
              "L2.wind_direction_raw                            -0.001006         0.000985           -1.021           0.307\n",
              "L2.wind_speed_raw                                -0.041354         0.253054           -0.163           0.870\n",
              "L2.wind_speed_turbulence                         -0.686940         0.724885           -0.948           0.343\n",
              "L2.Target                                         0.010663         0.060238            0.177           0.859\n",
              "L3.active_power_calculated_by_converter          -0.006049         0.008666           -0.698           0.485\n",
              "L3.active_power_raw                               0.005720         0.007283            0.785           0.432\n",
              "L3.ambient_temperature                            0.051198         0.117745            0.435           0.664\n",
              "L3.generator_speed                                0.002738         0.001955            1.401           0.161\n",
              "L3.generator_winding_temp_max                    -0.003526         0.027412           -0.129           0.898\n",
              "L3.grid_power10min_average                       -0.000487         0.002397           -0.203           0.839\n",
              "L3.nc1_inside_temp                                0.013507         0.102954            0.131           0.896\n",
              "L3.nacelle_temp                                   0.026333         0.114443            0.230           0.818\n",
              "L3.reactice_power_calculated_by_converter         0.047344         0.036913            1.283           0.200\n",
              "L3.reactive_power                                -0.040295         0.037315           -1.080           0.280\n",
              "L3.wind_direction_raw                             0.000311         0.000983            0.317           0.751\n",
              "L3.wind_speed_raw                                -0.159308         0.221884           -0.718           0.473\n",
              "L3.wind_speed_turbulence                         -0.527731         0.674257           -0.783           0.434\n",
              "L3.Target                                        -0.010754         0.057805           -0.186           0.852\n",
              "============================================================================================================\n",
              "\n",
              "Results for equation wind_speed_turbulence\n",
              "============================================================================================================\n",
              "                                               coefficient       std. error           t-stat            prob\n",
              "------------------------------------------------------------------------------------------------------------\n",
              "const                                             0.001776         0.007292            0.244           0.808\n",
              "L1.active_power_calculated_by_converter          -0.003259         0.001326           -2.457           0.014\n",
              "L1.active_power_raw                               0.002713         0.001120            2.422           0.015\n",
              "L1.ambient_temperature                            0.000193         0.018955            0.010           0.992\n",
              "L1.generator_speed                                0.000508         0.000300            1.697           0.090\n",
              "L1.generator_winding_temp_max                     0.004950         0.004178            1.185           0.236\n",
              "L1.grid_power10min_average                       -0.000218         0.000370           -0.589           0.556\n",
              "L1.nc1_inside_temp                                0.014881         0.015300            0.973           0.331\n",
              "L1.nacelle_temp                                  -0.004455         0.020471           -0.218           0.828\n",
              "L1.reactice_power_calculated_by_converter        -0.012188         0.005746           -2.121           0.034\n",
              "L1.reactive_power                                 0.013895         0.005817            2.389           0.017\n",
              "L1.wind_direction_raw                            -0.000093         0.000154           -0.606           0.544\n",
              "L1.wind_speed_raw                                -0.032034         0.034562           -0.927           0.354\n",
              "L1.wind_speed_turbulence                         -0.473695         0.106569           -4.445           0.000\n",
              "L1.Target                                        -0.001977         0.009668           -0.204           0.838\n",
              "L2.active_power_calculated_by_converter          -0.001698         0.001610           -1.055           0.292\n",
              "L2.active_power_raw                               0.000751         0.001339            0.561           0.575\n",
              "L2.ambient_temperature                           -0.007464         0.021389           -0.349           0.727\n",
              "L2.generator_speed                                0.000430         0.000346            1.241           0.215\n",
              "L2.generator_winding_temp_max                     0.001012         0.004630            0.219           0.827\n",
              "L2.grid_power10min_average                        0.000059         0.000436            0.136           0.892\n",
              "L2.nc1_inside_temp                                0.002187         0.016834            0.130           0.897\n",
              "L2.nacelle_temp                                  -0.004231         0.020839           -0.203           0.839\n",
              "L2.reactice_power_calculated_by_converter        -0.002061         0.006828           -0.302           0.763\n",
              "L2.reactive_power                                 0.004878         0.006915            0.705           0.481\n",
              "L2.wind_direction_raw                            -0.000193         0.000154           -1.252           0.210\n",
              "L2.wind_speed_raw                                 0.041839         0.039513            1.059           0.290\n",
              "L2.wind_speed_turbulence                         -0.474270         0.113188           -4.190           0.000\n",
              "L2.Target                                         0.002178         0.009406            0.232           0.817\n",
              "L3.active_power_calculated_by_converter          -0.000453         0.001353           -0.335           0.738\n",
              "L3.active_power_raw                               0.000728         0.001137            0.640           0.522\n",
              "L3.ambient_temperature                            0.000706         0.018385            0.038           0.969\n",
              "L3.generator_speed                                0.000092         0.000305            0.301           0.763\n",
              "L3.generator_winding_temp_max                     0.003222         0.004280            0.753           0.452\n",
              "L3.grid_power10min_average                       -0.000235         0.000374           -0.627           0.530\n",
              "L3.nc1_inside_temp                                0.005443         0.016076            0.339           0.735\n",
              "L3.nacelle_temp                                   0.010917         0.017870            0.611           0.541\n",
              "L3.reactice_power_calculated_by_converter         0.004012         0.005764            0.696           0.486\n",
              "L3.reactive_power                                -0.003870         0.005827           -0.664           0.507\n",
              "L3.wind_direction_raw                             0.000012         0.000153            0.079           0.937\n",
              "L3.wind_speed_raw                                -0.009907         0.034646           -0.286           0.775\n",
              "L3.wind_speed_turbulence                         -0.171295         0.105282           -1.627           0.104\n",
              "L3.Target                                        -0.007037         0.009026           -0.780           0.436\n",
              "============================================================================================================\n",
              "\n",
              "Results for equation Target\n",
              "============================================================================================================\n",
              "                                               coefficient       std. error           t-stat            prob\n",
              "------------------------------------------------------------------------------------------------------------\n",
              "const                                            -0.012623         0.056630           -0.223           0.824\n",
              "L1.active_power_calculated_by_converter           0.002642         0.010302            0.256           0.798\n",
              "L1.active_power_raw                              -0.006873         0.008701           -0.790           0.430\n",
              "L1.ambient_temperature                            0.135019         0.147211            0.917           0.359\n",
              "L1.generator_speed                                0.004602         0.002326            1.979           0.048\n",
              "L1.generator_winding_temp_max                     0.042312         0.032447            1.304           0.192\n",
              "L1.grid_power10min_average                        0.002296         0.002870            0.800           0.424\n",
              "L1.nc1_inside_temp                               -0.123415         0.118823           -1.039           0.299\n",
              "L1.nacelle_temp                                  -0.088971         0.158980           -0.560           0.576\n",
              "L1.reactice_power_calculated_by_converter         0.028534         0.044621            0.639           0.523\n",
              "L1.reactive_power                                -0.027072         0.045172           -0.599           0.549\n",
              "L1.wind_direction_raw                            -0.000514         0.001196           -0.429           0.668\n",
              "L1.wind_speed_raw                                 0.040391         0.268411            0.150           0.880\n",
              "L1.wind_speed_turbulence                         -0.435584         0.827632           -0.526           0.599\n",
              "L1.Target                                        -0.284746         0.075085           -3.792           0.000\n",
              "L2.active_power_calculated_by_converter           0.008901         0.012507            0.712           0.477\n",
              "L2.active_power_raw                              -0.009028         0.010397           -0.868           0.385\n",
              "L2.ambient_temperature                            0.052467         0.166111            0.316           0.752\n",
              "L2.generator_speed                                0.001337         0.002688            0.497           0.619\n",
              "L2.generator_winding_temp_max                    -0.006586         0.035954           -0.183           0.855\n",
              "L2.grid_power10min_average                        0.001762         0.003389            0.520           0.603\n",
              "L2.nc1_inside_temp                               -0.036430         0.130736           -0.279           0.781\n",
              "L2.nacelle_temp                                   0.050120         0.161842            0.310           0.757\n",
              "L2.reactice_power_calculated_by_converter         0.072766         0.053027            1.372           0.170\n",
              "L2.reactive_power                                -0.067723         0.053700           -1.261           0.207\n",
              "L2.wind_direction_raw                             0.003382         0.001195            2.831           0.005\n",
              "L2.wind_speed_raw                                -0.109486         0.306865           -0.357           0.721\n",
              "L2.wind_speed_turbulence                          0.232521         0.879032            0.265           0.791\n",
              "L2.Target                                        -0.237413         0.073048           -3.250           0.001\n",
              "L3.active_power_calculated_by_converter           0.006665         0.010508            0.634           0.526\n",
              "L3.active_power_raw                              -0.003792         0.008832           -0.429           0.668\n",
              "L3.ambient_temperature                           -0.120311         0.142783           -0.843           0.399\n",
              "L3.generator_speed                                0.001102         0.002371            0.465           0.642\n",
              "L3.generator_winding_temp_max                     0.007775         0.033241            0.234           0.815\n",
              "L3.grid_power10min_average                       -0.000857         0.002907           -0.295           0.768\n",
              "L3.nc1_inside_temp                               -0.016838         0.124848           -0.135           0.893\n",
              "L3.nacelle_temp                                   0.092870         0.138779            0.669           0.503\n",
              "L3.reactice_power_calculated_by_converter         0.037996         0.044762            0.849           0.396\n",
              "L3.reactive_power                                -0.040555         0.045250           -0.896           0.370\n",
              "L3.wind_direction_raw                            -0.000396         0.001192           -0.332           0.740\n",
              "L3.wind_speed_raw                                -0.043998         0.269068           -0.164           0.870\n",
              "L3.wind_speed_turbulence                         -0.242548         0.817637           -0.297           0.767\n",
              "L3.Target                                        -0.126320         0.070097           -1.802           0.072\n",
              "============================================================================================================\n",
              "\n",
              "Correlation matrix of residuals\n",
              "                                          active_power_calculated_by_converter  active_power_raw  ambient_temperature  generator_speed  generator_winding_temp_max  grid_power10min_average  nc1_inside_temp  nacelle_temp  reactice_power_calculated_by_converter  reactive_power  wind_direction_raw  wind_speed_raw  wind_speed_turbulence    Target\n",
              "active_power_calculated_by_converter                                  1.000000          0.999275            -0.230860         0.931629                    0.698484                 0.994356        -0.033479     -0.234346                                0.937573        0.958940            0.224482        0.946191               0.761321 -0.104652\n",
              "active_power_raw                                                      0.999275          1.000000            -0.233571         0.930664                    0.688361                 0.993499        -0.036470     -0.237096                                0.933742        0.955461            0.226496        0.944645               0.764831 -0.107524\n",
              "ambient_temperature                                                  -0.230860         -0.233571             1.000000        -0.214548                    0.166322                -0.229283        -0.139696      0.916018                               -0.198515       -0.209350           -0.312900       -0.280015              -0.119131  0.533767\n",
              "generator_speed                                                       0.931629          0.930664            -0.214548         1.000000                    0.634659                 0.926630        -0.030038     -0.228774                                0.810525        0.840770            0.261342        0.926692               0.724374 -0.070286\n",
              "generator_winding_temp_max                                            0.698484          0.688361             0.166322         0.634659                    1.000000                 0.710100        -0.108873      0.187783                                0.702714        0.718673            0.031992        0.665667               0.448187  0.294362\n",
              "grid_power10min_average                                               0.994356          0.993499            -0.229283         0.926630                    0.710100                 1.000000        -0.046573     -0.233901                                0.930825        0.952539            0.226426        0.944173               0.756939 -0.104876\n",
              "nc1_inside_temp                                                      -0.033479         -0.036470            -0.139696        -0.030038                   -0.108873                -0.046573         1.000000     -0.122454                                0.000725       -0.009802            0.095166       -0.024267              -0.004538 -0.126890\n",
              "nacelle_temp                                                         -0.234346         -0.237096             0.916018        -0.228774                    0.187783                -0.233901        -0.122454      1.000000                               -0.201136       -0.212963           -0.312226       -0.286956              -0.130830  0.571888\n",
              "reactice_power_calculated_by_converter                                0.937573          0.933742            -0.198515         0.810525                    0.702714                 0.930825         0.000725     -0.201136                                1.000000        0.996690            0.131722        0.856450               0.726037 -0.094706\n",
              "reactive_power                                                        0.958940          0.955461            -0.209350         0.840770                    0.718673                 0.952539        -0.009802     -0.212963                                0.996690        1.000000            0.152996        0.885261               0.731995 -0.097738\n",
              "wind_direction_raw                                                    0.224482          0.226496            -0.312900         0.261342                    0.031992                 0.226426         0.095166     -0.312226                                0.131722        0.152996            1.000000        0.222574               0.091238 -0.174707\n",
              "wind_speed_raw                                                        0.946191          0.944645            -0.280015         0.926692                    0.665667                 0.944173        -0.024267     -0.286956                                0.856450        0.885261            0.222574        1.000000               0.780883 -0.148120\n",
              "wind_speed_turbulence                                                 0.761321          0.764831            -0.119131         0.724374                    0.448187                 0.756939        -0.004538     -0.130830                                0.726037        0.731995            0.091238        0.780883               1.000000 -0.073883\n",
              "Target                                                               -0.104652         -0.107524             0.533767        -0.070286                    0.294362                -0.104876        -0.126890      0.571888                               -0.094706       -0.097738           -0.174707       -0.148120              -0.073883  1.000000\n",
              "\n"
            ]
          },
          "metadata": {},
          "execution_count": 34
        }
      ]
    },
    {
      "cell_type": "markdown",
      "source": [
        "<h1><b>Selecting relevant features for the prediction of y(Target variable)</b></h1>"
      ],
      "metadata": {
        "id": "ndS-SB4tnjjq"
      }
    },
    {
      "cell_type": "code",
      "source": [
        "from statsmodels.tsa.stattools import grangercausalitytests\n",
        "\n",
        "y='Target'\n",
        "max_lags=3\n",
        "for i in range(len(df_differenced.columns)-1):\n",
        "  results=grangercausalitytests(df_differenced[[y,df_differenced.columns[i]]],max_lags,verbose=False)\n",
        "  p_values=[round(results[i+1][0]['ssr_ftest'][1],4) for i in range(max_lags)]\n",
        "  print('column - {} : P_Values - {}'.format(df_differenced.columns[i+1],p_values))"
      ],
      "metadata": {
        "colab": {
          "base_uri": "https://localhost:8080/"
        },
        "id": "kOSqlRfvniMT",
        "outputId": "e05afa51-a0a1-43ac-8fdb-3f497bc28e70"
      },
      "execution_count": null,
      "outputs": [
        {
          "output_type": "stream",
          "name": "stdout",
          "text": [
            "column - active_power_raw : P_Values - [0.1154, 0.2583, 0.3452]\n",
            "column - ambient_temperature : P_Values - [0.1015, 0.2343, 0.3149]\n",
            "column - generator_speed : P_Values - [0.033, 0.1548, 0.1834]\n",
            "column - generator_winding_temp_max : P_Values - [0.6625, 0.4627, 0.4696]\n",
            "column - grid_power10min_average : P_Values - [0.3153, 0.3531, 0.4977]\n",
            "column - nc1_inside_temp : P_Values - [0.1633, 0.3146, 0.4025]\n",
            "column - nacelle_temp : P_Values - [0.0842, 0.3169, 0.5252]\n",
            "column - reactice_power_calculated_by_converter : P_Values - [0.1907, 0.4316, 0.5284]\n",
            "column - reactive_power : P_Values - [0.1567, 0.328, 0.4418]\n",
            "column - wind_direction_raw : P_Values - [0.147, 0.3145, 0.4288]\n",
            "column - wind_speed_raw : P_Values - [0.1513, 0.0217, 0.047]\n",
            "column - wind_speed_turbulence : P_Values - [0.1522, 0.236, 0.4329]\n",
            "column - Target : P_Values - [0.032, 0.1449, 0.2537]\n"
          ]
        }
      ]
    },
    {
      "cell_type": "code",
      "source": [
        "# df_train.select_dtypes(include=['float64'])\n",
        "from statsmodels.tsa.stattools import grangercausalitytests\n",
        "df_numeric=df_train.select_dtypes(include=['float64'])\n",
        "y='Target'\n",
        "max_lags=3\n",
        "for i in range(len(df_numeric)-1):\n",
        "  results=grangercausalitytests(df_numeric[[y,df_numeric.columns[i]]],max_lags,verbose=False)\n",
        "  p_values=[round(results[i+1][0]['ssr_ftest'][1],4) for i in range(max_lags)]\n",
        "  print('column - {} : P_Values - {}'.format(df_numeric.columns[i],p_values))"
      ],
      "metadata": {
        "colab": {
          "base_uri": "https://localhost:8080/",
          "height": 599
        },
        "id": "G1SJgmjxuEQD",
        "outputId": "9321cf05-3ba5-4d4d-8769-861bd96921a3"
      },
      "execution_count": null,
      "outputs": [
        {
          "output_type": "stream",
          "name": "stdout",
          "text": [
            "column - active_power_calculated_by_converter : P_Values - [0.898, 0.373, 0.5191]\n",
            "column - active_power_raw : P_Values - [0.8967, 0.3417, 0.4808]\n",
            "column - ambient_temperature : P_Values - [0.3582, 0.0793, 0.1415]\n",
            "column - generator_speed : P_Values - [0.888, 0.8132, 0.7332]\n",
            "column - generator_winding_temp_max : P_Values - [0.6962, 0.471, 0.4799]\n",
            "column - grid_power10min_average : P_Values - [0.9765, 0.4748, 0.6006]\n",
            "column - nc1_inside_temp : P_Values - [0.3406, 0.0566, 0.1587]\n",
            "column - nacelle_temp : P_Values - [0.1693, 0.1492, 0.1355]\n",
            "column - reactice_power_calculated_by_converter : P_Values - [0.2073, 0.1093, 0.2744]\n",
            "column - reactive_power : P_Values - [0.2714, 0.139, 0.3069]\n",
            "column - wind_direction_raw : P_Values - [0.4002, 0.1105, 0.0263]\n",
            "column - wind_speed_raw : P_Values - [0.9803, 0.4618, 0.4614]\n",
            "column - wind_speed_turbulence : P_Values - [0.438, 0.1506, 0.3008]\n",
            "column - Target : P_Values - [1.0, 1.0, 1.0]\n"
          ]
        },
        {
          "output_type": "error",
          "ename": "IndexError",
          "evalue": "ignored",
          "traceback": [
            "\u001b[0;31m---------------------------------------------------------------------------\u001b[0m",
            "\u001b[0;31mIndexError\u001b[0m                                Traceback (most recent call last)",
            "\u001b[0;32m<ipython-input-66-493a02be9642>\u001b[0m in \u001b[0;36m<module>\u001b[0;34m\u001b[0m\n\u001b[1;32m      5\u001b[0m \u001b[0mmax_lags\u001b[0m\u001b[0;34m=\u001b[0m\u001b[0;36m3\u001b[0m\u001b[0;34m\u001b[0m\u001b[0;34m\u001b[0m\u001b[0m\n\u001b[1;32m      6\u001b[0m \u001b[0;32mfor\u001b[0m \u001b[0mi\u001b[0m \u001b[0;32min\u001b[0m \u001b[0mrange\u001b[0m\u001b[0;34m(\u001b[0m\u001b[0mlen\u001b[0m\u001b[0;34m(\u001b[0m\u001b[0mdf_numeric\u001b[0m\u001b[0;34m)\u001b[0m\u001b[0;34m-\u001b[0m\u001b[0;36m1\u001b[0m\u001b[0;34m)\u001b[0m\u001b[0;34m:\u001b[0m\u001b[0;34m\u001b[0m\u001b[0;34m\u001b[0m\u001b[0m\n\u001b[0;32m----> 7\u001b[0;31m   \u001b[0mresults\u001b[0m\u001b[0;34m=\u001b[0m\u001b[0mgrangercausalitytests\u001b[0m\u001b[0;34m(\u001b[0m\u001b[0mdf_numeric\u001b[0m\u001b[0;34m[\u001b[0m\u001b[0;34m[\u001b[0m\u001b[0my\u001b[0m\u001b[0;34m,\u001b[0m\u001b[0mdf_numeric\u001b[0m\u001b[0;34m.\u001b[0m\u001b[0mcolumns\u001b[0m\u001b[0;34m[\u001b[0m\u001b[0mi\u001b[0m\u001b[0;34m]\u001b[0m\u001b[0;34m]\u001b[0m\u001b[0;34m]\u001b[0m\u001b[0;34m,\u001b[0m\u001b[0mmax_lags\u001b[0m\u001b[0;34m,\u001b[0m\u001b[0mverbose\u001b[0m\u001b[0;34m=\u001b[0m\u001b[0;32mFalse\u001b[0m\u001b[0;34m)\u001b[0m\u001b[0;34m\u001b[0m\u001b[0;34m\u001b[0m\u001b[0m\n\u001b[0m\u001b[1;32m      8\u001b[0m   \u001b[0mp_values\u001b[0m\u001b[0;34m=\u001b[0m\u001b[0;34m[\u001b[0m\u001b[0mround\u001b[0m\u001b[0;34m(\u001b[0m\u001b[0mresults\u001b[0m\u001b[0;34m[\u001b[0m\u001b[0mi\u001b[0m\u001b[0;34m+\u001b[0m\u001b[0;36m1\u001b[0m\u001b[0;34m]\u001b[0m\u001b[0;34m[\u001b[0m\u001b[0;36m0\u001b[0m\u001b[0;34m]\u001b[0m\u001b[0;34m[\u001b[0m\u001b[0;34m'ssr_ftest'\u001b[0m\u001b[0;34m]\u001b[0m\u001b[0;34m[\u001b[0m\u001b[0;36m1\u001b[0m\u001b[0;34m]\u001b[0m\u001b[0;34m,\u001b[0m\u001b[0;36m4\u001b[0m\u001b[0;34m)\u001b[0m \u001b[0;32mfor\u001b[0m \u001b[0mi\u001b[0m \u001b[0;32min\u001b[0m \u001b[0mrange\u001b[0m\u001b[0;34m(\u001b[0m\u001b[0mmax_lags\u001b[0m\u001b[0;34m)\u001b[0m\u001b[0;34m]\u001b[0m\u001b[0;34m\u001b[0m\u001b[0;34m\u001b[0m\u001b[0m\n\u001b[1;32m      9\u001b[0m   \u001b[0mprint\u001b[0m\u001b[0;34m(\u001b[0m\u001b[0;34m'column - {} : P_Values - {}'\u001b[0m\u001b[0;34m.\u001b[0m\u001b[0mformat\u001b[0m\u001b[0;34m(\u001b[0m\u001b[0mdf_numeric\u001b[0m\u001b[0;34m.\u001b[0m\u001b[0mcolumns\u001b[0m\u001b[0;34m[\u001b[0m\u001b[0mi\u001b[0m\u001b[0;34m]\u001b[0m\u001b[0;34m,\u001b[0m\u001b[0mp_values\u001b[0m\u001b[0;34m)\u001b[0m\u001b[0;34m)\u001b[0m\u001b[0;34m\u001b[0m\u001b[0;34m\u001b[0m\u001b[0m\n",
            "\u001b[0;32m/usr/local/lib/python3.8/dist-packages/pandas/core/indexes/base.py\u001b[0m in \u001b[0;36m__getitem__\u001b[0;34m(self, key)\u001b[0m\n\u001b[1;32m   4602\u001b[0m         \u001b[0;32mif\u001b[0m \u001b[0mis_scalar\u001b[0m\u001b[0;34m(\u001b[0m\u001b[0mkey\u001b[0m\u001b[0;34m)\u001b[0m\u001b[0;34m:\u001b[0m\u001b[0;34m\u001b[0m\u001b[0;34m\u001b[0m\u001b[0m\n\u001b[1;32m   4603\u001b[0m             \u001b[0mkey\u001b[0m \u001b[0;34m=\u001b[0m \u001b[0mcom\u001b[0m\u001b[0;34m.\u001b[0m\u001b[0mcast_scalar_indexer\u001b[0m\u001b[0;34m(\u001b[0m\u001b[0mkey\u001b[0m\u001b[0;34m,\u001b[0m \u001b[0mwarn_float\u001b[0m\u001b[0;34m=\u001b[0m\u001b[0;32mTrue\u001b[0m\u001b[0;34m)\u001b[0m\u001b[0;34m\u001b[0m\u001b[0;34m\u001b[0m\u001b[0m\n\u001b[0;32m-> 4604\u001b[0;31m             \u001b[0;32mreturn\u001b[0m \u001b[0mgetitem\u001b[0m\u001b[0;34m(\u001b[0m\u001b[0mkey\u001b[0m\u001b[0;34m)\u001b[0m\u001b[0;34m\u001b[0m\u001b[0;34m\u001b[0m\u001b[0m\n\u001b[0m\u001b[1;32m   4605\u001b[0m \u001b[0;34m\u001b[0m\u001b[0m\n\u001b[1;32m   4606\u001b[0m         \u001b[0;32mif\u001b[0m \u001b[0misinstance\u001b[0m\u001b[0;34m(\u001b[0m\u001b[0mkey\u001b[0m\u001b[0;34m,\u001b[0m \u001b[0mslice\u001b[0m\u001b[0;34m)\u001b[0m\u001b[0;34m:\u001b[0m\u001b[0;34m\u001b[0m\u001b[0;34m\u001b[0m\u001b[0m\n",
            "\u001b[0;31mIndexError\u001b[0m: index 14 is out of bounds for axis 0 with size 14"
          ]
        }
      ]
    },
    {
      "cell_type": "markdown",
      "source": [
        "<h1><b><font color='red'>*****************FINISH***********************</font></b></h1>"
      ],
      "metadata": {
        "id": "EJg6Hz16ZxtN"
      }
    },
    {
      "cell_type": "markdown",
      "source": [
        "<h1><b><font color='red'>*****************FINISH***********************</font></b></h1>"
      ],
      "metadata": {
        "id": "CgsxGAzVaBzN"
      }
    },
    {
      "cell_type": "code",
      "source": [
        "\n",
        "# d_ALDR=data_mv.copy()\n",
        "# d_ALDR.set_index(data_mv['Date'],inplace=True)\n",
        "# d_ALDR.index=pd.to_datetime(d_ALDR.index)"
      ],
      "metadata": {
        "id": "IQVUlsOR7Sz-"
      },
      "execution_count": null,
      "outputs": []
    },
    {
      "cell_type": "code",
      "source": [
        "# d_ALDR.index\n",
        "# d_ALDR=d_ALDR.resample('d').mean()"
      ],
      "metadata": {
        "id": "2Ep-eHMb79T7"
      },
      "execution_count": null,
      "outputs": []
    },
    {
      "cell_type": "code",
      "source": [
        "# d_ALDR.head()"
      ],
      "metadata": {
        "colab": {
          "base_uri": "https://localhost:8080/",
          "height": 388
        },
        "id": "_cB8dG438xin",
        "outputId": "4971c1c3-4705-4485-d07b-ac0f18b7f45e"
      },
      "execution_count": null,
      "outputs": [
        {
          "output_type": "execute_result",
          "data": {
            "text/plain": [
              "            active_power_calculated_by_converter  active_power_raw  \\\n",
              "Date                                                                 \n",
              "2021-01-01                            514.379880        527.268918   \n",
              "2021-01-02                            257.439371        263.150614   \n",
              "2021-01-03                            213.710271        217.022307   \n",
              "2021-01-04                                   NaN               NaN   \n",
              "2021-01-05                                   NaN               NaN   \n",
              "\n",
              "            ambient_temperature  generator_speed  generator_winding_temp_max  \\\n",
              "Date                                                                           \n",
              "2021-01-01            12.656318       989.407458                   53.128666   \n",
              "2021-01-02            12.527712       852.456224                   46.551896   \n",
              "2021-01-03            12.111230       826.764154                   47.728809   \n",
              "2021-01-04                  NaN              NaN                         NaN   \n",
              "2021-01-05                  NaN              NaN                         NaN   \n",
              "\n",
              "            grid_power10min_average  nc1_inside_temp  nacelle_temp  \\\n",
              "Date                                                                 \n",
              "2021-01-01               533.887291        29.232669     24.448870   \n",
              "2021-01-02               243.541707        28.414693     24.199912   \n",
              "2021-01-03               216.989039        27.447457     23.243477   \n",
              "2021-01-04                      NaN              NaN           NaN   \n",
              "2021-01-05                      NaN              NaN           NaN   \n",
              "\n",
              "            reactice_power_calculated_by_converter  reactive_power  \\\n",
              "Date                                                                 \n",
              "2021-01-01                              122.676631      151.221675   \n",
              "2021-01-02                               99.999920      118.449376   \n",
              "2021-01-03                               98.603086      115.746845   \n",
              "2021-01-04                                     NaN             NaN   \n",
              "2021-01-05                                     NaN             NaN   \n",
              "\n",
              "            wind_direction_raw  wind_speed_raw  wind_speed_turbulence  \\\n",
              "Date                                                                    \n",
              "2021-01-01           48.825283        6.798447               0.364133   \n",
              "2021-01-02           38.895640        5.169766               0.384063   \n",
              "2021-01-03           47.957691        5.107267               0.355222   \n",
              "2021-01-04                 NaN             NaN                    NaN   \n",
              "2021-01-05                 NaN             NaN                    NaN   \n",
              "\n",
              "               Target  \n",
              "Date                   \n",
              "2021-01-01  46.753929  \n",
              "2021-01-02  46.078418  \n",
              "2021-01-03  45.977852  \n",
              "2021-01-04        NaN  \n",
              "2021-01-05        NaN  "
            ],
            "text/html": [
              "\n",
              "  <div id=\"df-cf46392a-2d36-49a8-9d8f-9e7a5e5c03f8\">\n",
              "    <div class=\"colab-df-container\">\n",
              "      <div>\n",
              "<style scoped>\n",
              "    .dataframe tbody tr th:only-of-type {\n",
              "        vertical-align: middle;\n",
              "    }\n",
              "\n",
              "    .dataframe tbody tr th {\n",
              "        vertical-align: top;\n",
              "    }\n",
              "\n",
              "    .dataframe thead th {\n",
              "        text-align: right;\n",
              "    }\n",
              "</style>\n",
              "<table border=\"1\" class=\"dataframe\">\n",
              "  <thead>\n",
              "    <tr style=\"text-align: right;\">\n",
              "      <th></th>\n",
              "      <th>active_power_calculated_by_converter</th>\n",
              "      <th>active_power_raw</th>\n",
              "      <th>ambient_temperature</th>\n",
              "      <th>generator_speed</th>\n",
              "      <th>generator_winding_temp_max</th>\n",
              "      <th>grid_power10min_average</th>\n",
              "      <th>nc1_inside_temp</th>\n",
              "      <th>nacelle_temp</th>\n",
              "      <th>reactice_power_calculated_by_converter</th>\n",
              "      <th>reactive_power</th>\n",
              "      <th>wind_direction_raw</th>\n",
              "      <th>wind_speed_raw</th>\n",
              "      <th>wind_speed_turbulence</th>\n",
              "      <th>Target</th>\n",
              "    </tr>\n",
              "    <tr>\n",
              "      <th>Date</th>\n",
              "      <th></th>\n",
              "      <th></th>\n",
              "      <th></th>\n",
              "      <th></th>\n",
              "      <th></th>\n",
              "      <th></th>\n",
              "      <th></th>\n",
              "      <th></th>\n",
              "      <th></th>\n",
              "      <th></th>\n",
              "      <th></th>\n",
              "      <th></th>\n",
              "      <th></th>\n",
              "      <th></th>\n",
              "    </tr>\n",
              "  </thead>\n",
              "  <tbody>\n",
              "    <tr>\n",
              "      <th>2021-01-01</th>\n",
              "      <td>514.379880</td>\n",
              "      <td>527.268918</td>\n",
              "      <td>12.656318</td>\n",
              "      <td>989.407458</td>\n",
              "      <td>53.128666</td>\n",
              "      <td>533.887291</td>\n",
              "      <td>29.232669</td>\n",
              "      <td>24.448870</td>\n",
              "      <td>122.676631</td>\n",
              "      <td>151.221675</td>\n",
              "      <td>48.825283</td>\n",
              "      <td>6.798447</td>\n",
              "      <td>0.364133</td>\n",
              "      <td>46.753929</td>\n",
              "    </tr>\n",
              "    <tr>\n",
              "      <th>2021-01-02</th>\n",
              "      <td>257.439371</td>\n",
              "      <td>263.150614</td>\n",
              "      <td>12.527712</td>\n",
              "      <td>852.456224</td>\n",
              "      <td>46.551896</td>\n",
              "      <td>243.541707</td>\n",
              "      <td>28.414693</td>\n",
              "      <td>24.199912</td>\n",
              "      <td>99.999920</td>\n",
              "      <td>118.449376</td>\n",
              "      <td>38.895640</td>\n",
              "      <td>5.169766</td>\n",
              "      <td>0.384063</td>\n",
              "      <td>46.078418</td>\n",
              "    </tr>\n",
              "    <tr>\n",
              "      <th>2021-01-03</th>\n",
              "      <td>213.710271</td>\n",
              "      <td>217.022307</td>\n",
              "      <td>12.111230</td>\n",
              "      <td>826.764154</td>\n",
              "      <td>47.728809</td>\n",
              "      <td>216.989039</td>\n",
              "      <td>27.447457</td>\n",
              "      <td>23.243477</td>\n",
              "      <td>98.603086</td>\n",
              "      <td>115.746845</td>\n",
              "      <td>47.957691</td>\n",
              "      <td>5.107267</td>\n",
              "      <td>0.355222</td>\n",
              "      <td>45.977852</td>\n",
              "    </tr>\n",
              "    <tr>\n",
              "      <th>2021-01-04</th>\n",
              "      <td>NaN</td>\n",
              "      <td>NaN</td>\n",
              "      <td>NaN</td>\n",
              "      <td>NaN</td>\n",
              "      <td>NaN</td>\n",
              "      <td>NaN</td>\n",
              "      <td>NaN</td>\n",
              "      <td>NaN</td>\n",
              "      <td>NaN</td>\n",
              "      <td>NaN</td>\n",
              "      <td>NaN</td>\n",
              "      <td>NaN</td>\n",
              "      <td>NaN</td>\n",
              "      <td>NaN</td>\n",
              "    </tr>\n",
              "    <tr>\n",
              "      <th>2021-01-05</th>\n",
              "      <td>NaN</td>\n",
              "      <td>NaN</td>\n",
              "      <td>NaN</td>\n",
              "      <td>NaN</td>\n",
              "      <td>NaN</td>\n",
              "      <td>NaN</td>\n",
              "      <td>NaN</td>\n",
              "      <td>NaN</td>\n",
              "      <td>NaN</td>\n",
              "      <td>NaN</td>\n",
              "      <td>NaN</td>\n",
              "      <td>NaN</td>\n",
              "      <td>NaN</td>\n",
              "      <td>NaN</td>\n",
              "    </tr>\n",
              "  </tbody>\n",
              "</table>\n",
              "</div>\n",
              "      <button class=\"colab-df-convert\" onclick=\"convertToInteractive('df-cf46392a-2d36-49a8-9d8f-9e7a5e5c03f8')\"\n",
              "              title=\"Convert this dataframe to an interactive table.\"\n",
              "              style=\"display:none;\">\n",
              "        \n",
              "  <svg xmlns=\"http://www.w3.org/2000/svg\" height=\"24px\"viewBox=\"0 0 24 24\"\n",
              "       width=\"24px\">\n",
              "    <path d=\"M0 0h24v24H0V0z\" fill=\"none\"/>\n",
              "    <path d=\"M18.56 5.44l.94 2.06.94-2.06 2.06-.94-2.06-.94-.94-2.06-.94 2.06-2.06.94zm-11 1L8.5 8.5l.94-2.06 2.06-.94-2.06-.94L8.5 2.5l-.94 2.06-2.06.94zm10 10l.94 2.06.94-2.06 2.06-.94-2.06-.94-.94-2.06-.94 2.06-2.06.94z\"/><path d=\"M17.41 7.96l-1.37-1.37c-.4-.4-.92-.59-1.43-.59-.52 0-1.04.2-1.43.59L10.3 9.45l-7.72 7.72c-.78.78-.78 2.05 0 2.83L4 21.41c.39.39.9.59 1.41.59.51 0 1.02-.2 1.41-.59l7.78-7.78 2.81-2.81c.8-.78.8-2.07 0-2.86zM5.41 20L4 18.59l7.72-7.72 1.47 1.35L5.41 20z\"/>\n",
              "  </svg>\n",
              "      </button>\n",
              "      \n",
              "  <style>\n",
              "    .colab-df-container {\n",
              "      display:flex;\n",
              "      flex-wrap:wrap;\n",
              "      gap: 12px;\n",
              "    }\n",
              "\n",
              "    .colab-df-convert {\n",
              "      background-color: #E8F0FE;\n",
              "      border: none;\n",
              "      border-radius: 50%;\n",
              "      cursor: pointer;\n",
              "      display: none;\n",
              "      fill: #1967D2;\n",
              "      height: 32px;\n",
              "      padding: 0 0 0 0;\n",
              "      width: 32px;\n",
              "    }\n",
              "\n",
              "    .colab-df-convert:hover {\n",
              "      background-color: #E2EBFA;\n",
              "      box-shadow: 0px 1px 2px rgba(60, 64, 67, 0.3), 0px 1px 3px 1px rgba(60, 64, 67, 0.15);\n",
              "      fill: #174EA6;\n",
              "    }\n",
              "\n",
              "    [theme=dark] .colab-df-convert {\n",
              "      background-color: #3B4455;\n",
              "      fill: #D2E3FC;\n",
              "    }\n",
              "\n",
              "    [theme=dark] .colab-df-convert:hover {\n",
              "      background-color: #434B5C;\n",
              "      box-shadow: 0px 1px 3px 1px rgba(0, 0, 0, 0.15);\n",
              "      filter: drop-shadow(0px 1px 2px rgba(0, 0, 0, 0.3));\n",
              "      fill: #FFFFFF;\n",
              "    }\n",
              "  </style>\n",
              "\n",
              "      <script>\n",
              "        const buttonEl =\n",
              "          document.querySelector('#df-cf46392a-2d36-49a8-9d8f-9e7a5e5c03f8 button.colab-df-convert');\n",
              "        buttonEl.style.display =\n",
              "          google.colab.kernel.accessAllowed ? 'block' : 'none';\n",
              "\n",
              "        async function convertToInteractive(key) {\n",
              "          const element = document.querySelector('#df-cf46392a-2d36-49a8-9d8f-9e7a5e5c03f8');\n",
              "          const dataTable =\n",
              "            await google.colab.kernel.invokeFunction('convertToInteractive',\n",
              "                                                     [key], {});\n",
              "          if (!dataTable) return;\n",
              "\n",
              "          const docLinkHtml = 'Like what you see? Visit the ' +\n",
              "            '<a target=\"_blank\" href=https://colab.research.google.com/notebooks/data_table.ipynb>data table notebook</a>'\n",
              "            + ' to learn more about interactive tables.';\n",
              "          element.innerHTML = '';\n",
              "          dataTable['output_type'] = 'display_data';\n",
              "          await google.colab.output.renderOutput(dataTable, element);\n",
              "          const docLink = document.createElement('div');\n",
              "          docLink.innerHTML = docLinkHtml;\n",
              "          element.appendChild(docLink);\n",
              "        }\n",
              "      </script>\n",
              "    </div>\n",
              "  </div>\n",
              "  "
            ]
          },
          "metadata": {},
          "execution_count": 50
        }
      ]
    },
    {
      "cell_type": "code",
      "source": [
        "# dff=dd.copy()\n",
        "# dff.head()\n",
        "# dff.index"
      ],
      "metadata": {
        "id": "AWE-5RYN83YH"
      },
      "execution_count": null,
      "outputs": []
    },
    {
      "cell_type": "code",
      "source": [
        "# d_ALDR.interpolate(method='polynomial',order=3,axis=0,limit=14,inplace=True)"
      ],
      "metadata": {
        "id": "qsBTDV0q9L0q"
      },
      "execution_count": null,
      "outputs": []
    },
    {
      "cell_type": "code",
      "source": [
        "# d_ALDR.head()"
      ],
      "metadata": {
        "colab": {
          "base_uri": "https://localhost:8080/",
          "height": 388
        },
        "id": "o86onD4A9V1v",
        "outputId": "101b41b1-76fa-4532-8a81-799590826d12"
      },
      "execution_count": null,
      "outputs": [
        {
          "output_type": "execute_result",
          "data": {
            "text/plain": [
              "            active_power_calculated_by_converter  active_power_raw  \\\n",
              "Date                                                                 \n",
              "2021-01-01                            514.379880        527.268918   \n",
              "2021-01-02                            257.439371        263.150614   \n",
              "2021-01-03                            213.710271        217.022307   \n",
              "2021-01-04                            188.188543        191.924016   \n",
              "2021-01-05                            146.603988        152.733430   \n",
              "\n",
              "            ambient_temperature  generator_speed  generator_winding_temp_max  \\\n",
              "Date                                                                           \n",
              "2021-01-01            12.656318       989.407458                   53.128666   \n",
              "2021-01-02            12.527712       852.456224                   46.551896   \n",
              "2021-01-03            12.111230       826.764154                   47.728809   \n",
              "2021-01-04            11.426277       808.759435                   49.322389   \n",
              "2021-01-05            10.565348       780.711802                   50.010192   \n",
              "\n",
              "            grid_power10min_average  nc1_inside_temp  nacelle_temp  \\\n",
              "Date                                                                 \n",
              "2021-01-01               533.887291        29.232669     24.448870   \n",
              "2021-01-02               243.541707        28.414693     24.199912   \n",
              "2021-01-03               216.989039        27.447457     23.243477   \n",
              "2021-01-04               208.171585        27.052551     23.006706   \n",
              "2021-01-05               174.008113        27.263401     23.606693   \n",
              "\n",
              "            reactice_power_calculated_by_converter  reactive_power  \\\n",
              "Date                                                                 \n",
              "2021-01-01                              122.676631      151.221675   \n",
              "2021-01-02                               99.999920      118.449376   \n",
              "2021-01-03                               98.603086      115.746845   \n",
              "2021-01-04                               97.496436      113.739416   \n",
              "2021-01-05                               93.251649      107.589866   \n",
              "\n",
              "            wind_direction_raw  wind_speed_raw  wind_speed_turbulence  \\\n",
              "Date                                                                    \n",
              "2021-01-01           48.825283        6.798447               0.364133   \n",
              "2021-01-02           38.895640        5.169766               0.384063   \n",
              "2021-01-03           47.957691        5.107267               0.355222   \n",
              "2021-01-04           54.698811        5.217964               0.318344   \n",
              "2021-01-05           55.883795        5.239909               0.282795   \n",
              "\n",
              "               Target  \n",
              "Date                   \n",
              "2021-01-01  46.753929  \n",
              "2021-01-02  46.078418  \n",
              "2021-01-03  45.977852  \n",
              "2021-01-04  46.297606  \n",
              "2021-01-05  46.926457  "
            ],
            "text/html": [
              "\n",
              "  <div id=\"df-eb500228-2d9a-4982-84f2-21c737bfb252\">\n",
              "    <div class=\"colab-df-container\">\n",
              "      <div>\n",
              "<style scoped>\n",
              "    .dataframe tbody tr th:only-of-type {\n",
              "        vertical-align: middle;\n",
              "    }\n",
              "\n",
              "    .dataframe tbody tr th {\n",
              "        vertical-align: top;\n",
              "    }\n",
              "\n",
              "    .dataframe thead th {\n",
              "        text-align: right;\n",
              "    }\n",
              "</style>\n",
              "<table border=\"1\" class=\"dataframe\">\n",
              "  <thead>\n",
              "    <tr style=\"text-align: right;\">\n",
              "      <th></th>\n",
              "      <th>active_power_calculated_by_converter</th>\n",
              "      <th>active_power_raw</th>\n",
              "      <th>ambient_temperature</th>\n",
              "      <th>generator_speed</th>\n",
              "      <th>generator_winding_temp_max</th>\n",
              "      <th>grid_power10min_average</th>\n",
              "      <th>nc1_inside_temp</th>\n",
              "      <th>nacelle_temp</th>\n",
              "      <th>reactice_power_calculated_by_converter</th>\n",
              "      <th>reactive_power</th>\n",
              "      <th>wind_direction_raw</th>\n",
              "      <th>wind_speed_raw</th>\n",
              "      <th>wind_speed_turbulence</th>\n",
              "      <th>Target</th>\n",
              "    </tr>\n",
              "    <tr>\n",
              "      <th>Date</th>\n",
              "      <th></th>\n",
              "      <th></th>\n",
              "      <th></th>\n",
              "      <th></th>\n",
              "      <th></th>\n",
              "      <th></th>\n",
              "      <th></th>\n",
              "      <th></th>\n",
              "      <th></th>\n",
              "      <th></th>\n",
              "      <th></th>\n",
              "      <th></th>\n",
              "      <th></th>\n",
              "      <th></th>\n",
              "    </tr>\n",
              "  </thead>\n",
              "  <tbody>\n",
              "    <tr>\n",
              "      <th>2021-01-01</th>\n",
              "      <td>514.379880</td>\n",
              "      <td>527.268918</td>\n",
              "      <td>12.656318</td>\n",
              "      <td>989.407458</td>\n",
              "      <td>53.128666</td>\n",
              "      <td>533.887291</td>\n",
              "      <td>29.232669</td>\n",
              "      <td>24.448870</td>\n",
              "      <td>122.676631</td>\n",
              "      <td>151.221675</td>\n",
              "      <td>48.825283</td>\n",
              "      <td>6.798447</td>\n",
              "      <td>0.364133</td>\n",
              "      <td>46.753929</td>\n",
              "    </tr>\n",
              "    <tr>\n",
              "      <th>2021-01-02</th>\n",
              "      <td>257.439371</td>\n",
              "      <td>263.150614</td>\n",
              "      <td>12.527712</td>\n",
              "      <td>852.456224</td>\n",
              "      <td>46.551896</td>\n",
              "      <td>243.541707</td>\n",
              "      <td>28.414693</td>\n",
              "      <td>24.199912</td>\n",
              "      <td>99.999920</td>\n",
              "      <td>118.449376</td>\n",
              "      <td>38.895640</td>\n",
              "      <td>5.169766</td>\n",
              "      <td>0.384063</td>\n",
              "      <td>46.078418</td>\n",
              "    </tr>\n",
              "    <tr>\n",
              "      <th>2021-01-03</th>\n",
              "      <td>213.710271</td>\n",
              "      <td>217.022307</td>\n",
              "      <td>12.111230</td>\n",
              "      <td>826.764154</td>\n",
              "      <td>47.728809</td>\n",
              "      <td>216.989039</td>\n",
              "      <td>27.447457</td>\n",
              "      <td>23.243477</td>\n",
              "      <td>98.603086</td>\n",
              "      <td>115.746845</td>\n",
              "      <td>47.957691</td>\n",
              "      <td>5.107267</td>\n",
              "      <td>0.355222</td>\n",
              "      <td>45.977852</td>\n",
              "    </tr>\n",
              "    <tr>\n",
              "      <th>2021-01-04</th>\n",
              "      <td>188.188543</td>\n",
              "      <td>191.924016</td>\n",
              "      <td>11.426277</td>\n",
              "      <td>808.759435</td>\n",
              "      <td>49.322389</td>\n",
              "      <td>208.171585</td>\n",
              "      <td>27.052551</td>\n",
              "      <td>23.006706</td>\n",
              "      <td>97.496436</td>\n",
              "      <td>113.739416</td>\n",
              "      <td>54.698811</td>\n",
              "      <td>5.217964</td>\n",
              "      <td>0.318344</td>\n",
              "      <td>46.297606</td>\n",
              "    </tr>\n",
              "    <tr>\n",
              "      <th>2021-01-05</th>\n",
              "      <td>146.603988</td>\n",
              "      <td>152.733430</td>\n",
              "      <td>10.565348</td>\n",
              "      <td>780.711802</td>\n",
              "      <td>50.010192</td>\n",
              "      <td>174.008113</td>\n",
              "      <td>27.263401</td>\n",
              "      <td>23.606693</td>\n",
              "      <td>93.251649</td>\n",
              "      <td>107.589866</td>\n",
              "      <td>55.883795</td>\n",
              "      <td>5.239909</td>\n",
              "      <td>0.282795</td>\n",
              "      <td>46.926457</td>\n",
              "    </tr>\n",
              "  </tbody>\n",
              "</table>\n",
              "</div>\n",
              "      <button class=\"colab-df-convert\" onclick=\"convertToInteractive('df-eb500228-2d9a-4982-84f2-21c737bfb252')\"\n",
              "              title=\"Convert this dataframe to an interactive table.\"\n",
              "              style=\"display:none;\">\n",
              "        \n",
              "  <svg xmlns=\"http://www.w3.org/2000/svg\" height=\"24px\"viewBox=\"0 0 24 24\"\n",
              "       width=\"24px\">\n",
              "    <path d=\"M0 0h24v24H0V0z\" fill=\"none\"/>\n",
              "    <path d=\"M18.56 5.44l.94 2.06.94-2.06 2.06-.94-2.06-.94-.94-2.06-.94 2.06-2.06.94zm-11 1L8.5 8.5l.94-2.06 2.06-.94-2.06-.94L8.5 2.5l-.94 2.06-2.06.94zm10 10l.94 2.06.94-2.06 2.06-.94-2.06-.94-.94-2.06-.94 2.06-2.06.94z\"/><path d=\"M17.41 7.96l-1.37-1.37c-.4-.4-.92-.59-1.43-.59-.52 0-1.04.2-1.43.59L10.3 9.45l-7.72 7.72c-.78.78-.78 2.05 0 2.83L4 21.41c.39.39.9.59 1.41.59.51 0 1.02-.2 1.41-.59l7.78-7.78 2.81-2.81c.8-.78.8-2.07 0-2.86zM5.41 20L4 18.59l7.72-7.72 1.47 1.35L5.41 20z\"/>\n",
              "  </svg>\n",
              "      </button>\n",
              "      \n",
              "  <style>\n",
              "    .colab-df-container {\n",
              "      display:flex;\n",
              "      flex-wrap:wrap;\n",
              "      gap: 12px;\n",
              "    }\n",
              "\n",
              "    .colab-df-convert {\n",
              "      background-color: #E8F0FE;\n",
              "      border: none;\n",
              "      border-radius: 50%;\n",
              "      cursor: pointer;\n",
              "      display: none;\n",
              "      fill: #1967D2;\n",
              "      height: 32px;\n",
              "      padding: 0 0 0 0;\n",
              "      width: 32px;\n",
              "    }\n",
              "\n",
              "    .colab-df-convert:hover {\n",
              "      background-color: #E2EBFA;\n",
              "      box-shadow: 0px 1px 2px rgba(60, 64, 67, 0.3), 0px 1px 3px 1px rgba(60, 64, 67, 0.15);\n",
              "      fill: #174EA6;\n",
              "    }\n",
              "\n",
              "    [theme=dark] .colab-df-convert {\n",
              "      background-color: #3B4455;\n",
              "      fill: #D2E3FC;\n",
              "    }\n",
              "\n",
              "    [theme=dark] .colab-df-convert:hover {\n",
              "      background-color: #434B5C;\n",
              "      box-shadow: 0px 1px 3px 1px rgba(0, 0, 0, 0.15);\n",
              "      filter: drop-shadow(0px 1px 2px rgba(0, 0, 0, 0.3));\n",
              "      fill: #FFFFFF;\n",
              "    }\n",
              "  </style>\n",
              "\n",
              "      <script>\n",
              "        const buttonEl =\n",
              "          document.querySelector('#df-eb500228-2d9a-4982-84f2-21c737bfb252 button.colab-df-convert');\n",
              "        buttonEl.style.display =\n",
              "          google.colab.kernel.accessAllowed ? 'block' : 'none';\n",
              "\n",
              "        async function convertToInteractive(key) {\n",
              "          const element = document.querySelector('#df-eb500228-2d9a-4982-84f2-21c737bfb252');\n",
              "          const dataTable =\n",
              "            await google.colab.kernel.invokeFunction('convertToInteractive',\n",
              "                                                     [key], {});\n",
              "          if (!dataTable) return;\n",
              "\n",
              "          const docLinkHtml = 'Like what you see? Visit the ' +\n",
              "            '<a target=\"_blank\" href=https://colab.research.google.com/notebooks/data_table.ipynb>data table notebook</a>'\n",
              "            + ' to learn more about interactive tables.';\n",
              "          element.innerHTML = '';\n",
              "          dataTable['output_type'] = 'display_data';\n",
              "          await google.colab.output.renderOutput(dataTable, element);\n",
              "          const docLink = document.createElement('div');\n",
              "          docLink.innerHTML = docLinkHtml;\n",
              "          element.appendChild(docLink);\n",
              "        }\n",
              "      </script>\n",
              "    </div>\n",
              "  </div>\n",
              "  "
            ]
          },
          "metadata": {},
          "execution_count": 52
        }
      ]
    },
    {
      "cell_type": "code",
      "source": [
        "def time_delay_embedding(series: pd.Series, n_lags: int, horizon: int):\n",
        "    \"\"\"\n",
        "    Time delay embedding\n",
        "    Time series for supervised learning\n",
        "    :param series: time series as pd.Series\n",
        "    :param n_lags: number of past values to used as explanatory variables\n",
        "    :param horizon: how many values to forecast\n",
        "    :return: pd.DataFrame with reconstructed time series\n",
        "    \"\"\"\n",
        "    assert isinstance(series, pd.Series)\n",
        "\n",
        "    if series.name is None:\n",
        "        name = 'Series'\n",
        "    else:\n",
        "        name = series.name\n",
        "\n",
        "    n_lags_iter = list(range(n_lags, -horizon, -1))\n",
        "\n",
        "    X = [series.shift(i) for i in n_lags_iter]\n",
        "    X = pd.concat(X, axis=1).dropna()\n",
        "    X.columns = [f'{name}(t-{j - 1})'\n",
        "                 if j > 0 else f'{name}(t+{np.abs(j) + 1})'\n",
        "                 for j in n_lags_iter]\n",
        "\n",
        "    return X"
      ],
      "metadata": {
        "id": "Fr4UOwgtGAV8"
      },
      "execution_count": null,
      "outputs": []
    },
    {
      "cell_type": "code",
      "source": [
        "colnames=d_ALDR.columns.tolist()\n",
        "\n",
        "d_aldr_ds=[]\n",
        "for col in d_ALDR:\n",
        "  col_df=time_delay_embedding(d_ALDR[col],n_lags=24,horizon=12)\n",
        "  d_aldr_ds.append(col_df)\n",
        "\n",
        "\n",
        "  print(col)"
      ],
      "metadata": {
        "colab": {
          "base_uri": "https://localhost:8080/"
        },
        "id": "jKaoTB2oC3sh",
        "outputId": "84324cb6-0ef9-461f-dcdc-8f628ba2c35f"
      },
      "execution_count": null,
      "outputs": [
        {
          "output_type": "stream",
          "name": "stdout",
          "text": [
            "active_power_calculated_by_converter\n",
            "active_power_raw\n",
            "ambient_temperature\n",
            "generator_speed\n",
            "generator_winding_temp_max\n",
            "grid_power10min_average\n",
            "nc1_inside_temp\n",
            "nacelle_temp\n",
            "reactice_power_calculated_by_converter\n",
            "reactive_power\n",
            "wind_direction_raw\n",
            "wind_speed_raw\n",
            "wind_speed_turbulence\n",
            "Target\n"
          ]
        }
      ]
    },
    {
      "cell_type": "code",
      "source": [
        "d_aldr_ds=[]\n",
        "col_df=time_delay_embedding(d_ALDR[col],n_lags=24,horizon=12)\n",
        "d_aldr_ds.append(col_df)\n",
        "d_aldr_ds"
      ],
      "metadata": {
        "colab": {
          "base_uri": "https://localhost:8080/",
          "height": 339
        },
        "id": "-fzuZjSKGsTB",
        "outputId": "f2850938-1730-4070-bad2-cba042537d15"
      },
      "execution_count": null,
      "outputs": [
        {
          "output_type": "error",
          "ename": "TypeError",
          "evalue": "ignored",
          "traceback": [
            "\u001b[0;31m---------------------------------------------------------------------------\u001b[0m",
            "\u001b[0;31mTypeError\u001b[0m                                 Traceback (most recent call last)",
            "\u001b[0;32m<ipython-input-60-e6bf3abaf6df>\u001b[0m in \u001b[0;36m<module>\u001b[0;34m\u001b[0m\n\u001b[1;32m      1\u001b[0m \u001b[0md_aldr_ds\u001b[0m\u001b[0;34m=\u001b[0m\u001b[0;34m[\u001b[0m\u001b[0;34m]\u001b[0m\u001b[0;34m\u001b[0m\u001b[0;34m\u001b[0m\u001b[0m\n\u001b[0;32m----> 2\u001b[0;31m \u001b[0mcol_df\u001b[0m\u001b[0;34m=\u001b[0m\u001b[0mtime_delay_embedding\u001b[0m\u001b[0;34m(\u001b[0m\u001b[0md_ALDR\u001b[0m\u001b[0;34m[\u001b[0m\u001b[0mcol\u001b[0m\u001b[0;34m]\u001b[0m\u001b[0;34m,\u001b[0m\u001b[0mn_lags\u001b[0m\u001b[0;34m=\u001b[0m\u001b[0;36m24\u001b[0m\u001b[0;34m,\u001b[0m\u001b[0mhorizon\u001b[0m\u001b[0;34m=\u001b[0m\u001b[0;36m12\u001b[0m\u001b[0;34m)\u001b[0m\u001b[0;34m\u001b[0m\u001b[0;34m\u001b[0m\u001b[0m\n\u001b[0m\u001b[1;32m      3\u001b[0m \u001b[0md_aldr_ds\u001b[0m\u001b[0;34m.\u001b[0m\u001b[0mappend\u001b[0m\u001b[0;34m(\u001b[0m\u001b[0mcol_df\u001b[0m\u001b[0;34m)\u001b[0m\u001b[0;34m\u001b[0m\u001b[0;34m\u001b[0m\u001b[0m\n\u001b[1;32m      4\u001b[0m \u001b[0md_aldr_ds\u001b[0m\u001b[0;34m\u001b[0m\u001b[0;34m\u001b[0m\u001b[0m\n",
            "\u001b[0;32m<ipython-input-59-b40c2dad0360>\u001b[0m in \u001b[0;36mtime_delay_embedding\u001b[0;34m(series, n_lags, horizon)\u001b[0m\n\u001b[1;32m     15\u001b[0m         \u001b[0mname\u001b[0m \u001b[0;34m=\u001b[0m \u001b[0mseries\u001b[0m\u001b[0;34m.\u001b[0m\u001b[0mname\u001b[0m\u001b[0;34m\u001b[0m\u001b[0;34m\u001b[0m\u001b[0m\n\u001b[1;32m     16\u001b[0m \u001b[0;34m\u001b[0m\u001b[0m\n\u001b[0;32m---> 17\u001b[0;31m     \u001b[0mn_lags_iter\u001b[0m \u001b[0;34m=\u001b[0m \u001b[0mlist\u001b[0m\u001b[0;34m(\u001b[0m\u001b[0mrange\u001b[0m\u001b[0;34m(\u001b[0m\u001b[0mn_lags\u001b[0m\u001b[0;34m,\u001b[0m \u001b[0;34m-\u001b[0m\u001b[0mhorizon\u001b[0m\u001b[0;34m,\u001b[0m \u001b[0;34m-\u001b[0m\u001b[0;36m1\u001b[0m\u001b[0;34m)\u001b[0m\u001b[0;34m)\u001b[0m\u001b[0;34m\u001b[0m\u001b[0;34m\u001b[0m\u001b[0m\n\u001b[0m\u001b[1;32m     18\u001b[0m \u001b[0;34m\u001b[0m\u001b[0m\n\u001b[1;32m     19\u001b[0m     \u001b[0mX\u001b[0m \u001b[0;34m=\u001b[0m \u001b[0;34m[\u001b[0m\u001b[0mseries\u001b[0m\u001b[0;34m.\u001b[0m\u001b[0mshift\u001b[0m\u001b[0;34m(\u001b[0m\u001b[0mi\u001b[0m\u001b[0;34m)\u001b[0m \u001b[0;32mfor\u001b[0m \u001b[0mi\u001b[0m \u001b[0;32min\u001b[0m \u001b[0mn_lags_iter\u001b[0m\u001b[0;34m]\u001b[0m\u001b[0;34m\u001b[0m\u001b[0;34m\u001b[0m\u001b[0m\n",
            "\u001b[0;31mTypeError\u001b[0m: 'dict' object is not callable"
          ]
        }
      ]
    },
    {
      "cell_type": "markdown",
      "source": [
        "<H1><FONT COLOR=\"PURPLE\"><B>*****************************************FINISH**************************************</B></H1></FONT>"
      ],
      "metadata": {
        "id": "aZPtKrNrS5Yw"
      }
    },
    {
      "cell_type": "code",
      "source": [
        "dNew_01.head()"
      ],
      "metadata": {
        "colab": {
          "base_uri": "https://localhost:8080/",
          "height": 206
        },
        "id": "qJ_qWEP7_nfP",
        "outputId": "c86f455f-e538-4c18-9102-8a86d715abe4"
      },
      "execution_count": null,
      "outputs": [
        {
          "output_type": "execute_result",
          "data": {
            "text/plain": [
              "         Date  turbine_id  avg_Target\n",
              "0  2021-01-01  Turbine_01   46.742106\n",
              "1  2021-01-02  Turbine_01   46.106314\n",
              "2  2021-01-03  Turbine_01   45.898575\n",
              "3  2021-01-15  Turbine_01   48.071368\n",
              "4  2021-01-16  Turbine_01   46.475955"
            ],
            "text/html": [
              "\n",
              "  <div id=\"df-3ad78e2c-c362-4a26-9277-d8613a42f1b2\">\n",
              "    <div class=\"colab-df-container\">\n",
              "      <div>\n",
              "<style scoped>\n",
              "    .dataframe tbody tr th:only-of-type {\n",
              "        vertical-align: middle;\n",
              "    }\n",
              "\n",
              "    .dataframe tbody tr th {\n",
              "        vertical-align: top;\n",
              "    }\n",
              "\n",
              "    .dataframe thead th {\n",
              "        text-align: right;\n",
              "    }\n",
              "</style>\n",
              "<table border=\"1\" class=\"dataframe\">\n",
              "  <thead>\n",
              "    <tr style=\"text-align: right;\">\n",
              "      <th></th>\n",
              "      <th>Date</th>\n",
              "      <th>turbine_id</th>\n",
              "      <th>avg_Target</th>\n",
              "    </tr>\n",
              "  </thead>\n",
              "  <tbody>\n",
              "    <tr>\n",
              "      <th>0</th>\n",
              "      <td>2021-01-01</td>\n",
              "      <td>Turbine_01</td>\n",
              "      <td>46.742106</td>\n",
              "    </tr>\n",
              "    <tr>\n",
              "      <th>1</th>\n",
              "      <td>2021-01-02</td>\n",
              "      <td>Turbine_01</td>\n",
              "      <td>46.106314</td>\n",
              "    </tr>\n",
              "    <tr>\n",
              "      <th>2</th>\n",
              "      <td>2021-01-03</td>\n",
              "      <td>Turbine_01</td>\n",
              "      <td>45.898575</td>\n",
              "    </tr>\n",
              "    <tr>\n",
              "      <th>3</th>\n",
              "      <td>2021-01-15</td>\n",
              "      <td>Turbine_01</td>\n",
              "      <td>48.071368</td>\n",
              "    </tr>\n",
              "    <tr>\n",
              "      <th>4</th>\n",
              "      <td>2021-01-16</td>\n",
              "      <td>Turbine_01</td>\n",
              "      <td>46.475955</td>\n",
              "    </tr>\n",
              "  </tbody>\n",
              "</table>\n",
              "</div>\n",
              "      <button class=\"colab-df-convert\" onclick=\"convertToInteractive('df-3ad78e2c-c362-4a26-9277-d8613a42f1b2')\"\n",
              "              title=\"Convert this dataframe to an interactive table.\"\n",
              "              style=\"display:none;\">\n",
              "        \n",
              "  <svg xmlns=\"http://www.w3.org/2000/svg\" height=\"24px\"viewBox=\"0 0 24 24\"\n",
              "       width=\"24px\">\n",
              "    <path d=\"M0 0h24v24H0V0z\" fill=\"none\"/>\n",
              "    <path d=\"M18.56 5.44l.94 2.06.94-2.06 2.06-.94-2.06-.94-.94-2.06-.94 2.06-2.06.94zm-11 1L8.5 8.5l.94-2.06 2.06-.94-2.06-.94L8.5 2.5l-.94 2.06-2.06.94zm10 10l.94 2.06.94-2.06 2.06-.94-2.06-.94-.94-2.06-.94 2.06-2.06.94z\"/><path d=\"M17.41 7.96l-1.37-1.37c-.4-.4-.92-.59-1.43-.59-.52 0-1.04.2-1.43.59L10.3 9.45l-7.72 7.72c-.78.78-.78 2.05 0 2.83L4 21.41c.39.39.9.59 1.41.59.51 0 1.02-.2 1.41-.59l7.78-7.78 2.81-2.81c.8-.78.8-2.07 0-2.86zM5.41 20L4 18.59l7.72-7.72 1.47 1.35L5.41 20z\"/>\n",
              "  </svg>\n",
              "      </button>\n",
              "      \n",
              "  <style>\n",
              "    .colab-df-container {\n",
              "      display:flex;\n",
              "      flex-wrap:wrap;\n",
              "      gap: 12px;\n",
              "    }\n",
              "\n",
              "    .colab-df-convert {\n",
              "      background-color: #E8F0FE;\n",
              "      border: none;\n",
              "      border-radius: 50%;\n",
              "      cursor: pointer;\n",
              "      display: none;\n",
              "      fill: #1967D2;\n",
              "      height: 32px;\n",
              "      padding: 0 0 0 0;\n",
              "      width: 32px;\n",
              "    }\n",
              "\n",
              "    .colab-df-convert:hover {\n",
              "      background-color: #E2EBFA;\n",
              "      box-shadow: 0px 1px 2px rgba(60, 64, 67, 0.3), 0px 1px 3px 1px rgba(60, 64, 67, 0.15);\n",
              "      fill: #174EA6;\n",
              "    }\n",
              "\n",
              "    [theme=dark] .colab-df-convert {\n",
              "      background-color: #3B4455;\n",
              "      fill: #D2E3FC;\n",
              "    }\n",
              "\n",
              "    [theme=dark] .colab-df-convert:hover {\n",
              "      background-color: #434B5C;\n",
              "      box-shadow: 0px 1px 3px 1px rgba(0, 0, 0, 0.15);\n",
              "      filter: drop-shadow(0px 1px 2px rgba(0, 0, 0, 0.3));\n",
              "      fill: #FFFFFF;\n",
              "    }\n",
              "  </style>\n",
              "\n",
              "      <script>\n",
              "        const buttonEl =\n",
              "          document.querySelector('#df-3ad78e2c-c362-4a26-9277-d8613a42f1b2 button.colab-df-convert');\n",
              "        buttonEl.style.display =\n",
              "          google.colab.kernel.accessAllowed ? 'block' : 'none';\n",
              "\n",
              "        async function convertToInteractive(key) {\n",
              "          const element = document.querySelector('#df-3ad78e2c-c362-4a26-9277-d8613a42f1b2');\n",
              "          const dataTable =\n",
              "            await google.colab.kernel.invokeFunction('convertToInteractive',\n",
              "                                                     [key], {});\n",
              "          if (!dataTable) return;\n",
              "\n",
              "          const docLinkHtml = 'Like what you see? Visit the ' +\n",
              "            '<a target=\"_blank\" href=https://colab.research.google.com/notebooks/data_table.ipynb>data table notebook</a>'\n",
              "            + ' to learn more about interactive tables.';\n",
              "          element.innerHTML = '';\n",
              "          dataTable['output_type'] = 'display_data';\n",
              "          await google.colab.output.renderOutput(dataTable, element);\n",
              "          const docLink = document.createElement('div');\n",
              "          docLink.innerHTML = docLinkHtml;\n",
              "          element.appendChild(docLink);\n",
              "        }\n",
              "      </script>\n",
              "    </div>\n",
              "  </div>\n",
              "  "
            ]
          },
          "metadata": {},
          "execution_count": 171
        }
      ]
    },
    {
      "cell_type": "code",
      "source": [
        "dd=dNew_01\n",
        "dd.set_index(dNew_01['Date'],inplace=True)\n",
        "dd.index=pd.to_datetime(dd.index)"
      ],
      "metadata": {
        "id": "SU3MbywTAhxE"
      },
      "execution_count": null,
      "outputs": []
    },
    {
      "cell_type": "code",
      "source": [
        "dd.index\n",
        "dd=dd.resample('d').mean()"
      ],
      "metadata": {
        "id": "grOPbZPLKCCy"
      },
      "execution_count": null,
      "outputs": []
    },
    {
      "cell_type": "code",
      "source": [
        "dd.head()\n",
        "# dd.tail()"
      ],
      "metadata": {
        "colab": {
          "base_uri": "https://localhost:8080/",
          "height": 237
        },
        "id": "UmaPKKhiL5QX",
        "outputId": "262b3cff-dea5-4b30-c216-91be708f4e18"
      },
      "execution_count": null,
      "outputs": [
        {
          "output_type": "execute_result",
          "data": {
            "text/plain": [
              "            avg_Target\n",
              "Date                  \n",
              "2021-01-01   46.742106\n",
              "2021-01-02   46.106314\n",
              "2021-01-03   45.898575\n",
              "2021-01-04         NaN\n",
              "2021-01-05         NaN"
            ],
            "text/html": [
              "\n",
              "  <div id=\"df-80f0f578-89ba-43c0-a3cf-eb6a2c005f0e\">\n",
              "    <div class=\"colab-df-container\">\n",
              "      <div>\n",
              "<style scoped>\n",
              "    .dataframe tbody tr th:only-of-type {\n",
              "        vertical-align: middle;\n",
              "    }\n",
              "\n",
              "    .dataframe tbody tr th {\n",
              "        vertical-align: top;\n",
              "    }\n",
              "\n",
              "    .dataframe thead th {\n",
              "        text-align: right;\n",
              "    }\n",
              "</style>\n",
              "<table border=\"1\" class=\"dataframe\">\n",
              "  <thead>\n",
              "    <tr style=\"text-align: right;\">\n",
              "      <th></th>\n",
              "      <th>avg_Target</th>\n",
              "    </tr>\n",
              "    <tr>\n",
              "      <th>Date</th>\n",
              "      <th></th>\n",
              "    </tr>\n",
              "  </thead>\n",
              "  <tbody>\n",
              "    <tr>\n",
              "      <th>2021-01-01</th>\n",
              "      <td>46.742106</td>\n",
              "    </tr>\n",
              "    <tr>\n",
              "      <th>2021-01-02</th>\n",
              "      <td>46.106314</td>\n",
              "    </tr>\n",
              "    <tr>\n",
              "      <th>2021-01-03</th>\n",
              "      <td>45.898575</td>\n",
              "    </tr>\n",
              "    <tr>\n",
              "      <th>2021-01-04</th>\n",
              "      <td>NaN</td>\n",
              "    </tr>\n",
              "    <tr>\n",
              "      <th>2021-01-05</th>\n",
              "      <td>NaN</td>\n",
              "    </tr>\n",
              "  </tbody>\n",
              "</table>\n",
              "</div>\n",
              "      <button class=\"colab-df-convert\" onclick=\"convertToInteractive('df-80f0f578-89ba-43c0-a3cf-eb6a2c005f0e')\"\n",
              "              title=\"Convert this dataframe to an interactive table.\"\n",
              "              style=\"display:none;\">\n",
              "        \n",
              "  <svg xmlns=\"http://www.w3.org/2000/svg\" height=\"24px\"viewBox=\"0 0 24 24\"\n",
              "       width=\"24px\">\n",
              "    <path d=\"M0 0h24v24H0V0z\" fill=\"none\"/>\n",
              "    <path d=\"M18.56 5.44l.94 2.06.94-2.06 2.06-.94-2.06-.94-.94-2.06-.94 2.06-2.06.94zm-11 1L8.5 8.5l.94-2.06 2.06-.94-2.06-.94L8.5 2.5l-.94 2.06-2.06.94zm10 10l.94 2.06.94-2.06 2.06-.94-2.06-.94-.94-2.06-.94 2.06-2.06.94z\"/><path d=\"M17.41 7.96l-1.37-1.37c-.4-.4-.92-.59-1.43-.59-.52 0-1.04.2-1.43.59L10.3 9.45l-7.72 7.72c-.78.78-.78 2.05 0 2.83L4 21.41c.39.39.9.59 1.41.59.51 0 1.02-.2 1.41-.59l7.78-7.78 2.81-2.81c.8-.78.8-2.07 0-2.86zM5.41 20L4 18.59l7.72-7.72 1.47 1.35L5.41 20z\"/>\n",
              "  </svg>\n",
              "      </button>\n",
              "      \n",
              "  <style>\n",
              "    .colab-df-container {\n",
              "      display:flex;\n",
              "      flex-wrap:wrap;\n",
              "      gap: 12px;\n",
              "    }\n",
              "\n",
              "    .colab-df-convert {\n",
              "      background-color: #E8F0FE;\n",
              "      border: none;\n",
              "      border-radius: 50%;\n",
              "      cursor: pointer;\n",
              "      display: none;\n",
              "      fill: #1967D2;\n",
              "      height: 32px;\n",
              "      padding: 0 0 0 0;\n",
              "      width: 32px;\n",
              "    }\n",
              "\n",
              "    .colab-df-convert:hover {\n",
              "      background-color: #E2EBFA;\n",
              "      box-shadow: 0px 1px 2px rgba(60, 64, 67, 0.3), 0px 1px 3px 1px rgba(60, 64, 67, 0.15);\n",
              "      fill: #174EA6;\n",
              "    }\n",
              "\n",
              "    [theme=dark] .colab-df-convert {\n",
              "      background-color: #3B4455;\n",
              "      fill: #D2E3FC;\n",
              "    }\n",
              "\n",
              "    [theme=dark] .colab-df-convert:hover {\n",
              "      background-color: #434B5C;\n",
              "      box-shadow: 0px 1px 3px 1px rgba(0, 0, 0, 0.15);\n",
              "      filter: drop-shadow(0px 1px 2px rgba(0, 0, 0, 0.3));\n",
              "      fill: #FFFFFF;\n",
              "    }\n",
              "  </style>\n",
              "\n",
              "      <script>\n",
              "        const buttonEl =\n",
              "          document.querySelector('#df-80f0f578-89ba-43c0-a3cf-eb6a2c005f0e button.colab-df-convert');\n",
              "        buttonEl.style.display =\n",
              "          google.colab.kernel.accessAllowed ? 'block' : 'none';\n",
              "\n",
              "        async function convertToInteractive(key) {\n",
              "          const element = document.querySelector('#df-80f0f578-89ba-43c0-a3cf-eb6a2c005f0e');\n",
              "          const dataTable =\n",
              "            await google.colab.kernel.invokeFunction('convertToInteractive',\n",
              "                                                     [key], {});\n",
              "          if (!dataTable) return;\n",
              "\n",
              "          const docLinkHtml = 'Like what you see? Visit the ' +\n",
              "            '<a target=\"_blank\" href=https://colab.research.google.com/notebooks/data_table.ipynb>data table notebook</a>'\n",
              "            + ' to learn more about interactive tables.';\n",
              "          element.innerHTML = '';\n",
              "          dataTable['output_type'] = 'display_data';\n",
              "          await google.colab.output.renderOutput(dataTable, element);\n",
              "          const docLink = document.createElement('div');\n",
              "          docLink.innerHTML = docLinkHtml;\n",
              "          element.appendChild(docLink);\n",
              "        }\n",
              "      </script>\n",
              "    </div>\n",
              "  </div>\n",
              "  "
            ]
          },
          "metadata": {},
          "execution_count": 174
        }
      ]
    },
    {
      "cell_type": "code",
      "source": [
        "fig=plt.figure(figsize=(10,5))\n",
        "sns.lineplot(y=dd['avg_Target'],x=dd.index)\n",
        "plt.show()"
      ],
      "metadata": {
        "colab": {
          "base_uri": "https://localhost:8080/",
          "height": 334
        },
        "id": "naH-5ENAAmdp",
        "outputId": "6f1c5f18-e3a5-4abb-a865-52c89805b162"
      },
      "execution_count": null,
      "outputs": [
        {
          "output_type": "display_data",
          "data": {
            "text/plain": [
              "<Figure size 720x360 with 1 Axes>"
            ],
            "image/png": "[encoded data removed]"
          },
          "metadata": {
            "needs_background": "light"
          }
        }
      ]
    },
    {
      "cell_type": "code",
      "source": [
        "dd.shape"
      ],
      "metadata": {
        "colab": {
          "base_uri": "https://localhost:8080/"
        },
        "id": "7lyjih9uJRaH",
        "outputId": "3a84da05-bc47-447e-8375-f5f8b9ce0ffc"
      },
      "execution_count": null,
      "outputs": [
        {
          "output_type": "execute_result",
          "data": {
            "text/plain": [
              "(365, 1)"
            ]
          },
          "metadata": {},
          "execution_count": 176
        }
      ]
    },
    {
      "cell_type": "code",
      "source": [
        "import plotly.express as px\n",
        "\n",
        "fig=px.line(dd,x=dd.index,y='avg_Target',title='slide and SEE')\n",
        "\n",
        "fig.update_xaxes(\n",
        "    rangeslider_visible=True\n",
        ")\n",
        "\n",
        "fig.show()"
      ],
      "metadata": {
        "colab": {
          "base_uri": "https://localhost:8080/",
          "height": 542
        },
        "id": "-h9nIXpuBJhc",
        "outputId": "15f6b6ee-6f88-4fb8-8c7e-8a8f5228cbed"
      },
      "execution_count": null,
      "outputs": [
        {
          "output_type": "display_data",
          "data": {
            "text/html": [
              "<html>\n",
              "<head><meta charset=\"utf-8\" /></head>\n",
              "<body>\n",
              "    <div>            <script src=\"https://cdnjs.cloudflare.com/ajax/libs/mathjax/2.7.5/MathJax.js?config=TeX-AMS-MML_SVG\"></script><script type=\"text/javascript\">if (window.MathJax) {MathJax.Hub.Config({SVG: {font: \"STIX-Web\"}});}</script>                <script type=\"text/javascript\">window.PlotlyConfig = {MathJaxConfig: 'local'};</script>\n",
              "        <script src=\"https://cdn.plot.ly/plotly-2.8.3.min.js\"></script>                <div id=\"a9f4b9a3-dec0-417e-a364-c6653ea10b2e\" class=\"plotly-graph-div\" style=\"height:525px; width:100%;\"></div>            <script type=\"text/javascript\">                                    window.PLOTLYENV=window.PLOTLYENV || {};                                    if (document.getElementById(\"a9f4b9a3-dec0-417e-a364-c6653ea10b2e\")) {                    Plotly.newPlot(                        \"a9f4b9a3-dec0-417e-a364-c6653ea10b2e\",                        [{\"hovertemplate\":\"Date=%{x}<br>avg_Target=%{y}<extra></extra>\",\"legendgroup\":\"\",\"line\":{\"color\":\"#636efa\",\"dash\":\"solid\"},\"marker\":{\"symbol\":\"circle\"},\"mode\":\"lines\",\"name\":\"\",\"orientation\":\"v\",\"showlegend\":false,\"x\":[\"2021-01-01T00:00:00\",\"2021-01-02T00:00:00\",\"2021-01-03T00:00:00\",\"2021-01-04T00:00:00\",\"2021-01-05T00:00:00\",\"2021-01-06T00:00:00\",\"2021-01-07T00:00:00\",\"2021-01-08T00:00:00\",\"2021-01-09T00:00:00\",\"2021-01-10T00:00:00\",\"2021-01-11T00:00:00\",\"2021-01-12T00:00:00\",\"2021-01-13T00:00:00\",\"2021-01-14T00:00:00\",\"2021-01-15T00:00:00\",\"2021-01-16T00:00:00\",\"2021-01-17T00:00:00\",\"2021-01-18T00:00:00\",\"2021-01-19T00:00:00\",\"2021-01-20T00:00:00\",\"2021-01-21T00:00:00\",\"2021-01-22T00:00:00\",\"2021-01-23T00:00:00\",\"2021-01-24T00:00:00\",\"2021-01-25T00:00:00\",\"2021-01-26T00:00:00\",\"2021-01-27T00:00:00\",\"2021-01-28T00:00:00\",\"2021-01-29T00:00:00\",\"2021-01-30T00:00:00\",\"2021-01-31T00:00:00\",\"2021-02-01T00:00:00\",\"2021-02-02T00:00:00\",\"2021-02-03T00:00:00\",\"2021-02-04T00:00:00\",\"2021-02-05T00:00:00\",\"2021-02-06T00:00:00\",\"2021-02-07T00:00:00\",\"2021-02-08T00:00:00\",\"2021-02-09T00:00:00\",\"2021-02-10T00:00:00\",\"2021-02-11T00:00:00\",\"2021-02-12T00:00:00\",\"2021-02-13T00:00:00\",\"2021-02-14T00:00:00\",\"2021-02-15T00:00:00\",\"2021-02-16T00:00:00\",\"2021-02-17T00:00:00\",\"2021-02-18T00:00:00\",\"2021-02-19T00:00:00\",\"2021-02-20T00:00:00\",\"2021-02-21T00:00:00\",\"2021-02-22T00:00:00\",\"2021-02-23T00:00:00\",\"2021-02-24T00:00:00\",\"2021-02-25T00:00:00\",\"2021-02-26T00:00:00\",\"2021-02-27T00:00:00\",\"2021-02-28T00:00:00\",\"2021-03-01T00:00:00\",\"2021-03-02T00:00:00\",\"2021-03-03T00:00:00\",\"2021-03-04T00:00:00\",\"2021-03-05T00:00:00\",\"2021-03-06T00:00:00\",\"2021-03-07T00:00:00\",\"2021-03-08T00:00:00\",\"2021-03-09T00:00:00\",\"2021-03-10T00:00:00\",\"2021-03-11T00:00:00\",\"2021-03-12T00:00:00\",\"2021-03-13T00:00:00\",\"2021-03-14T00:00:00\",\"2021-03-15T00:00:00\",\"2021-03-16T00:00:00\",\"2021-03-17T00:00:00\",\"2021-03-18T00:00:00\",\"2021-03-19T00:00:00\",\"2021-03-20T00:00:00\",\"2021-03-21T00:00:00\",\"2021-03-22T00:00:00\",\"2021-03-23T00:00:00\",\"2021-03-24T00:00:00\",\"2021-03-25T00:00:00\",\"2021-03-26T00:00:00\",\"2021-03-27T00:00:00\",\"2021-03-28T00:00:00\",\"2021-03-29T00:00:00\",\"2021-03-30T00:00:00\",\"2021-03-31T00:00:00\",\"2021-04-01T00:00:00\",\"2021-04-02T00:00:00\",\"2021-04-03T00:00:00\",\"2021-04-04T00:00:00\",\"2021-04-05T00:00:00\",\"2021-04-06T00:00:00\",\"2021-04-07T00:00:00\",\"2021-04-08T00:00:00\",\"2021-04-09T00:00:00\",\"2021-04-10T00:00:00\",\"2021-04-11T00:00:00\",\"2021-04-12T00:00:00\",\"2021-04-13T00:00:00\",\"2021-04-14T00:00:00\",\"2021-04-15T00:00:00\",\"2021-04-16T00:00:00\",\"2021-04-17T00:00:00\",\"2021-04-18T00:00:00\",\"2021-04-19T00:00:00\",\"2021-04-20T00:00:00\",\"2021-04-21T00:00:00\",\"2021-04-22T00:00:00\",\"2021-04-23T00:00:00\",\"2021-04-24T00:00:00\",\"2021-04-25T00:00:00\",\"2021-04-26T00:00:00\",\"2021-04-27T00:00:00\",\"2021-04-28T00:00:00\",\"2021-04-29T00:00:00\",\"2021-04-30T00:00:00\",\"2021-05-01T00:00:00\",\"2021-05-02T00:00:00\",\"2021-05-03T00:00:00\",\"2021-05-04T00:00:00\",\"2021-05-05T00:00:00\",\"2021-05-06T00:00:00\",\"2021-05-07T00:00:00\",\"2021-05-08T00:00:00\",\"2021-05-09T00:00:00\",\"2021-05-10T00:00:00\",\"2021-05-11T00:00:00\",\"2021-05-12T00:00:00\",\"2021-05-13T00:00:00\",\"2021-05-14T00:00:00\",\"2021-05-15T00:00:00\",\"2021-05-16T00:00:00\",\"2021-05-17T00:00:00\",\"2021-05-18T00:00:00\",\"2021-05-19T00:00:00\",\"2021-05-20T00:00:00\",\"2021-05-21T00:00:00\",\"2021-05-22T00:00:00\",\"2021-05-23T00:00:00\",\"2021-05-24T00:00:00\",\"2021-05-25T00:00:00\",\"2021-05-26T00:00:00\",\"2021-05-27T00:00:00\",\"2021-05-28T00:00:00\",\"2021-05-29T00:00:00\",\"2021-05-30T00:00:00\",\"2021-05-31T00:00:00\",\"2021-06-01T00:00:00\",\"2021-06-02T00:00:00\",\"2021-06-03T00:00:00\",\"2021-06-04T00:00:00\",\"2021-06-05T00:00:00\",\"2021-06-06T00:00:00\",\"2021-06-07T00:00:00\",\"2021-06-08T00:00:00\",\"2021-06-09T00:00:00\",\"2021-06-10T00:00:00\",\"2021-06-11T00:00:00\",\"2021-06-12T00:00:00\",\"2021-06-13T00:00:00\",\"2021-06-14T00:00:00\",\"2021-06-15T00:00:00\",\"2021-06-16T00:00:00\",\"2021-06-17T00:00:00\",\"2021-06-18T00:00:00\",\"2021-06-19T00:00:00\",\"2021-06-20T00:00:00\",\"2021-06-21T00:00:00\",\"2021-06-22T00:00:00\",\"2021-06-23T00:00:00\",\"2021-06-24T00:00:00\",\"2021-06-25T00:00:00\",\"2021-06-26T00:00:00\",\"2021-06-27T00:00:00\",\"2021-06-28T00:00:00\",\"2021-06-29T00:00:00\",\"2021-06-30T00:00:00\",\"2021-07-01T00:00:00\",\"2021-07-02T00:00:00\",\"2021-07-03T00:00:00\",\"2021-07-04T00:00:00\",\"2021-07-05T00:00:00\",\"2021-07-06T00:00:00\",\"2021-07-07T00:00:00\",\"2021-07-08T00:00:00\",\"2021-07-09T00:00:00\",\"2021-07-10T00:00:00\",\"2021-07-11T00:00:00\",\"2021-07-12T00:00:00\",\"2021-07-13T00:00:00\",\"2021-07-14T00:00:00\",\"2021-07-15T00:00:00\",\"2021-07-16T00:00:00\",\"2021-07-17T00:00:00\",\"2021-07-18T00:00:00\",\"2021-07-19T00:00:00\",\"2021-07-20T00:00:00\",\"2021-07-21T00:00:00\",\"2021-07-22T00:00:00\",\"2021-07-23T00:00:00\",\"2021-07-24T00:00:00\",\"2021-07-25T00:00:00\",\"2021-07-26T00:00:00\",\"2021-07-27T00:00:00\",\"2021-07-28T00:00:00\",\"2021-07-29T00:00:00\",\"2021-07-30T00:00:00\",\"2021-07-31T00:00:00\",\"2021-08-01T00:00:00\",\"2021-08-02T00:00:00\",\"2021-08-03T00:00:00\",\"2021-08-04T00:00:00\",\"2021-08-05T00:00:00\",\"2021-08-06T00:00:00\",\"2021-08-07T00:00:00\",\"2021-08-08T00:00:00\",\"2021-08-09T00:00:00\",\"2021-08-10T00:00:00\",\"2021-08-11T00:00:00\",\"2021-08-12T00:00:00\",\"2021-08-13T00:00:00\",\"2021-08-14T00:00:00\",\"2021-08-15T00:00:00\",\"2021-08-16T00:00:00\",\"2021-08-17T00:00:00\",\"2021-08-18T00:00:00\",\"2021-08-19T00:00:00\",\"2021-08-20T00:00:00\",\"2021-08-21T00:00:00\",\"2021-08-22T00:00:00\",\"2021-08-23T00:00:00\",\"2021-08-24T00:00:00\",\"2021-08-25T00:00:00\",\"2021-08-26T00:00:00\",\"2021-08-27T00:00:00\",\"2021-08-28T00:00:00\",\"2021-08-29T00:00:00\",\"2021-08-30T00:00:00\",\"2021-08-31T00:00:00\",\"2021-09-01T00:00:00\",\"2021-09-02T00:00:00\",\"2021-09-03T00:00:00\",\"2021-09-04T00:00:00\",\"2021-09-05T00:00:00\",\"2021-09-06T00:00:00\",\"2021-09-07T00:00:00\",\"2021-09-08T00:00:00\",\"2021-09-09T00:00:00\",\"2021-09-10T00:00:00\",\"2021-09-11T00:00:00\",\"2021-09-12T00:00:00\",\"2021-09-13T00:00:00\",\"2021-09-14T00:00:00\",\"2021-09-15T00:00:00\",\"2021-09-16T00:00:00\",\"2021-09-17T00:00:00\",\"2021-09-18T00:00:00\",\"2021-09-19T00:00:00\",\"2021-09-20T00:00:00\",\"2021-09-21T00:00:00\",\"2021-09-22T00:00:00\",\"2021-09-23T00:00:00\",\"2021-09-24T00:00:00\",\"2021-09-25T00:00:00\",\"2021-09-26T00:00:00\",\"2021-09-27T00:00:00\",\"2021-09-28T00:00:00\",\"2021-09-29T00:00:00\",\"2021-09-30T00:00:00\",\"2021-10-01T00:00:00\",\"2021-10-02T00:00:00\",\"2021-10-03T00:00:00\",\"2021-10-04T00:00:00\",\"2021-10-05T00:00:00\",\"2021-10-06T00:00:00\",\"2021-10-07T00:00:00\",\"2021-10-08T00:00:00\",\"2021-10-09T00:00:00\",\"2021-10-10T00:00:00\",\"2021-10-11T00:00:00\",\"2021-10-12T00:00:00\",\"2021-10-13T00:00:00\",\"2021-10-14T00:00:00\",\"2021-10-15T00:00:00\",\"2021-10-16T00:00:00\",\"2021-10-17T00:00:00\",\"2021-10-18T00:00:00\",\"2021-10-19T00:00:00\",\"2021-10-20T00:00:00\",\"2021-10-21T00:00:00\",\"2021-10-22T00:00:00\",\"2021-10-23T00:00:00\",\"2021-10-24T00:00:00\",\"2021-10-25T00:00:00\",\"2021-10-26T00:00:00\",\"2021-10-27T00:00:00\",\"2021-10-28T00:00:00\",\"2021-10-29T00:00:00\",\"2021-10-30T00:00:00\",\"2021-10-31T00:00:00\",\"2021-11-01T00:00:00\",\"2021-11-02T00:00:00\",\"2021-11-03T00:00:00\",\"2021-11-04T00:00:00\",\"2021-11-05T00:00:00\",\"2021-11-06T00:00:00\",\"2021-11-07T00:00:00\",\"2021-11-08T00:00:00\",\"2021-11-09T00:00:00\",\"2021-11-10T00:00:00\",\"2021-11-11T00:00:00\",\"2021-11-12T00:00:00\",\"2021-11-13T00:00:00\",\"2021-11-14T00:00:00\",\"2021-11-15T00:00:00\",\"2021-11-16T00:00:00\",\"2021-11-17T00:00:00\",\"2021-11-18T00:00:00\",\"2021-11-19T00:00:00\",\"2021-11-20T00:00:00\",\"2021-11-21T00:00:00\",\"2021-11-22T00:00:00\",\"2021-11-23T00:00:00\",\"2021-11-24T00:00:00\",\"2021-11-25T00:00:00\",\"2021-11-26T00:00:00\",\"2021-11-27T00:00:00\",\"2021-11-28T00:00:00\",\"2021-11-29T00:00:00\",\"2021-11-30T00:00:00\",\"2021-12-01T00:00:00\",\"2021-12-02T00:00:00\",\"2021-12-03T00:00:00\",\"2021-12-04T00:00:00\",\"2021-12-05T00:00:00\",\"2021-12-06T00:00:00\",\"2021-12-07T00:00:00\",\"2021-12-08T00:00:00\",\"2021-12-09T00:00:00\",\"2021-12-10T00:00:00\",\"2021-12-11T00:00:00\",\"2021-12-12T00:00:00\",\"2021-12-13T00:00:00\",\"2021-12-14T00:00:00\",\"2021-12-15T00:00:00\",\"2021-12-16T00:00:00\",\"2021-12-17T00:00:00\",\"2021-12-18T00:00:00\",\"2021-12-19T00:00:00\",\"2021-12-20T00:00:00\",\"2021-12-21T00:00:00\",\"2021-12-22T00:00:00\",\"2021-12-23T00:00:00\",\"2021-12-24T00:00:00\",\"2021-12-25T00:00:00\",\"2021-12-26T00:00:00\",\"2021-12-27T00:00:00\",\"2021-12-28T00:00:00\",\"2021-12-29T00:00:00\",\"2021-12-30T00:00:00\",\"2021-12-31T00:00:00\"],\"xaxis\":\"x\",\"y\":[46.753929138183594,46.078417572320674,45.97785174462103,null,null,null,null,null,null,null,null,null,null,null,48.13373579297747,46.46303977035895,47.739111518859865,48.95741857801165,47.720486541748045,47.72783801199376,47.680902393047624,47.46361025368295,47.694631814956665,47.714163898286365,48.485240015490305,47.22139772594485,47.63973130850956,46.644487071241066,49.54447924189207,49.96574443470348,48.815605892224255,47.275642776489256,47.59301993426155,49.134419206259906,48.201386266900585,48.6678904643101,51.33640996818868,51.72640346425825,50.55681307810657,49.30182661493141,49.73244408198765,49.44402609931098,49.969553674970356,49.98448396064866,49.737709356814015,48.00735736202884,49.48318487138891,50.90285617654974,52.73069398897188,52.97122448888318,53.06275726954142,53.067232966423035,54.4655878620763,53.305030517578125,52.33555559842092,52.14198731921968,52.34893059108568,53.084938745650035,52.15933357797018,52.79811656285846,53.698746303342425,52.057609809072396,52.08560953022521,53.78919111887614,54.056332622255596,54.57593452639696,53.641142421298554,53.54435316721598,53.241466812860395,53.07396022133205,52.52519648125831,55.2347067867417,54.899197958048106,53.92162354524471,54.29401495436991,54.74640960052234,53.53844622561806,53.23748215208662,53.98644627162388,53.36681233030377,52.37157096862793,52.38418356577555,54.30432735789906,55.61150104121158,55.88498556086447,56.62013637102567,56.44748226512562,55.41250846312218,55.26807881129607,55.78959047996392,54.24160379682269,55.46522598266601,56.06667269936091,55.242296242419584,54.95898867054146,55.47332988275546,54.874143582638176,55.512289770718276,55.927271850838146,56.3160981717317,56.25465694693632,55.42329397039899,56.083222583331896,55.14623480023078,55.31170463562012,56.927697730786875,55.20417194538288,55.98543000929426,56.01007065817574,55.606932364219475,55.79691716422022,54.86875485151242,56.17333853049357,55.80658772526955,55.51564638542406,54.348694780137805,53.55402613795081,53.389349818229675,53.203081833688834,52.758467168393345,52.97834957347197,54.00306555203029,53.243627449900835,53.13944105065387,53.438048785665764,53.7604290386578,53.799469641276765,53.836609268188475,53.75498623318143,53.66367946161288,53.43826723499458,53.67133254389609,53.869894797341864,53.8600400856563,53.056336581707,53.77865225527467,47.91238004244291,null,null,49.518489837646484,48.34976118038862,49.15958697707565,49.64862374698414,null,49.329371325737604,48.80203362116738,48.979602593035736,49.328466858526674,49.25010843560247,48.96541147965651,49.326012645448955,49.19175359000147,49.81311980537746,48.615669185832395,49.44252573402183,49.64213958013625,49.9297951146176,48.854813905195755,48.808773705718714,48.896348008485596,48.90955498639275,49.07566180052581,49.201807057416,49.067475121596765,49.230669467248646,49.655583853673456,49.29522797771703,49.190842048794615,47.39529088078713,47.41203236343837,46.66894508427025,47.87132212320964,48.17584114400749,48.45013461574431,48.182977490720496,48.491228824903985,48.60391994823109,48.898339162107376,48.80281569465758,49.08443417915931,48.60247033437093,49.83038011090509,50.17690333004656,49.522665433794536,49.11531293803248,49.03012001731179,49.326675489110855,48.60501275881372,48.700617545892385,48.18466521369086,49.096680818978,48.514422312821495,47.993379219291135,49.025889269510905,49.03879888241108,48.774545606676035,48.61790920056795,48.705552380494396,46.58020191926222,47.20715014702451,46.91044629004694,46.84413761768526,48.04503958565848,48.17286079974214,47.55380620275225,47.06418203424524,46.18819065483249,46.65258771879179,46.487979055821214,46.416326596186714,46.7544678908128,47.4423187919285,46.52162492384604,46.28706005641392,46.783868867207346,47.065926413250786,47.52366506136381,47.75099896576445,48.50768054962158,48.2483830018477,47.37596789768764,48.21268694624941,47.08952327527498,47.27168516679244,47.47491303086281,47.21237370063518,47.486148834228516,47.44887401580811,48.396280432949546,47.205797666079036,47.502662287349196,48.152198222645545,47.887727593475915,48.1714172719795,47.990035563975844,47.989684697201376,47.48734083963097,46.52797253160592,47.72228900806324,48.65844394088885,47.963837532770064,47.64833879076745,48.270433031823025,47.82488148648974,47.45227357615595,47.307421773672104,47.30244748454449,47.423033488880506,48.56781695587466,48.6823408463422,48.65998851027444,47.28113599030868,47.17340595381601,47.612948800915866,47.059105954851425,37.63083629608154,41.52446852789985,46.99092795962379,47.41992130985967,47.85949491250395,47.787056147495164,47.67749255171446,47.15480144334876,46.87100212390606,47.01177103379194,47.56789148633725,46.51827511034514,47.44563607189143,47.14403315952846,47.09195951981978,46.932100435582605,44.636673821343315,45.42357603708903,46.98467279249622,47.79610612657335,48.316864764104125,47.72984442163686,46.98765876076438,48.53672711354382,48.86946263032801,48.43439383255808,47.397612138227984,47.451742302287705,47.87886720062584,48.01246050934294,48.63120708465576,48.264417920793804,44.86435137296978,48.3931884765625,48.16538094185494,47.55146326082889,45.653717041015625,46.943041392735076,47.20942838568436,46.96719507585492,46.697342108103854,47.09970228550798,47.12273347881478,47.34480063120524,48.62830976339487,48.32985106301964,47.62671484074122,48.05942752314549,48.532327180267664,48.299209126254965,48.52609854478102,48.21497816788523,48.4290848511916,48.50202486070536,47.88307308328563,47.24532479253308,47.4096560324392,48.538841282555815,49.034122413312886,48.61810887654622,48.00284477233887,47.65722262982241,47.55882146407147,47.13380017487899,46.65085969773014,45.98165025168318,46.25817108154297,45.33440248505408,46.57213284301758,46.524325370788574,47.48075167900693,48.1088626437717,47.194740295410156,47.05510509715361,47.68212865528307,48.13328859080439,47.933312012977204,47.90928468250093,46.72885588173554,45.49248756900911,44.017791994156376,43.80728653617527,45.38388012972745,46.10848071657378,46.41851661945211,45.695786335429204,46.31109298978533,45.72481135998742,45.77852658108548,45.93562487259652,46.76470465409128,46.033517579774596,45.33004856109619,44.467830758345755,44.390795532537965,43.15707764670113,43.94771667763039,43.687201305500516,44.8067813520672,45.6630952835083,44.152105967203774,44.30505848894216,45.535982088609174,44.827422353956436,44.56691833164381,45.29224770285867,44.08524639807015,43.80254939506794,43.76921832372272,43.89183743794759],\"yaxis\":\"y\",\"type\":\"scatter\"}],                        {\"template\":{\"data\":{\"bar\":[{\"error_x\":{\"color\":\"#2a3f5f\"},\"error_y\":{\"color\":\"#2a3f5f\"},\"marker\":{\"line\":{\"color\":\"#E5ECF6\",\"width\":0.5},\"pattern\":{\"fillmode\":\"overlay\",\"size\":10,\"solidity\":0.2}},\"type\":\"bar\"}],\"barpolar\":[{\"marker\":{\"line\":{\"color\":\"#E5ECF6\",\"width\":0.5},\"pattern\":{\"fillmode\":\"overlay\",\"size\":10,\"solidity\":0.2}},\"type\":\"barpolar\"}],\"carpet\":[{\"aaxis\":{\"endlinecolor\":\"#2a3f5f\",\"gridcolor\":\"white\",\"linecolor\":\"white\",\"minorgridcolor\":\"white\",\"startlinecolor\":\"#2a3f5f\"},\"baxis\":{\"endlinecolor\":\"#2a3f5f\",\"gridcolor\":\"white\",\"linecolor\":\"white\",\"minorgridcolor\":\"white\",\"startlinecolor\":\"#2a3f5f\"},\"type\":\"carpet\"}],\"choropleth\":[{\"colorbar\":{\"outlinewidth\":0,\"ticks\":\"\"},\"type\":\"choropleth\"}],\"contour\":[{\"colorbar\":{\"outlinewidth\":0,\"ticks\":\"\"},\"colorscale\":[[0.0,\"#0d0887\"],[0.1111111111111111,\"#46039f\"],[0.2222222222222222,\"#7201a8\"],[0.3333333333333333,\"#9c179e\"],[0.4444444444444444,\"#bd3786\"],[0.5555555555555556,\"#d8576b\"],[0.6666666666666666,\"#ed7953\"],[0.7777777777777778,\"#fb9f3a\"],[0.8888888888888888,\"#fdca26\"],[1.0,\"#f0f921\"]],\"type\":\"contour\"}],\"contourcarpet\":[{\"colorbar\":{\"outlinewidth\":0,\"ticks\":\"\"},\"type\":\"contourcarpet\"}],\"heatmap\":[{\"colorbar\":{\"outlinewidth\":0,\"ticks\":\"\"},\"colorscale\":[[0.0,\"#0d0887\"],[0.1111111111111111,\"#46039f\"],[0.2222222222222222,\"#7201a8\"],[0.3333333333333333,\"#9c179e\"],[0.4444444444444444,\"#bd3786\"],[0.5555555555555556,\"#d8576b\"],[0.6666666666666666,\"#ed7953\"],[0.7777777777777778,\"#fb9f3a\"],[0.8888888888888888,\"#fdca26\"],[1.0,\"#f0f921\"]],\"type\":\"heatmap\"}],\"heatmapgl\":[{\"colorbar\":{\"outlinewidth\":0,\"ticks\":\"\"},\"colorscale\":[[0.0,\"#0d0887\"],[0.1111111111111111,\"#46039f\"],[0.2222222222222222,\"#7201a8\"],[0.3333333333333333,\"#9c179e\"],[0.4444444444444444,\"#bd3786\"],[0.5555555555555556,\"#d8576b\"],[0.6666666666666666,\"#ed7953\"],[0.7777777777777778,\"#fb9f3a\"],[0.8888888888888888,\"#fdca26\"],[1.0,\"#f0f921\"]],\"type\":\"heatmapgl\"}],\"histogram\":[{\"marker\":{\"pattern\":{\"fillmode\":\"overlay\",\"size\":10,\"solidity\":0.2}},\"type\":\"histogram\"}],\"histogram2d\":[{\"colorbar\":{\"outlinewidth\":0,\"ticks\":\"\"},\"colorscale\":[[0.0,\"#0d0887\"],[0.1111111111111111,\"#46039f\"],[0.2222222222222222,\"#7201a8\"],[0.3333333333333333,\"#9c179e\"],[0.4444444444444444,\"#bd3786\"],[0.5555555555555556,\"#d8576b\"],[0.6666666666666666,\"#ed7953\"],[0.7777777777777778,\"#fb9f3a\"],[0.8888888888888888,\"#fdca26\"],[1.0,\"#f0f921\"]],\"type\":\"histogram2d\"}],\"histogram2dcontour\":[{\"colorbar\":{\"outlinewidth\":0,\"ticks\":\"\"},\"colorscale\":[[0.0,\"#0d0887\"],[0.1111111111111111,\"#46039f\"],[0.2222222222222222,\"#7201a8\"],[0.3333333333333333,\"#9c179e\"],[0.4444444444444444,\"#bd3786\"],[0.5555555555555556,\"#d8576b\"],[0.6666666666666666,\"#ed7953\"],[0.7777777777777778,\"#fb9f3a\"],[0.8888888888888888,\"#fdca26\"],[1.0,\"#f0f921\"]],\"type\":\"histogram2dcontour\"}],\"mesh3d\":[{\"colorbar\":{\"outlinewidth\":0,\"ticks\":\"\"},\"type\":\"mesh3d\"}],\"parcoords\":[{\"line\":{\"colorbar\":{\"outlinewidth\":0,\"ticks\":\"\"}},\"type\":\"parcoords\"}],\"pie\":[{\"automargin\":true,\"type\":\"pie\"}],\"scatter\":[{\"marker\":{\"colorbar\":{\"outlinewidth\":0,\"ticks\":\"\"}},\"type\":\"scatter\"}],\"scatter3d\":[{\"line\":{\"colorbar\":{\"outlinewidth\":0,\"ticks\":\"\"}},\"marker\":{\"colorbar\":{\"outlinewidth\":0,\"ticks\":\"\"}},\"type\":\"scatter3d\"}],\"scattercarpet\":[{\"marker\":{\"colorbar\":{\"outlinewidth\":0,\"ticks\":\"\"}},\"type\":\"scattercarpet\"}],\"scattergeo\":[{\"marker\":{\"colorbar\":{\"outlinewidth\":0,\"ticks\":\"\"}},\"type\":\"scattergeo\"}],\"scattergl\":[{\"marker\":{\"colorbar\":{\"outlinewidth\":0,\"ticks\":\"\"}},\"type\":\"scattergl\"}],\"scattermapbox\":[{\"marker\":{\"colorbar\":{\"outlinewidth\":0,\"ticks\":\"\"}},\"type\":\"scattermapbox\"}],\"scatterpolar\":[{\"marker\":{\"colorbar\":{\"outlinewidth\":0,\"ticks\":\"\"}},\"type\":\"scatterpolar\"}],\"scatterpolargl\":[{\"marker\":{\"colorbar\":{\"outlinewidth\":0,\"ticks\":\"\"}},\"type\":\"scatterpolargl\"}],\"scatterternary\":[{\"marker\":{\"colorbar\":{\"outlinewidth\":0,\"ticks\":\"\"}},\"type\":\"scatterternary\"}],\"surface\":[{\"colorbar\":{\"outlinewidth\":0,\"ticks\":\"\"},\"colorscale\":[[0.0,\"#0d0887\"],[0.1111111111111111,\"#46039f\"],[0.2222222222222222,\"#7201a8\"],[0.3333333333333333,\"#9c179e\"],[0.4444444444444444,\"#bd3786\"],[0.5555555555555556,\"#d8576b\"],[0.6666666666666666,\"#ed7953\"],[0.7777777777777778,\"#fb9f3a\"],[0.8888888888888888,\"#fdca26\"],[1.0,\"#f0f921\"]],\"type\":\"surface\"}],\"table\":[{\"cells\":{\"fill\":{\"color\":\"#EBF0F8\"},\"line\":{\"color\":\"white\"}},\"header\":{\"fill\":{\"color\":\"#C8D4E3\"},\"line\":{\"color\":\"white\"}},\"type\":\"table\"}]},\"layout\":{\"annotationdefaults\":{\"arrowcolor\":\"#2a3f5f\",\"arrowhead\":0,\"arrowwidth\":1},\"autotypenumbers\":\"strict\",\"coloraxis\":{\"colorbar\":{\"outlinewidth\":0,\"ticks\":\"\"}},\"colorscale\":{\"diverging\":[[0,\"#8e0152\"],[0.1,\"#c51b7d\"],[0.2,\"#de77ae\"],[0.3,\"#f1b6da\"],[0.4,\"#fde0ef\"],[0.5,\"#f7f7f7\"],[0.6,\"#e6f5d0\"],[0.7,\"#b8e186\"],[0.8,\"#7fbc41\"],[0.9,\"#4d9221\"],[1,\"#276419\"]],\"sequential\":[[0.0,\"#0d0887\"],[0.1111111111111111,\"#46039f\"],[0.2222222222222222,\"#7201a8\"],[0.3333333333333333,\"#9c179e\"],[0.4444444444444444,\"#bd3786\"],[0.5555555555555556,\"#d8576b\"],[0.6666666666666666,\"#ed7953\"],[0.7777777777777778,\"#fb9f3a\"],[0.8888888888888888,\"#fdca26\"],[1.0,\"#f0f921\"]],\"sequentialminus\":[[0.0,\"#0d0887\"],[0.1111111111111111,\"#46039f\"],[0.2222222222222222,\"#7201a8\"],[0.3333333333333333,\"#9c179e\"],[0.4444444444444444,\"#bd3786\"],[0.5555555555555556,\"#d8576b\"],[0.6666666666666666,\"#ed7953\"],[0.7777777777777778,\"#fb9f3a\"],[0.8888888888888888,\"#fdca26\"],[1.0,\"#f0f921\"]]},\"colorway\":[\"#636efa\",\"#EF553B\",\"#00cc96\",\"#ab63fa\",\"#FFA15A\",\"#19d3f3\",\"#FF6692\",\"#B6E880\",\"#FF97FF\",\"#FECB52\"],\"font\":{\"color\":\"#2a3f5f\"},\"geo\":{\"bgcolor\":\"white\",\"lakecolor\":\"white\",\"landcolor\":\"#E5ECF6\",\"showlakes\":true,\"showland\":true,\"subunitcolor\":\"white\"},\"hoverlabel\":{\"align\":\"left\"},\"hovermode\":\"closest\",\"mapbox\":{\"style\":\"light\"},\"paper_bgcolor\":\"white\",\"plot_bgcolor\":\"#E5ECF6\",\"polar\":{\"angularaxis\":{\"gridcolor\":\"white\",\"linecolor\":\"white\",\"ticks\":\"\"},\"bgcolor\":\"#E5ECF6\",\"radialaxis\":{\"gridcolor\":\"white\",\"linecolor\":\"white\",\"ticks\":\"\"}},\"scene\":{\"xaxis\":{\"backgroundcolor\":\"#E5ECF6\",\"gridcolor\":\"white\",\"gridwidth\":2,\"linecolor\":\"white\",\"showbackground\":true,\"ticks\":\"\",\"zerolinecolor\":\"white\"},\"yaxis\":{\"backgroundcolor\":\"#E5ECF6\",\"gridcolor\":\"white\",\"gridwidth\":2,\"linecolor\":\"white\",\"showbackground\":true,\"ticks\":\"\",\"zerolinecolor\":\"white\"},\"zaxis\":{\"backgroundcolor\":\"#E5ECF6\",\"gridcolor\":\"white\",\"gridwidth\":2,\"linecolor\":\"white\",\"showbackground\":true,\"ticks\":\"\",\"zerolinecolor\":\"white\"}},\"shapedefaults\":{\"line\":{\"color\":\"#2a3f5f\"}},\"ternary\":{\"aaxis\":{\"gridcolor\":\"white\",\"linecolor\":\"white\",\"ticks\":\"\"},\"baxis\":{\"gridcolor\":\"white\",\"linecolor\":\"white\",\"ticks\":\"\"},\"bgcolor\":\"#E5ECF6\",\"caxis\":{\"gridcolor\":\"white\",\"linecolor\":\"white\",\"ticks\":\"\"}},\"title\":{\"x\":0.05},\"xaxis\":{\"automargin\":true,\"gridcolor\":\"white\",\"linecolor\":\"white\",\"ticks\":\"\",\"title\":{\"standoff\":15},\"zerolinecolor\":\"white\",\"zerolinewidth\":2},\"yaxis\":{\"automargin\":true,\"gridcolor\":\"white\",\"linecolor\":\"white\",\"ticks\":\"\",\"title\":{\"standoff\":15},\"zerolinecolor\":\"white\",\"zerolinewidth\":2}}},\"xaxis\":{\"anchor\":\"y\",\"domain\":[0.0,1.0],\"title\":{\"text\":\"Date\"},\"rangeslider\":{\"visible\":true}},\"yaxis\":{\"anchor\":\"x\",\"domain\":[0.0,1.0],\"title\":{\"text\":\"avg_Target\"}},\"legend\":{\"tracegroupgap\":0},\"title\":{\"text\":\"slide and SEE\"}},                        {\"responsive\": true}                    ).then(function(){\n",
              "                            \n",
              "var gd = document.getElementById('a9f4b9a3-dec0-417e-a364-c6653ea10b2e');\n",
              "var x = new MutationObserver(function (mutations, observer) {{\n",
              "        var display = window.getComputedStyle(gd).display;\n",
              "        if (!display || display === 'none') {{\n",
              "            console.log([gd, 'removed!']);\n",
              "            Plotly.purge(gd);\n",
              "            observer.disconnect();\n",
              "        }}\n",
              "}});\n",
              "\n",
              "// Listen for the removal of the full notebook cells\n",
              "var notebookContainer = gd.closest('#notebook-container');\n",
              "if (notebookContainer) {{\n",
              "    x.observe(notebookContainer, {childList: true});\n",
              "}}\n",
              "\n",
              "// Listen for the clearing of the current output cell\n",
              "var outputEl = gd.closest('.output');\n",
              "if (outputEl) {{\n",
              "    x.observe(outputEl, {childList: true});\n",
              "}}\n",
              "\n",
              "                        })                };                            </script>        </div>\n",
              "</body>\n",
              "</html>"
            ]
          },
          "metadata": {}
        }
      ]
    },
    {
      "cell_type": "code",
      "source": [
        "df=dd.copy()\n",
        "df=df.dropna()"
      ],
      "metadata": {
        "id": "MUsZ_r6Lt5d6"
      },
      "execution_count": null,
      "outputs": []
    },
    {
      "cell_type": "code",
      "source": [
        "pd.plotting.autocorrelation_plot(df['2021-01-01':'2021-12-31']['avg_Target'])"
      ],
      "metadata": {
        "colab": {
          "base_uri": "https://localhost:8080/",
          "height": 300
        },
        "id": "NwE4sixLskSr",
        "outputId": "ba0539ec-80fe-4f47-8e60-3125931b6e82"
      },
      "execution_count": null,
      "outputs": [
        {
          "output_type": "execute_result",
          "data": {
            "text/plain": [
              "<Axes: xlabel='Lag', ylabel='Autocorrelation'>"
            ]
          },
          "metadata": {},
          "execution_count": 33
        },
        {
          "output_type": "display_data",
          "data": {
            "text/plain": [
              "<Figure size 432x288 with 1 Axes>"
            ],
            "image/png": "[encoded data removed]"
          },
          "metadata": {
            "needs_background": "light"
          }
        }
      ]
    },
    {
      "cell_type": "code",
      "source": [
        "pd.plotting.lag_plot(df['avg_Target'],lag=12)"
      ],
      "metadata": {
        "colab": {
          "base_uri": "https://localhost:8080/",
          "height": 297
        },
        "id": "eNUpTI6gtfuu",
        "outputId": "4104e370-b16d-41b3-9b8c-e8f2050f4182"
      },
      "execution_count": null,
      "outputs": [
        {
          "output_type": "execute_result",
          "data": {
            "text/plain": [
              "<Axes: xlabel='y(t)', ylabel='y(t + 12)'>"
            ]
          },
          "metadata": {},
          "execution_count": 34
        },
        {
          "output_type": "display_data",
          "data": {
            "text/plain": [
              "<Figure size 432x288 with 1 Axes>"
            ],
            "image/png": "[encoded data removed]"
          },
          "metadata": {
            "needs_background": "light"
          }
        }
      ]
    },
    {
      "cell_type": "code",
      "source": [
        "pd.plotting.lag_plot(df['avg_Target'],lag=10)"
      ],
      "metadata": {
        "colab": {
          "base_uri": "https://localhost:8080/",
          "height": 297
        },
        "id": "oHbINqnGu0h6",
        "outputId": "36b040b7-890f-4bae-a5d4-5c04b675f193"
      },
      "execution_count": null,
      "outputs": [
        {
          "output_type": "execute_result",
          "data": {
            "text/plain": [
              "<Axes: xlabel='y(t)', ylabel='y(t + 10)'>"
            ]
          },
          "metadata": {},
          "execution_count": 35
        },
        {
          "output_type": "display_data",
          "data": {
            "text/plain": [
              "<Figure size 432x288 with 1 Axes>"
            ],
            "image/png": "[encoded data removed]"
          },
          "metadata": {
            "needs_background": "light"
          }
        }
      ]
    },
    {
      "cell_type": "markdown",
      "source": [
        "<font color=red><h3>**Handling Missing Values**</h3><h4><br>Since we have null values in the starting of the series and also a good relation is shown for more than 10 data points, we can't use the rolling statistics.\n",
        "<br>So we will use interpolation."
      ],
      "metadata": {
        "id": "e1FZs9-aw18i"
      }
    },
    {
      "cell_type": "code",
      "source": [
        "dff=dd.copy()\n",
        "dff.head()\n",
        "dff.index"
      ],
      "metadata": {
        "colab": {
          "base_uri": "https://localhost:8080/"
        },
        "id": "FqKdpvyB4l1a",
        "outputId": "314012a5-652b-49db-c54b-3fd13eab2a96"
      },
      "execution_count": null,
      "outputs": [
        {
          "output_type": "execute_result",
          "data": {
            "text/plain": [
              "DatetimeIndex(['2021-01-01', '2021-01-02', '2021-01-03', '2021-01-04',\n",
              "               '2021-01-05', '2021-01-06', '2021-01-07', '2021-01-08',\n",
              "               '2021-01-09', '2021-01-10',\n",
              "               ...\n",
              "               '2021-12-22', '2021-12-23', '2021-12-24', '2021-12-25',\n",
              "               '2021-12-26', '2021-12-27', '2021-12-28', '2021-12-29',\n",
              "               '2021-12-30', '2021-12-31'],\n",
              "              dtype='datetime64[ns]', name='Date', length=365, freq='D')"
            ]
          },
          "metadata": {},
          "execution_count": 178
        }
      ]
    },
    {
      "cell_type": "code",
      "source": [
        "# dff.to_xlsx(r\"C:\\Users\\Sheetal\\Documents\\dataset\\ReNew_Participants_Data\\ReNew_Participants_Data\\Turbine_01.xlsx\",index=True,header=True)"
      ],
      "metadata": {
        "id": "iNcacyJta6sY"
      },
      "execution_count": null,
      "outputs": []
    },
    {
      "cell_type": "code",
      "source": [
        "# from scipy import interpolate\n",
        "dff.interpolate(method='polynomial',order=3,axis=0,limit=14,inplace=True)"
      ],
      "metadata": {
        "id": "OTilrJyZwYaY"
      },
      "execution_count": null,
      "outputs": []
    },
    {
      "cell_type": "code",
      "source": [
        "dff.head()"
      ],
      "metadata": {
        "colab": {
          "base_uri": "https://localhost:8080/",
          "height": 237
        },
        "id": "4kV80IxG47DF",
        "outputId": "7cb016fe-98aa-435e-b4c7-d0b5e1162c26"
      },
      "execution_count": null,
      "outputs": [
        {
          "output_type": "execute_result",
          "data": {
            "text/plain": [
              "            avg_Target\n",
              "Date                  \n",
              "2021-01-01   46.742106\n",
              "2021-01-02   46.106314\n",
              "2021-01-03   45.898575\n",
              "2021-01-04   46.108838\n",
              "2021-01-05   46.653550"
            ],
            "text/html": [
              "\n",
              "  <div id=\"df-009d9406-c02b-4a8f-b458-800a883af160\">\n",
              "    <div class=\"colab-df-container\">\n",
              "      <div>\n",
              "<style scoped>\n",
              "    .dataframe tbody tr th:only-of-type {\n",
              "        vertical-align: middle;\n",
              "    }\n",
              "\n",
              "    .dataframe tbody tr th {\n",
              "        vertical-align: top;\n",
              "    }\n",
              "\n",
              "    .dataframe thead th {\n",
              "        text-align: right;\n",
              "    }\n",
              "</style>\n",
              "<table border=\"1\" class=\"dataframe\">\n",
              "  <thead>\n",
              "    <tr style=\"text-align: right;\">\n",
              "      <th></th>\n",
              "      <th>avg_Target</th>\n",
              "    </tr>\n",
              "    <tr>\n",
              "      <th>Date</th>\n",
              "      <th></th>\n",
              "    </tr>\n",
              "  </thead>\n",
              "  <tbody>\n",
              "    <tr>\n",
              "      <th>2021-01-01</th>\n",
              "      <td>46.742106</td>\n",
              "    </tr>\n",
              "    <tr>\n",
              "      <th>2021-01-02</th>\n",
              "      <td>46.106314</td>\n",
              "    </tr>\n",
              "    <tr>\n",
              "      <th>2021-01-03</th>\n",
              "      <td>45.898575</td>\n",
              "    </tr>\n",
              "    <tr>\n",
              "      <th>2021-01-04</th>\n",
              "      <td>46.108838</td>\n",
              "    </tr>\n",
              "    <tr>\n",
              "      <th>2021-01-05</th>\n",
              "      <td>46.653550</td>\n",
              "    </tr>\n",
              "  </tbody>\n",
              "</table>\n",
              "</div>\n",
              "      <button class=\"colab-df-convert\" onclick=\"convertToInteractive('df-009d9406-c02b-4a8f-b458-800a883af160')\"\n",
              "              title=\"Convert this dataframe to an interactive table.\"\n",
              "              style=\"display:none;\">\n",
              "        \n",
              "  <svg xmlns=\"http://www.w3.org/2000/svg\" height=\"24px\"viewBox=\"0 0 24 24\"\n",
              "       width=\"24px\">\n",
              "    <path d=\"M0 0h24v24H0V0z\" fill=\"none\"/>\n",
              "    <path d=\"M18.56 5.44l.94 2.06.94-2.06 2.06-.94-2.06-.94-.94-2.06-.94 2.06-2.06.94zm-11 1L8.5 8.5l.94-2.06 2.06-.94-2.06-.94L8.5 2.5l-.94 2.06-2.06.94zm10 10l.94 2.06.94-2.06 2.06-.94-2.06-.94-.94-2.06-.94 2.06-2.06.94z\"/><path d=\"M17.41 7.96l-1.37-1.37c-.4-.4-.92-.59-1.43-.59-.52 0-1.04.2-1.43.59L10.3 9.45l-7.72 7.72c-.78.78-.78 2.05 0 2.83L4 21.41c.39.39.9.59 1.41.59.51 0 1.02-.2 1.41-.59l7.78-7.78 2.81-2.81c.8-.78.8-2.07 0-2.86zM5.41 20L4 18.59l7.72-7.72 1.47 1.35L5.41 20z\"/>\n",
              "  </svg>\n",
              "      </button>\n",
              "      \n",
              "  <style>\n",
              "    .colab-df-container {\n",
              "      display:flex;\n",
              "      flex-wrap:wrap;\n",
              "      gap: 12px;\n",
              "    }\n",
              "\n",
              "    .colab-df-convert {\n",
              "      background-color: #E8F0FE;\n",
              "      border: none;\n",
              "      border-radius: 50%;\n",
              "      cursor: pointer;\n",
              "      display: none;\n",
              "      fill: #1967D2;\n",
              "      height: 32px;\n",
              "      padding: 0 0 0 0;\n",
              "      width: 32px;\n",
              "    }\n",
              "\n",
              "    .colab-df-convert:hover {\n",
              "      background-color: #E2EBFA;\n",
              "      box-shadow: 0px 1px 2px rgba(60, 64, 67, 0.3), 0px 1px 3px 1px rgba(60, 64, 67, 0.15);\n",
              "      fill: #174EA6;\n",
              "    }\n",
              "\n",
              "    [theme=dark] .colab-df-convert {\n",
              "      background-color: #3B4455;\n",
              "      fill: #D2E3FC;\n",
              "    }\n",
              "\n",
              "    [theme=dark] .colab-df-convert:hover {\n",
              "      background-color: #434B5C;\n",
              "      box-shadow: 0px 1px 3px 1px rgba(0, 0, 0, 0.15);\n",
              "      filter: drop-shadow(0px 1px 2px rgba(0, 0, 0, 0.3));\n",
              "      fill: #FFFFFF;\n",
              "    }\n",
              "  </style>\n",
              "\n",
              "      <script>\n",
              "        const buttonEl =\n",
              "          document.querySelector('#df-009d9406-c02b-4a8f-b458-800a883af160 button.colab-df-convert');\n",
              "        buttonEl.style.display =\n",
              "          google.colab.kernel.accessAllowed ? 'block' : 'none';\n",
              "\n",
              "        async function convertToInteractive(key) {\n",
              "          const element = document.querySelector('#df-009d9406-c02b-4a8f-b458-800a883af160');\n",
              "          const dataTable =\n",
              "            await google.colab.kernel.invokeFunction('convertToInteractive',\n",
              "                                                     [key], {});\n",
              "          if (!dataTable) return;\n",
              "\n",
              "          const docLinkHtml = 'Like what you see? Visit the ' +\n",
              "            '<a target=\"_blank\" href=https://colab.research.google.com/notebooks/data_table.ipynb>data table notebook</a>'\n",
              "            + ' to learn more about interactive tables.';\n",
              "          element.innerHTML = '';\n",
              "          dataTable['output_type'] = 'display_data';\n",
              "          await google.colab.output.renderOutput(dataTable, element);\n",
              "          const docLink = document.createElement('div');\n",
              "          docLink.innerHTML = docLinkHtml;\n",
              "          element.appendChild(docLink);\n",
              "        }\n",
              "      </script>\n",
              "    </div>\n",
              "  </div>\n",
              "  "
            ]
          },
          "metadata": {},
          "execution_count": 180
        }
      ]
    },
    {
      "cell_type": "code",
      "source": [
        "import plotly.express as px\n",
        "\n",
        "fig=px.line(dff,x=dd.index,y='avg_Target',title='slide and SEE')\n",
        "\n",
        "fig.update_xaxes(\n",
        "    rangeslider_visible=True\n",
        ")\n",
        "\n",
        "fig.show()"
      ],
      "metadata": {
        "colab": {
          "base_uri": "https://localhost:8080/",
          "height": 542
        },
        "id": "Qv-eNXdx5B_4",
        "outputId": "5fbd30e8-7c66-4fd9-9f16-ab36dd5e7545"
      },
      "execution_count": null,
      "outputs": [
        {
          "output_type": "display_data",
          "data": {
            "text/html": [
              "<html>\n",
              "<head><meta charset=\"utf-8\" /></head>\n",
              "<body>\n",
              "    <div>            <script src=\"https://cdnjs.cloudflare.com/ajax/libs/mathjax/2.7.5/MathJax.js?config=TeX-AMS-MML_SVG\"></script><script type=\"text/javascript\">if (window.MathJax) {MathJax.Hub.Config({SVG: {font: \"STIX-Web\"}});}</script>                <script type=\"text/javascript\">window.PlotlyConfig = {MathJaxConfig: 'local'};</script>\n",
              "        <script src=\"https://cdn.plot.ly/plotly-2.8.3.min.js\"></script>                <div id=\"64530bb8-533b-46e6-8b46-f35ac4ec9f0c\" class=\"plotly-graph-div\" style=\"height:525px; width:100%;\"></div>            <script type=\"text/javascript\">                                    window.PLOTLYENV=window.PLOTLYENV || {};                                    if (document.getElementById(\"64530bb8-533b-46e6-8b46-f35ac4ec9f0c\")) {                    Plotly.newPlot(                        \"64530bb8-533b-46e6-8b46-f35ac4ec9f0c\",                        [{\"hovertemplate\":\"x=%{x}<br>avg_Target=%{y}<extra></extra>\",\"legendgroup\":\"\",\"line\":{\"color\":\"#636efa\",\"dash\":\"solid\"},\"marker\":{\"symbol\":\"circle\"},\"mode\":\"lines\",\"name\":\"\",\"orientation\":\"v\",\"showlegend\":false,\"x\":[\"2021-01-01T00:00:00\",\"2021-01-02T00:00:00\",\"2021-01-03T00:00:00\",\"2021-01-04T00:00:00\",\"2021-01-05T00:00:00\",\"2021-01-06T00:00:00\",\"2021-01-07T00:00:00\",\"2021-01-08T00:00:00\",\"2021-01-09T00:00:00\",\"2021-01-10T00:00:00\",\"2021-01-11T00:00:00\",\"2021-01-12T00:00:00\",\"2021-01-13T00:00:00\",\"2021-01-14T00:00:00\",\"2021-01-15T00:00:00\",\"2021-01-16T00:00:00\",\"2021-01-17T00:00:00\",\"2021-01-18T00:00:00\",\"2021-01-19T00:00:00\",\"2021-01-20T00:00:00\",\"2021-01-21T00:00:00\",\"2021-01-22T00:00:00\",\"2021-01-23T00:00:00\",\"2021-01-24T00:00:00\",\"2021-01-25T00:00:00\",\"2021-01-26T00:00:00\",\"2021-01-27T00:00:00\",\"2021-01-28T00:00:00\",\"2021-01-29T00:00:00\",\"2021-01-30T00:00:00\",\"2021-01-31T00:00:00\",\"2021-02-01T00:00:00\",\"2021-02-02T00:00:00\",\"2021-02-03T00:00:00\",\"2021-02-04T00:00:00\",\"2021-02-05T00:00:00\",\"2021-02-06T00:00:00\",\"2021-02-07T00:00:00\",\"2021-02-08T00:00:00\",\"2021-02-09T00:00:00\",\"2021-02-10T00:00:00\",\"2021-02-11T00:00:00\",\"2021-02-12T00:00:00\",\"2021-02-13T00:00:00\",\"2021-02-14T00:00:00\",\"2021-02-15T00:00:00\",\"2021-02-16T00:00:00\",\"2021-02-17T00:00:00\",\"2021-02-18T00:00:00\",\"2021-02-19T00:00:00\",\"2021-02-20T00:00:00\",\"2021-02-21T00:00:00\",\"2021-02-22T00:00:00\",\"2021-02-23T00:00:00\",\"2021-02-24T00:00:00\",\"2021-02-25T00:00:00\",\"2021-02-26T00:00:00\",\"2021-02-27T00:00:00\",\"2021-02-28T00:00:00\",\"2021-03-01T00:00:00\",\"2021-03-02T00:00:00\",\"2021-03-03T00:00:00\",\"2021-03-04T00:00:00\",\"2021-03-05T00:00:00\",\"2021-03-06T00:00:00\",\"2021-03-07T00:00:00\",\"2021-03-08T00:00:00\",\"2021-03-09T00:00:00\",\"2021-03-10T00:00:00\",\"2021-03-11T00:00:00\",\"2021-03-12T00:00:00\",\"2021-03-13T00:00:00\",\"2021-03-14T00:00:00\",\"2021-03-15T00:00:00\",\"2021-03-16T00:00:00\",\"2021-03-17T00:00:00\",\"2021-03-18T00:00:00\",\"2021-03-19T00:00:00\",\"2021-03-20T00:00:00\",\"2021-03-21T00:00:00\",\"2021-03-22T00:00:00\",\"2021-03-23T00:00:00\",\"2021-03-24T00:00:00\",\"2021-03-25T00:00:00\",\"2021-03-26T00:00:00\",\"2021-03-27T00:00:00\",\"2021-03-28T00:00:00\",\"2021-03-29T00:00:00\",\"2021-03-30T00:00:00\",\"2021-03-31T00:00:00\",\"2021-04-01T00:00:00\",\"2021-04-02T00:00:00\",\"2021-04-03T00:00:00\",\"2021-04-04T00:00:00\",\"2021-04-05T00:00:00\",\"2021-04-06T00:00:00\",\"2021-04-07T00:00:00\",\"2021-04-08T00:00:00\",\"2021-04-09T00:00:00\",\"2021-04-10T00:00:00\",\"2021-04-11T00:00:00\",\"2021-04-12T00:00:00\",\"2021-04-13T00:00:00\",\"2021-04-14T00:00:00\",\"2021-04-15T00:00:00\",\"2021-04-16T00:00:00\",\"2021-04-17T00:00:00\",\"2021-04-18T00:00:00\",\"2021-04-19T00:00:00\",\"2021-04-20T00:00:00\",\"2021-04-21T00:00:00\",\"2021-04-22T00:00:00\",\"2021-04-23T00:00:00\",\"2021-04-24T00:00:00\",\"2021-04-25T00:00:00\",\"2021-04-26T00:00:00\",\"2021-04-27T00:00:00\",\"2021-04-28T00:00:00\",\"2021-04-29T00:00:00\",\"2021-04-30T00:00:00\",\"2021-05-01T00:00:00\",\"2021-05-02T00:00:00\",\"2021-05-03T00:00:00\",\"2021-05-04T00:00:00\",\"2021-05-05T00:00:00\",\"2021-05-06T00:00:00\",\"2021-05-07T00:00:00\",\"2021-05-08T00:00:00\",\"2021-05-09T00:00:00\",\"2021-05-10T00:00:00\",\"2021-05-11T00:00:00\",\"2021-05-12T00:00:00\",\"2021-05-13T00:00:00\",\"2021-05-14T00:00:00\",\"2021-05-15T00:00:00\",\"2021-05-16T00:00:00\",\"2021-05-17T00:00:00\",\"2021-05-18T00:00:00\",\"2021-05-19T00:00:00\",\"2021-05-20T00:00:00\",\"2021-05-21T00:00:00\",\"2021-05-22T00:00:00\",\"2021-05-23T00:00:00\",\"2021-05-24T00:00:00\",\"2021-05-25T00:00:00\",\"2021-05-26T00:00:00\",\"2021-05-27T00:00:00\",\"2021-05-28T00:00:00\",\"2021-05-29T00:00:00\",\"2021-05-30T00:00:00\",\"2021-05-31T00:00:00\",\"2021-06-01T00:00:00\",\"2021-06-02T00:00:00\",\"2021-06-03T00:00:00\",\"2021-06-04T00:00:00\",\"2021-06-05T00:00:00\",\"2021-06-06T00:00:00\",\"2021-06-07T00:00:00\",\"2021-06-08T00:00:00\",\"2021-06-09T00:00:00\",\"2021-06-10T00:00:00\",\"2021-06-11T00:00:00\",\"2021-06-12T00:00:00\",\"2021-06-13T00:00:00\",\"2021-06-14T00:00:00\",\"2021-06-15T00:00:00\",\"2021-06-16T00:00:00\",\"2021-06-17T00:00:00\",\"2021-06-18T00:00:00\",\"2021-06-19T00:00:00\",\"2021-06-20T00:00:00\",\"2021-06-21T00:00:00\",\"2021-06-22T00:00:00\",\"2021-06-23T00:00:00\",\"2021-06-24T00:00:00\",\"2021-06-25T00:00:00\",\"2021-06-26T00:00:00\",\"2021-06-27T00:00:00\",\"2021-06-28T00:00:00\",\"2021-06-29T00:00:00\",\"2021-06-30T00:00:00\",\"2021-07-01T00:00:00\",\"2021-07-02T00:00:00\",\"2021-07-03T00:00:00\",\"2021-07-04T00:00:00\",\"2021-07-05T00:00:00\",\"2021-07-06T00:00:00\",\"2021-07-07T00:00:00\",\"2021-07-08T00:00:00\",\"2021-07-09T00:00:00\",\"2021-07-10T00:00:00\",\"2021-07-11T00:00:00\",\"2021-07-12T00:00:00\",\"2021-07-13T00:00:00\",\"2021-07-14T00:00:00\",\"2021-07-15T00:00:00\",\"2021-07-16T00:00:00\",\"2021-07-17T00:00:00\",\"2021-07-18T00:00:00\",\"2021-07-19T00:00:00\",\"2021-07-20T00:00:00\",\"2021-07-21T00:00:00\",\"2021-07-22T00:00:00\",\"2021-07-23T00:00:00\",\"2021-07-24T00:00:00\",\"2021-07-25T00:00:00\",\"2021-07-26T00:00:00\",\"2021-07-27T00:00:00\",\"2021-07-28T00:00:00\",\"2021-07-29T00:00:00\",\"2021-07-30T00:00:00\",\"2021-07-31T00:00:00\",\"2021-08-01T00:00:00\",\"2021-08-02T00:00:00\",\"2021-08-03T00:00:00\",\"2021-08-04T00:00:00\",\"2021-08-05T00:00:00\",\"2021-08-06T00:00:00\",\"2021-08-07T00:00:00\",\"2021-08-08T00:00:00\",\"2021-08-09T00:00:00\",\"2021-08-10T00:00:00\",\"2021-08-11T00:00:00\",\"2021-08-12T00:00:00\",\"2021-08-13T00:00:00\",\"2021-08-14T00:00:00\",\"2021-08-15T00:00:00\",\"2021-08-16T00:00:00\",\"2021-08-17T00:00:00\",\"2021-08-18T00:00:00\",\"2021-08-19T00:00:00\",\"2021-08-20T00:00:00\",\"2021-08-21T00:00:00\",\"2021-08-22T00:00:00\",\"2021-08-23T00:00:00\",\"2021-08-24T00:00:00\",\"2021-08-25T00:00:00\",\"2021-08-26T00:00:00\",\"2021-08-27T00:00:00\",\"2021-08-28T00:00:00\",\"2021-08-29T00:00:00\",\"2021-08-30T00:00:00\",\"2021-08-31T00:00:00\",\"2021-09-01T00:00:00\",\"2021-09-02T00:00:00\",\"2021-09-03T00:00:00\",\"2021-09-04T00:00:00\",\"2021-09-05T00:00:00\",\"2021-09-06T00:00:00\",\"2021-09-07T00:00:00\",\"2021-09-08T00:00:00\",\"2021-09-09T00:00:00\",\"2021-09-10T00:00:00\",\"2021-09-11T00:00:00\",\"2021-09-12T00:00:00\",\"2021-09-13T00:00:00\",\"2021-09-14T00:00:00\",\"2021-09-15T00:00:00\",\"2021-09-16T00:00:00\",\"2021-09-17T00:00:00\",\"2021-09-18T00:00:00\",\"2021-09-19T00:00:00\",\"2021-09-20T00:00:00\",\"2021-09-21T00:00:00\",\"2021-09-22T00:00:00\",\"2021-09-23T00:00:00\",\"2021-09-24T00:00:00\",\"2021-09-25T00:00:00\",\"2021-09-26T00:00:00\",\"2021-09-27T00:00:00\",\"2021-09-28T00:00:00\",\"2021-09-29T00:00:00\",\"2021-09-30T00:00:00\",\"2021-10-01T00:00:00\",\"2021-10-02T00:00:00\",\"2021-10-03T00:00:00\",\"2021-10-04T00:00:00\",\"2021-10-05T00:00:00\",\"2021-10-06T00:00:00\",\"2021-10-07T00:00:00\",\"2021-10-08T00:00:00\",\"2021-10-09T00:00:00\",\"2021-10-10T00:00:00\",\"2021-10-11T00:00:00\",\"2021-10-12T00:00:00\",\"2021-10-13T00:00:00\",\"2021-10-14T00:00:00\",\"2021-10-15T00:00:00\",\"2021-10-16T00:00:00\",\"2021-10-17T00:00:00\",\"2021-10-18T00:00:00\",\"2021-10-19T00:00:00\",\"2021-10-20T00:00:00\",\"2021-10-21T00:00:00\",\"2021-10-22T00:00:00\",\"2021-10-23T00:00:00\",\"2021-10-24T00:00:00\",\"2021-10-25T00:00:00\",\"2021-10-26T00:00:00\",\"2021-10-27T00:00:00\",\"2021-10-28T00:00:00\",\"2021-10-29T00:00:00\",\"2021-10-30T00:00:00\",\"2021-10-31T00:00:00\",\"2021-11-01T00:00:00\",\"2021-11-02T00:00:00\",\"2021-11-03T00:00:00\",\"2021-11-04T00:00:00\",\"2021-11-05T00:00:00\",\"2021-11-06T00:00:00\",\"2021-11-07T00:00:00\",\"2021-11-08T00:00:00\",\"2021-11-09T00:00:00\",\"2021-11-10T00:00:00\",\"2021-11-11T00:00:00\",\"2021-11-12T00:00:00\",\"2021-11-13T00:00:00\",\"2021-11-14T00:00:00\",\"2021-11-15T00:00:00\",\"2021-11-16T00:00:00\",\"2021-11-17T00:00:00\",\"2021-11-18T00:00:00\",\"2021-11-19T00:00:00\",\"2021-11-20T00:00:00\",\"2021-11-21T00:00:00\",\"2021-11-22T00:00:00\",\"2021-11-23T00:00:00\",\"2021-11-24T00:00:00\",\"2021-11-25T00:00:00\",\"2021-11-26T00:00:00\",\"2021-11-27T00:00:00\",\"2021-11-28T00:00:00\",\"2021-11-29T00:00:00\",\"2021-11-30T00:00:00\",\"2021-12-01T00:00:00\",\"2021-12-02T00:00:00\",\"2021-12-03T00:00:00\",\"2021-12-04T00:00:00\",\"2021-12-05T00:00:00\",\"2021-12-06T00:00:00\",\"2021-12-07T00:00:00\",\"2021-12-08T00:00:00\",\"2021-12-09T00:00:00\",\"2021-12-10T00:00:00\",\"2021-12-11T00:00:00\",\"2021-12-12T00:00:00\",\"2021-12-13T00:00:00\",\"2021-12-14T00:00:00\",\"2021-12-15T00:00:00\",\"2021-12-16T00:00:00\",\"2021-12-17T00:00:00\",\"2021-12-18T00:00:00\",\"2021-12-19T00:00:00\",\"2021-12-20T00:00:00\",\"2021-12-21T00:00:00\",\"2021-12-22T00:00:00\",\"2021-12-23T00:00:00\",\"2021-12-24T00:00:00\",\"2021-12-25T00:00:00\",\"2021-12-26T00:00:00\",\"2021-12-27T00:00:00\",\"2021-12-28T00:00:00\",\"2021-12-29T00:00:00\",\"2021-12-30T00:00:00\",\"2021-12-31T00:00:00\"],\"xaxis\":\"x\",\"y\":[46.74210640691942,46.106314220943965,45.898575415978065,46.10883805150351,46.65354989494862,47.430783640728336,48.33861198325765,49.275107616951495,50.13834323622485,50.82639153549267,51.237325209169924,51.26921695167154,50.820139457412516,49.788165420807786,48.07136753627232,46.47595491080448,47.73788468210321,48.86202189961418,47.67902953611976,47.73683398827574,47.74302375607374,47.364862879768744,47.66484249962701,47.766084491081955,48.488337169994004,47.17495115555544,47.70628755742853,46.62431826798812,49.59922564547995,49.96705312122499,48.78432719738453,47.26535953619541,47.58911924776824,49.13439978086031,48.11492557739943,48.63910556974865,51.30604198851872,51.74385883591392,50.578300001931055,49.341362498356744,49.65632908518722,49.44078988739938,49.95715324083964,49.89860886283543,49.77457359932564,47.86389699578285,49.53846608812564,50.94702516379931,52.79721023030364,52.965148559397896,53.13370897372564,53.140444208364016,54.4925108327494,53.28249847412109,52.289965908701824,52.08051411589684,52.4013220357616,53.0621755002725,52.116392264495026,52.66983954802804,53.730494831385236,52.03258533165103,52.11893394525102,53.93802155388726,54.08557597569057,54.46968607939491,53.678303157921995,53.48010454298575,53.29236241130086,53.17691603950832,52.43954279483893,55.27984159047367,54.90305281521981,53.94840362224173,54.24751805450957,54.78376585504283,53.5348781492652,53.27381193315661,54.05087459655035,53.34850443625937,52.49744965758505,52.447275360425316,54.33687761996655,55.74973313998332,55.87510517665318,56.57450186687967,56.2619101864168,55.395624491373695,55.32433581969899,55.890874024275895,54.35848945949389,55.352390258789065,56.09152324259782,55.18058409945655,54.96519731968007,55.379528149881,54.81535526820591,55.43259011938217,55.89593637988554,56.420286136203345,56.24616916574163,55.54921120779855,56.02021389721549,55.17940647586895,55.31099764506022,56.90399021572537,55.11939063267401,56.089930360967465,55.85539708192321,55.662815382673934,55.6846212127505,54.815125219283566,56.22266220415711,55.808400286568535,55.44977488024482,54.33623917102814,53.506944915771484,53.32054243541899,53.249384446577594,52.86941170966488,53.022414207458496,54.01823401037668,53.222019880245895,53.111817244160385,53.51469384470293,53.766612701416015,53.853438473819345,53.91510882298591,53.921694211310744,53.62179454890165,53.34939317207116,53.74746818326961,53.86834127065298,53.886332435169436,53.0156427530142,53.75770855997945,47.90587414751996,45.986218085330705,47.9982035771703,49.55089707808061,48.474561301384185,49.146600329357646,49.75300660974839,49.796864775544705,49.33070139938526,48.6903948011345,49.01669441521501,49.3364615355723,49.33198117574056,49.01067167917888,49.23545436964509,49.1995374774406,49.7905172158403,48.592873891194664,49.48757380588799,49.70269985198975,49.89444338689085,48.87930511846775,48.83963255448775,48.86715832623568,48.95297780685876,49.14183345121496,49.21054575660012,49.1086360176841,49.25140689281707,49.67215070059133,49.30775282625667,49.27032982124077,47.37785644066043,47.41333991254685,46.672409534454346,47.96956995031336,48.20952705256847,48.487980401644144,48.21564755494567,48.58832009094583,48.56565112552127,48.923123831277366,48.79530324272931,49.03730412533409,48.57115294441344,49.765605967312574,49.994741770142284,49.48434341785519,49.043299887520924,49.03717009226481,49.280981622091154,48.7958929179101,48.71943587830613,48.221536337923844,49.10239352480903,48.510938537787204,47.97736151486833,49.0633313137552,49.044440146604195,48.78724155286803,48.67237660823724,48.604207119309756,46.53795548808368,47.15784611172146,46.92495610163762,46.809470897250705,48.01821009987279,48.17499929544877,47.53702187270261,47.00854938680475,46.197067365541564,46.6684305027553,46.49412665429053,46.39236933548258,46.81130229725557,47.575921013241725,46.48889802631579,46.30816049733873,46.78460264939528,47.06738377150211,47.6056403463537,47.78771240480484,48.43303860623412,48.25298561809732,47.604912926169,48.19706389483284,47.06082025327181,47.294851291540894,47.50178034661224,47.221486881215085,47.46446051144733,47.567638444311825,48.373761327643145,47.17159287825875,47.68339888994084,48.157666847530734,47.86656718398586,48.259461869133844,47.95813851945856,47.999146102310775,47.50141463466197,46.46509687692527,47.67251789240547,48.610279466852795,47.93847368876139,47.67757991208868,48.286263956188485,47.80407724625025,47.442124280062586,47.30751196022242,47.268317586150616,47.401746389600966,48.457467965518724,48.62054829343536,48.69967172410753,47.29587757794154,47.208225907219784,47.59320194776668,47.063646705405226,37.83418100530451,41.630266647338864,47.01880053351907,47.452953070402145,47.82026809355172,47.80655387207702,47.681160718545144,47.15670606340681,46.86114565912121,47.05579165463948,47.55412877992142,46.47417697906494,47.524338009991226,47.20290317175523,47.091811604743455,46.8099344477934,44.67157090385005,45.38206777679786,47.021474742356624,47.749235466345034,48.36976036974179,47.74936196582565,46.88079945121225,48.558923401584515,48.87791106435988,48.467455182756694,47.469337717692056,47.406547721105674,47.86839272425725,48.08532195532021,48.671175530616274,48.21844018023947,44.793846978081596,48.475305902390254,48.24230095192238,47.523903504396095,45.727768214403,47.00672268285984,47.17255553745088,46.94359120743051,46.74393815939137,47.131477561048285,47.14122365102047,47.32454092195719,48.60061464811626,48.33156991992477,47.64422065520955,48.05118490979562,48.58914679288864,48.3159319998204,48.48770104921781,48.204852890968326,48.40952411064735,48.48342373060144,47.91049937768416,47.32239642722069,47.49528188963194,48.52073667189654,49.01457311339298,48.579467327925414,47.993777535178445,47.708343846457346,47.52097097474929,47.07137347875017,46.682239447226074,46.01586023966471,46.28867423317649,45.35526358944246,46.53664569125149,46.61508440709376,47.53703573015001,48.12095801970538,47.01467831929525,47.08182129493127,47.59606089736476,48.139600609288074,47.99844672009836,47.919073527568095,46.748108144578985,45.49907889229911,44.04656192820559,43.86570446307842,45.25041102805333,46.08584326886116,46.49654675555485,45.68312224521432,46.26716903601279,45.745291086548534,45.69672852396314,45.96574162628691,46.77013758371567,46.06418695342675,45.32993038205335,44.48361258279709,44.32375704084124,43.22871208190918,43.819697797968146,43.66753964091456,44.80407069591766,45.68561483684339,44.48526235727164,44.26075251390979,45.558431922064884,44.78128719329834,44.60130055745443,45.287791877664546,44.08153975515655,43.77739407065136,43.749911693816486,43.815647811485974],\"yaxis\":\"y\",\"type\":\"scatter\"}],                        {\"template\":{\"data\":{\"bar\":[{\"error_x\":{\"color\":\"#2a3f5f\"},\"error_y\":{\"color\":\"#2a3f5f\"},\"marker\":{\"line\":{\"color\":\"#E5ECF6\",\"width\":0.5},\"pattern\":{\"fillmode\":\"overlay\",\"size\":10,\"solidity\":0.2}},\"type\":\"bar\"}],\"barpolar\":[{\"marker\":{\"line\":{\"color\":\"#E5ECF6\",\"width\":0.5},\"pattern\":{\"fillmode\":\"overlay\",\"size\":10,\"solidity\":0.2}},\"type\":\"barpolar\"}],\"carpet\":[{\"aaxis\":{\"endlinecolor\":\"#2a3f5f\",\"gridcolor\":\"white\",\"linecolor\":\"white\",\"minorgridcolor\":\"white\",\"startlinecolor\":\"#2a3f5f\"},\"baxis\":{\"endlinecolor\":\"#2a3f5f\",\"gridcolor\":\"white\",\"linecolor\":\"white\",\"minorgridcolor\":\"white\",\"startlinecolor\":\"#2a3f5f\"},\"type\":\"carpet\"}],\"choropleth\":[{\"colorbar\":{\"outlinewidth\":0,\"ticks\":\"\"},\"type\":\"choropleth\"}],\"contour\":[{\"colorbar\":{\"outlinewidth\":0,\"ticks\":\"\"},\"colorscale\":[[0.0,\"#0d0887\"],[0.1111111111111111,\"#46039f\"],[0.2222222222222222,\"#7201a8\"],[0.3333333333333333,\"#9c179e\"],[0.4444444444444444,\"#bd3786\"],[0.5555555555555556,\"#d8576b\"],[0.6666666666666666,\"#ed7953\"],[0.7777777777777778,\"#fb9f3a\"],[0.8888888888888888,\"#fdca26\"],[1.0,\"#f0f921\"]],\"type\":\"contour\"}],\"contourcarpet\":[{\"colorbar\":{\"outlinewidth\":0,\"ticks\":\"\"},\"type\":\"contourcarpet\"}],\"heatmap\":[{\"colorbar\":{\"outlinewidth\":0,\"ticks\":\"\"},\"colorscale\":[[0.0,\"#0d0887\"],[0.1111111111111111,\"#46039f\"],[0.2222222222222222,\"#7201a8\"],[0.3333333333333333,\"#9c179e\"],[0.4444444444444444,\"#bd3786\"],[0.5555555555555556,\"#d8576b\"],[0.6666666666666666,\"#ed7953\"],[0.7777777777777778,\"#fb9f3a\"],[0.8888888888888888,\"#fdca26\"],[1.0,\"#f0f921\"]],\"type\":\"heatmap\"}],\"heatmapgl\":[{\"colorbar\":{\"outlinewidth\":0,\"ticks\":\"\"},\"colorscale\":[[0.0,\"#0d0887\"],[0.1111111111111111,\"#46039f\"],[0.2222222222222222,\"#7201a8\"],[0.3333333333333333,\"#9c179e\"],[0.4444444444444444,\"#bd3786\"],[0.5555555555555556,\"#d8576b\"],[0.6666666666666666,\"#ed7953\"],[0.7777777777777778,\"#fb9f3a\"],[0.8888888888888888,\"#fdca26\"],[1.0,\"#f0f921\"]],\"type\":\"heatmapgl\"}],\"histogram\":[{\"marker\":{\"pattern\":{\"fillmode\":\"overlay\",\"size\":10,\"solidity\":0.2}},\"type\":\"histogram\"}],\"histogram2d\":[{\"colorbar\":{\"outlinewidth\":0,\"ticks\":\"\"},\"colorscale\":[[0.0,\"#0d0887\"],[0.1111111111111111,\"#46039f\"],[0.2222222222222222,\"#7201a8\"],[0.3333333333333333,\"#9c179e\"],[0.4444444444444444,\"#bd3786\"],[0.5555555555555556,\"#d8576b\"],[0.6666666666666666,\"#ed7953\"],[0.7777777777777778,\"#fb9f3a\"],[0.8888888888888888,\"#fdca26\"],[1.0,\"#f0f921\"]],\"type\":\"histogram2d\"}],\"histogram2dcontour\":[{\"colorbar\":{\"outlinewidth\":0,\"ticks\":\"\"},\"colorscale\":[[0.0,\"#0d0887\"],[0.1111111111111111,\"#46039f\"],[0.2222222222222222,\"#7201a8\"],[0.3333333333333333,\"#9c179e\"],[0.4444444444444444,\"#bd3786\"],[0.5555555555555556,\"#d8576b\"],[0.6666666666666666,\"#ed7953\"],[0.7777777777777778,\"#fb9f3a\"],[0.8888888888888888,\"#fdca26\"],[1.0,\"#f0f921\"]],\"type\":\"histogram2dcontour\"}],\"mesh3d\":[{\"colorbar\":{\"outlinewidth\":0,\"ticks\":\"\"},\"type\":\"mesh3d\"}],\"parcoords\":[{\"line\":{\"colorbar\":{\"outlinewidth\":0,\"ticks\":\"\"}},\"type\":\"parcoords\"}],\"pie\":[{\"automargin\":true,\"type\":\"pie\"}],\"scatter\":[{\"marker\":{\"colorbar\":{\"outlinewidth\":0,\"ticks\":\"\"}},\"type\":\"scatter\"}],\"scatter3d\":[{\"line\":{\"colorbar\":{\"outlinewidth\":0,\"ticks\":\"\"}},\"marker\":{\"colorbar\":{\"outlinewidth\":0,\"ticks\":\"\"}},\"type\":\"scatter3d\"}],\"scattercarpet\":[{\"marker\":{\"colorbar\":{\"outlinewidth\":0,\"ticks\":\"\"}},\"type\":\"scattercarpet\"}],\"scattergeo\":[{\"marker\":{\"colorbar\":{\"outlinewidth\":0,\"ticks\":\"\"}},\"type\":\"scattergeo\"}],\"scattergl\":[{\"marker\":{\"colorbar\":{\"outlinewidth\":0,\"ticks\":\"\"}},\"type\":\"scattergl\"}],\"scattermapbox\":[{\"marker\":{\"colorbar\":{\"outlinewidth\":0,\"ticks\":\"\"}},\"type\":\"scattermapbox\"}],\"scatterpolar\":[{\"marker\":{\"colorbar\":{\"outlinewidth\":0,\"ticks\":\"\"}},\"type\":\"scatterpolar\"}],\"scatterpolargl\":[{\"marker\":{\"colorbar\":{\"outlinewidth\":0,\"ticks\":\"\"}},\"type\":\"scatterpolargl\"}],\"scatterternary\":[{\"marker\":{\"colorbar\":{\"outlinewidth\":0,\"ticks\":\"\"}},\"type\":\"scatterternary\"}],\"surface\":[{\"colorbar\":{\"outlinewidth\":0,\"ticks\":\"\"},\"colorscale\":[[0.0,\"#0d0887\"],[0.1111111111111111,\"#46039f\"],[0.2222222222222222,\"#7201a8\"],[0.3333333333333333,\"#9c179e\"],[0.4444444444444444,\"#bd3786\"],[0.5555555555555556,\"#d8576b\"],[0.6666666666666666,\"#ed7953\"],[0.7777777777777778,\"#fb9f3a\"],[0.8888888888888888,\"#fdca26\"],[1.0,\"#f0f921\"]],\"type\":\"surface\"}],\"table\":[{\"cells\":{\"fill\":{\"color\":\"#EBF0F8\"},\"line\":{\"color\":\"white\"}},\"header\":{\"fill\":{\"color\":\"#C8D4E3\"},\"line\":{\"color\":\"white\"}},\"type\":\"table\"}]},\"layout\":{\"annotationdefaults\":{\"arrowcolor\":\"#2a3f5f\",\"arrowhead\":0,\"arrowwidth\":1},\"autotypenumbers\":\"strict\",\"coloraxis\":{\"colorbar\":{\"outlinewidth\":0,\"ticks\":\"\"}},\"colorscale\":{\"diverging\":[[0,\"#8e0152\"],[0.1,\"#c51b7d\"],[0.2,\"#de77ae\"],[0.3,\"#f1b6da\"],[0.4,\"#fde0ef\"],[0.5,\"#f7f7f7\"],[0.6,\"#e6f5d0\"],[0.7,\"#b8e186\"],[0.8,\"#7fbc41\"],[0.9,\"#4d9221\"],[1,\"#276419\"]],\"sequential\":[[0.0,\"#0d0887\"],[0.1111111111111111,\"#46039f\"],[0.2222222222222222,\"#7201a8\"],[0.3333333333333333,\"#9c179e\"],[0.4444444444444444,\"#bd3786\"],[0.5555555555555556,\"#d8576b\"],[0.6666666666666666,\"#ed7953\"],[0.7777777777777778,\"#fb9f3a\"],[0.8888888888888888,\"#fdca26\"],[1.0,\"#f0f921\"]],\"sequentialminus\":[[0.0,\"#0d0887\"],[0.1111111111111111,\"#46039f\"],[0.2222222222222222,\"#7201a8\"],[0.3333333333333333,\"#9c179e\"],[0.4444444444444444,\"#bd3786\"],[0.5555555555555556,\"#d8576b\"],[0.6666666666666666,\"#ed7953\"],[0.7777777777777778,\"#fb9f3a\"],[0.8888888888888888,\"#fdca26\"],[1.0,\"#f0f921\"]]},\"colorway\":[\"#636efa\",\"#EF553B\",\"#00cc96\",\"#ab63fa\",\"#FFA15A\",\"#19d3f3\",\"#FF6692\",\"#B6E880\",\"#FF97FF\",\"#FECB52\"],\"font\":{\"color\":\"#2a3f5f\"},\"geo\":{\"bgcolor\":\"white\",\"lakecolor\":\"white\",\"landcolor\":\"#E5ECF6\",\"showlakes\":true,\"showland\":true,\"subunitcolor\":\"white\"},\"hoverlabel\":{\"align\":\"left\"},\"hovermode\":\"closest\",\"mapbox\":{\"style\":\"light\"},\"paper_bgcolor\":\"white\",\"plot_bgcolor\":\"#E5ECF6\",\"polar\":{\"angularaxis\":{\"gridcolor\":\"white\",\"linecolor\":\"white\",\"ticks\":\"\"},\"bgcolor\":\"#E5ECF6\",\"radialaxis\":{\"gridcolor\":\"white\",\"linecolor\":\"white\",\"ticks\":\"\"}},\"scene\":{\"xaxis\":{\"backgroundcolor\":\"#E5ECF6\",\"gridcolor\":\"white\",\"gridwidth\":2,\"linecolor\":\"white\",\"showbackground\":true,\"ticks\":\"\",\"zerolinecolor\":\"white\"},\"yaxis\":{\"backgroundcolor\":\"#E5ECF6\",\"gridcolor\":\"white\",\"gridwidth\":2,\"linecolor\":\"white\",\"showbackground\":true,\"ticks\":\"\",\"zerolinecolor\":\"white\"},\"zaxis\":{\"backgroundcolor\":\"#E5ECF6\",\"gridcolor\":\"white\",\"gridwidth\":2,\"linecolor\":\"white\",\"showbackground\":true,\"ticks\":\"\",\"zerolinecolor\":\"white\"}},\"shapedefaults\":{\"line\":{\"color\":\"#2a3f5f\"}},\"ternary\":{\"aaxis\":{\"gridcolor\":\"white\",\"linecolor\":\"white\",\"ticks\":\"\"},\"baxis\":{\"gridcolor\":\"white\",\"linecolor\":\"white\",\"ticks\":\"\"},\"bgcolor\":\"#E5ECF6\",\"caxis\":{\"gridcolor\":\"white\",\"linecolor\":\"white\",\"ticks\":\"\"}},\"title\":{\"x\":0.05},\"xaxis\":{\"automargin\":true,\"gridcolor\":\"white\",\"linecolor\":\"white\",\"ticks\":\"\",\"title\":{\"standoff\":15},\"zerolinecolor\":\"white\",\"zerolinewidth\":2},\"yaxis\":{\"automargin\":true,\"gridcolor\":\"white\",\"linecolor\":\"white\",\"ticks\":\"\",\"title\":{\"standoff\":15},\"zerolinecolor\":\"white\",\"zerolinewidth\":2}}},\"xaxis\":{\"anchor\":\"y\",\"domain\":[0.0,1.0],\"title\":{\"text\":\"x\"},\"rangeslider\":{\"visible\":true}},\"yaxis\":{\"anchor\":\"x\",\"domain\":[0.0,1.0],\"title\":{\"text\":\"avg_Target\"}},\"legend\":{\"tracegroupgap\":0},\"title\":{\"text\":\"slide and SEE\"}},                        {\"responsive\": true}                    ).then(function(){\n",
              "                            \n",
              "var gd = document.getElementById('64530bb8-533b-46e6-8b46-f35ac4ec9f0c');\n",
              "var x = new MutationObserver(function (mutations, observer) {{\n",
              "        var display = window.getComputedStyle(gd).display;\n",
              "        if (!display || display === 'none') {{\n",
              "            console.log([gd, 'removed!']);\n",
              "            Plotly.purge(gd);\n",
              "            observer.disconnect();\n",
              "        }}\n",
              "}});\n",
              "\n",
              "// Listen for the removal of the full notebook cells\n",
              "var notebookContainer = gd.closest('#notebook-container');\n",
              "if (notebookContainer) {{\n",
              "    x.observe(notebookContainer, {childList: true});\n",
              "}}\n",
              "\n",
              "// Listen for the clearing of the current output cell\n",
              "var outputEl = gd.closest('.output');\n",
              "if (outputEl) {{\n",
              "    x.observe(outputEl, {childList: true});\n",
              "}}\n",
              "\n",
              "                        })                };                            </script>        </div>\n",
              "</body>\n",
              "</html>"
            ]
          },
          "metadata": {}
        }
      ]
    },
    {
      "cell_type": "code",
      "source": [
        "Test_data=dff.tail()\n",
        "Test_data"
      ],
      "metadata": {
        "colab": {
          "base_uri": "https://localhost:8080/",
          "height": 237
        },
        "id": "rabGPnSp7dQD",
        "outputId": "cc91114e-1fdf-47c1-e1ea-b31a3a3bda7b"
      },
      "execution_count": null,
      "outputs": [
        {
          "output_type": "execute_result",
          "data": {
            "text/plain": [
              "            avg_Target\n",
              "Date                  \n",
              "2021-12-27   45.287792\n",
              "2021-12-28   44.081540\n",
              "2021-12-29   43.777394\n",
              "2021-12-30   43.749912\n",
              "2021-12-31   43.815648"
            ],
            "text/html": [
              "\n",
              "  <div id=\"df-7ead4bf8-e5a1-4e6a-900c-bfda5d5f0e3c\">\n",
              "    <div class=\"colab-df-container\">\n",
              "      <div>\n",
              "<style scoped>\n",
              "    .dataframe tbody tr th:only-of-type {\n",
              "        vertical-align: middle;\n",
              "    }\n",
              "\n",
              "    .dataframe tbody tr th {\n",
              "        vertical-align: top;\n",
              "    }\n",
              "\n",
              "    .dataframe thead th {\n",
              "        text-align: right;\n",
              "    }\n",
              "</style>\n",
              "<table border=\"1\" class=\"dataframe\">\n",
              "  <thead>\n",
              "    <tr style=\"text-align: right;\">\n",
              "      <th></th>\n",
              "      <th>avg_Target</th>\n",
              "    </tr>\n",
              "    <tr>\n",
              "      <th>Date</th>\n",
              "      <th></th>\n",
              "    </tr>\n",
              "  </thead>\n",
              "  <tbody>\n",
              "    <tr>\n",
              "      <th>2021-12-27</th>\n",
              "      <td>45.287792</td>\n",
              "    </tr>\n",
              "    <tr>\n",
              "      <th>2021-12-28</th>\n",
              "      <td>44.081540</td>\n",
              "    </tr>\n",
              "    <tr>\n",
              "      <th>2021-12-29</th>\n",
              "      <td>43.777394</td>\n",
              "    </tr>\n",
              "    <tr>\n",
              "      <th>2021-12-30</th>\n",
              "      <td>43.749912</td>\n",
              "    </tr>\n",
              "    <tr>\n",
              "      <th>2021-12-31</th>\n",
              "      <td>43.815648</td>\n",
              "    </tr>\n",
              "  </tbody>\n",
              "</table>\n",
              "</div>\n",
              "      <button class=\"colab-df-convert\" onclick=\"convertToInteractive('df-7ead4bf8-e5a1-4e6a-900c-bfda5d5f0e3c')\"\n",
              "              title=\"Convert this dataframe to an interactive table.\"\n",
              "              style=\"display:none;\">\n",
              "        \n",
              "  <svg xmlns=\"http://www.w3.org/2000/svg\" height=\"24px\"viewBox=\"0 0 24 24\"\n",
              "       width=\"24px\">\n",
              "    <path d=\"M0 0h24v24H0V0z\" fill=\"none\"/>\n",
              "    <path d=\"M18.56 5.44l.94 2.06.94-2.06 2.06-.94-2.06-.94-.94-2.06-.94 2.06-2.06.94zm-11 1L8.5 8.5l.94-2.06 2.06-.94-2.06-.94L8.5 2.5l-.94 2.06-2.06.94zm10 10l.94 2.06.94-2.06 2.06-.94-2.06-.94-.94-2.06-.94 2.06-2.06.94z\"/><path d=\"M17.41 7.96l-1.37-1.37c-.4-.4-.92-.59-1.43-.59-.52 0-1.04.2-1.43.59L10.3 9.45l-7.72 7.72c-.78.78-.78 2.05 0 2.83L4 21.41c.39.39.9.59 1.41.59.51 0 1.02-.2 1.41-.59l7.78-7.78 2.81-2.81c.8-.78.8-2.07 0-2.86zM5.41 20L4 18.59l7.72-7.72 1.47 1.35L5.41 20z\"/>\n",
              "  </svg>\n",
              "      </button>\n",
              "      \n",
              "  <style>\n",
              "    .colab-df-container {\n",
              "      display:flex;\n",
              "      flex-wrap:wrap;\n",
              "      gap: 12px;\n",
              "    }\n",
              "\n",
              "    .colab-df-convert {\n",
              "      background-color: #E8F0FE;\n",
              "      border: none;\n",
              "      border-radius: 50%;\n",
              "      cursor: pointer;\n",
              "      display: none;\n",
              "      fill: #1967D2;\n",
              "      height: 32px;\n",
              "      padding: 0 0 0 0;\n",
              "      width: 32px;\n",
              "    }\n",
              "\n",
              "    .colab-df-convert:hover {\n",
              "      background-color: #E2EBFA;\n",
              "      box-shadow: 0px 1px 2px rgba(60, 64, 67, 0.3), 0px 1px 3px 1px rgba(60, 64, 67, 0.15);\n",
              "      fill: #174EA6;\n",
              "    }\n",
              "\n",
              "    [theme=dark] .colab-df-convert {\n",
              "      background-color: #3B4455;\n",
              "      fill: #D2E3FC;\n",
              "    }\n",
              "\n",
              "    [theme=dark] .colab-df-convert:hover {\n",
              "      background-color: #434B5C;\n",
              "      box-shadow: 0px 1px 3px 1px rgba(0, 0, 0, 0.15);\n",
              "      filter: drop-shadow(0px 1px 2px rgba(0, 0, 0, 0.3));\n",
              "      fill: #FFFFFF;\n",
              "    }\n",
              "  </style>\n",
              "\n",
              "      <script>\n",
              "        const buttonEl =\n",
              "          document.querySelector('#df-7ead4bf8-e5a1-4e6a-900c-bfda5d5f0e3c button.colab-df-convert');\n",
              "        buttonEl.style.display =\n",
              "          google.colab.kernel.accessAllowed ? 'block' : 'none';\n",
              "\n",
              "        async function convertToInteractive(key) {\n",
              "          const element = document.querySelector('#df-7ead4bf8-e5a1-4e6a-900c-bfda5d5f0e3c');\n",
              "          const dataTable =\n",
              "            await google.colab.kernel.invokeFunction('convertToInteractive',\n",
              "                                                     [key], {});\n",
              "          if (!dataTable) return;\n",
              "\n",
              "          const docLinkHtml = 'Like what you see? Visit the ' +\n",
              "            '<a target=\"_blank\" href=https://colab.research.google.com/notebooks/data_table.ipynb>data table notebook</a>'\n",
              "            + ' to learn more about interactive tables.';\n",
              "          element.innerHTML = '';\n",
              "          dataTable['output_type'] = 'display_data';\n",
              "          await google.colab.output.renderOutput(dataTable, element);\n",
              "          const docLink = document.createElement('div');\n",
              "          docLink.innerHTML = docLinkHtml;\n",
              "          element.appendChild(docLink);\n",
              "        }\n",
              "      </script>\n",
              "    </div>\n",
              "  </div>\n",
              "  "
            ]
          },
          "metadata": {},
          "execution_count": 182
        }
      ]
    },
    {
      "cell_type": "code",
      "source": [
        "from statsmodels.tsa.seasonal import seasonal_decompose\n",
        "\n",
        "ts_decomposition = seasonal_decompose(x=dff['avg_Target'], model='additive', period=15)\n",
        "trend_estimate = ts_decomposition.trend\n",
        "seasonal_estimate = ts_decomposition.seasonal\n",
        "residual_estimate = ts_decomposition.resid\n",
        "\n",
        "fig, axes = plt.subplots(4, 1, sharex=True, sharey=False)\n",
        "fig.set_figheight(10)\n",
        "fig.set_figwidth(20)\n",
        "# First plot to the Original time series\n",
        "axes[0].plot(dff, label='Original')\n",
        "axes[0].legend(loc='upper left');\n",
        "# second plot to be for trend\n",
        "axes[1].plot(trend_estimate, label='Trend')\n",
        "axes[1].legend(loc='upper left');\n",
        "# third plot to be Seasonality component\n",
        "axes[2].plot(seasonal_estimate, label='Seasonality')\n",
        "axes[2].legend(loc='upper left');\n",
        "# last last plot to be Residual component\n",
        "axes[3].plot(residual_estimate, label='Residuals')\n",
        "axes[3].legend(loc='upper left');"
      ],
      "metadata": {
        "colab": {
          "base_uri": "https://localhost:8080/",
          "height": 592
        },
        "id": "nRkHInAyhQOZ",
        "outputId": "51481232-8974-4353-bd50-fec3e123425b"
      },
      "execution_count": null,
      "outputs": [
        {
          "output_type": "display_data",
          "data": {
            "text/plain": [
              "<Figure size 1440x720 with 4 Axes>"
            ],
            "image/png": "[encoded data removed]"
          },
          "metadata": {
            "needs_background": "light"
          }
        }
      ]
    },
    {
      "cell_type": "markdown",
      "source": [
        "<font color=blue>from above we can say data is non statinary GRAPHICALLY</font>"
      ],
      "metadata": {
        "id": "mNuXEALij-1Q"
      }
    },
    {
      "cell_type": "code",
      "source": [
        "testing_data=dff.tail()\n",
        "dff.drop(['2021-12-27','2021-12-28','2021-12-29','2021-12-30','2021-12-31'],axis=0,inplace=True)"
      ],
      "metadata": {
        "id": "XcggHFMt8JHi"
      },
      "execution_count": null,
      "outputs": []
    },
    {
      "cell_type": "code",
      "source": [
        "testing_data"
      ],
      "metadata": {
        "colab": {
          "base_uri": "https://localhost:8080/",
          "height": 237
        },
        "id": "3_FOfd47eeGM",
        "outputId": "b13e15a9-23de-4e5c-b06f-1133761a0195"
      },
      "execution_count": null,
      "outputs": [
        {
          "output_type": "execute_result",
          "data": {
            "text/plain": [
              "            avg_Target\n",
              "Date                  \n",
              "2021-12-27   45.287792\n",
              "2021-12-28   44.081540\n",
              "2021-12-29   43.777394\n",
              "2021-12-30   43.749912\n",
              "2021-12-31   43.815648"
            ],
            "text/html": [
              "\n",
              "  <div id=\"df-a184d885-ae8c-4a35-8cdb-100d40cdcd37\">\n",
              "    <div class=\"colab-df-container\">\n",
              "      <div>\n",
              "<style scoped>\n",
              "    .dataframe tbody tr th:only-of-type {\n",
              "        vertical-align: middle;\n",
              "    }\n",
              "\n",
              "    .dataframe tbody tr th {\n",
              "        vertical-align: top;\n",
              "    }\n",
              "\n",
              "    .dataframe thead th {\n",
              "        text-align: right;\n",
              "    }\n",
              "</style>\n",
              "<table border=\"1\" class=\"dataframe\">\n",
              "  <thead>\n",
              "    <tr style=\"text-align: right;\">\n",
              "      <th></th>\n",
              "      <th>avg_Target</th>\n",
              "    </tr>\n",
              "    <tr>\n",
              "      <th>Date</th>\n",
              "      <th></th>\n",
              "    </tr>\n",
              "  </thead>\n",
              "  <tbody>\n",
              "    <tr>\n",
              "      <th>2021-12-27</th>\n",
              "      <td>45.287792</td>\n",
              "    </tr>\n",
              "    <tr>\n",
              "      <th>2021-12-28</th>\n",
              "      <td>44.081540</td>\n",
              "    </tr>\n",
              "    <tr>\n",
              "      <th>2021-12-29</th>\n",
              "      <td>43.777394</td>\n",
              "    </tr>\n",
              "    <tr>\n",
              "      <th>2021-12-30</th>\n",
              "      <td>43.749912</td>\n",
              "    </tr>\n",
              "    <tr>\n",
              "      <th>2021-12-31</th>\n",
              "      <td>43.815648</td>\n",
              "    </tr>\n",
              "  </tbody>\n",
              "</table>\n",
              "</div>\n",
              "      <button class=\"colab-df-convert\" onclick=\"convertToInteractive('df-a184d885-ae8c-4a35-8cdb-100d40cdcd37')\"\n",
              "              title=\"Convert this dataframe to an interactive table.\"\n",
              "              style=\"display:none;\">\n",
              "        \n",
              "  <svg xmlns=\"http://www.w3.org/2000/svg\" height=\"24px\"viewBox=\"0 0 24 24\"\n",
              "       width=\"24px\">\n",
              "    <path d=\"M0 0h24v24H0V0z\" fill=\"none\"/>\n",
              "    <path d=\"M18.56 5.44l.94 2.06.94-2.06 2.06-.94-2.06-.94-.94-2.06-.94 2.06-2.06.94zm-11 1L8.5 8.5l.94-2.06 2.06-.94-2.06-.94L8.5 2.5l-.94 2.06-2.06.94zm10 10l.94 2.06.94-2.06 2.06-.94-2.06-.94-.94-2.06-.94 2.06-2.06.94z\"/><path d=\"M17.41 7.96l-1.37-1.37c-.4-.4-.92-.59-1.43-.59-.52 0-1.04.2-1.43.59L10.3 9.45l-7.72 7.72c-.78.78-.78 2.05 0 2.83L4 21.41c.39.39.9.59 1.41.59.51 0 1.02-.2 1.41-.59l7.78-7.78 2.81-2.81c.8-.78.8-2.07 0-2.86zM5.41 20L4 18.59l7.72-7.72 1.47 1.35L5.41 20z\"/>\n",
              "  </svg>\n",
              "      </button>\n",
              "      \n",
              "  <style>\n",
              "    .colab-df-container {\n",
              "      display:flex;\n",
              "      flex-wrap:wrap;\n",
              "      gap: 12px;\n",
              "    }\n",
              "\n",
              "    .colab-df-convert {\n",
              "      background-color: #E8F0FE;\n",
              "      border: none;\n",
              "      border-radius: 50%;\n",
              "      cursor: pointer;\n",
              "      display: none;\n",
              "      fill: #1967D2;\n",
              "      height: 32px;\n",
              "      padding: 0 0 0 0;\n",
              "      width: 32px;\n",
              "    }\n",
              "\n",
              "    .colab-df-convert:hover {\n",
              "      background-color: #E2EBFA;\n",
              "      box-shadow: 0px 1px 2px rgba(60, 64, 67, 0.3), 0px 1px 3px 1px rgba(60, 64, 67, 0.15);\n",
              "      fill: #174EA6;\n",
              "    }\n",
              "\n",
              "    [theme=dark] .colab-df-convert {\n",
              "      background-color: #3B4455;\n",
              "      fill: #D2E3FC;\n",
              "    }\n",
              "\n",
              "    [theme=dark] .colab-df-convert:hover {\n",
              "      background-color: #434B5C;\n",
              "      box-shadow: 0px 1px 3px 1px rgba(0, 0, 0, 0.15);\n",
              "      filter: drop-shadow(0px 1px 2px rgba(0, 0, 0, 0.3));\n",
              "      fill: #FFFFFF;\n",
              "    }\n",
              "  </style>\n",
              "\n",
              "      <script>\n",
              "        const buttonEl =\n",
              "          document.querySelector('#df-a184d885-ae8c-4a35-8cdb-100d40cdcd37 button.colab-df-convert');\n",
              "        buttonEl.style.display =\n",
              "          google.colab.kernel.accessAllowed ? 'block' : 'none';\n",
              "\n",
              "        async function convertToInteractive(key) {\n",
              "          const element = document.querySelector('#df-a184d885-ae8c-4a35-8cdb-100d40cdcd37');\n",
              "          const dataTable =\n",
              "            await google.colab.kernel.invokeFunction('convertToInteractive',\n",
              "                                                     [key], {});\n",
              "          if (!dataTable) return;\n",
              "\n",
              "          const docLinkHtml = 'Like what you see? Visit the ' +\n",
              "            '<a target=\"_blank\" href=https://colab.research.google.com/notebooks/data_table.ipynb>data table notebook</a>'\n",
              "            + ' to learn more about interactive tables.';\n",
              "          element.innerHTML = '';\n",
              "          dataTable['output_type'] = 'display_data';\n",
              "          await google.colab.output.renderOutput(dataTable, element);\n",
              "          const docLink = document.createElement('div');\n",
              "          docLink.innerHTML = docLinkHtml;\n",
              "          element.appendChild(docLink);\n",
              "        }\n",
              "      </script>\n",
              "    </div>\n",
              "  </div>\n",
              "  "
            ]
          },
          "metadata": {},
          "execution_count": 185
        }
      ]
    },
    {
      "cell_type": "code",
      "source": [
        "dff.tail()"
      ],
      "metadata": {
        "colab": {
          "base_uri": "https://localhost:8080/",
          "height": 237
        },
        "id": "o1M9QSC987rM",
        "outputId": "f0087f78-2079-43d7-82cc-8ff227413b85"
      },
      "execution_count": null,
      "outputs": [
        {
          "output_type": "execute_result",
          "data": {
            "text/plain": [
              "            avg_Target\n",
              "Date                  \n",
              "2021-12-22   44.485262\n",
              "2021-12-23   44.260753\n",
              "2021-12-24   45.558432\n",
              "2021-12-25   44.781287\n",
              "2021-12-26   44.601301"
            ],
            "text/html": [
              "\n",
              "  <div id=\"df-c6e123c0-d369-4782-929f-302727747a75\">\n",
              "    <div class=\"colab-df-container\">\n",
              "      <div>\n",
              "<style scoped>\n",
              "    .dataframe tbody tr th:only-of-type {\n",
              "        vertical-align: middle;\n",
              "    }\n",
              "\n",
              "    .dataframe tbody tr th {\n",
              "        vertical-align: top;\n",
              "    }\n",
              "\n",
              "    .dataframe thead th {\n",
              "        text-align: right;\n",
              "    }\n",
              "</style>\n",
              "<table border=\"1\" class=\"dataframe\">\n",
              "  <thead>\n",
              "    <tr style=\"text-align: right;\">\n",
              "      <th></th>\n",
              "      <th>avg_Target</th>\n",
              "    </tr>\n",
              "    <tr>\n",
              "      <th>Date</th>\n",
              "      <th></th>\n",
              "    </tr>\n",
              "  </thead>\n",
              "  <tbody>\n",
              "    <tr>\n",
              "      <th>2021-12-22</th>\n",
              "      <td>44.485262</td>\n",
              "    </tr>\n",
              "    <tr>\n",
              "      <th>2021-12-23</th>\n",
              "      <td>44.260753</td>\n",
              "    </tr>\n",
              "    <tr>\n",
              "      <th>2021-12-24</th>\n",
              "      <td>45.558432</td>\n",
              "    </tr>\n",
              "    <tr>\n",
              "      <th>2021-12-25</th>\n",
              "      <td>44.781287</td>\n",
              "    </tr>\n",
              "    <tr>\n",
              "      <th>2021-12-26</th>\n",
              "      <td>44.601301</td>\n",
              "    </tr>\n",
              "  </tbody>\n",
              "</table>\n",
              "</div>\n",
              "      <button class=\"colab-df-convert\" onclick=\"convertToInteractive('df-c6e123c0-d369-4782-929f-302727747a75')\"\n",
              "              title=\"Convert this dataframe to an interactive table.\"\n",
              "              style=\"display:none;\">\n",
              "        \n",
              "  <svg xmlns=\"http://www.w3.org/2000/svg\" height=\"24px\"viewBox=\"0 0 24 24\"\n",
              "       width=\"24px\">\n",
              "    <path d=\"M0 0h24v24H0V0z\" fill=\"none\"/>\n",
              "    <path d=\"M18.56 5.44l.94 2.06.94-2.06 2.06-.94-2.06-.94-.94-2.06-.94 2.06-2.06.94zm-11 1L8.5 8.5l.94-2.06 2.06-.94-2.06-.94L8.5 2.5l-.94 2.06-2.06.94zm10 10l.94 2.06.94-2.06 2.06-.94-2.06-.94-.94-2.06-.94 2.06-2.06.94z\"/><path d=\"M17.41 7.96l-1.37-1.37c-.4-.4-.92-.59-1.43-.59-.52 0-1.04.2-1.43.59L10.3 9.45l-7.72 7.72c-.78.78-.78 2.05 0 2.83L4 21.41c.39.39.9.59 1.41.59.51 0 1.02-.2 1.41-.59l7.78-7.78 2.81-2.81c.8-.78.8-2.07 0-2.86zM5.41 20L4 18.59l7.72-7.72 1.47 1.35L5.41 20z\"/>\n",
              "  </svg>\n",
              "      </button>\n",
              "      \n",
              "  <style>\n",
              "    .colab-df-container {\n",
              "      display:flex;\n",
              "      flex-wrap:wrap;\n",
              "      gap: 12px;\n",
              "    }\n",
              "\n",
              "    .colab-df-convert {\n",
              "      background-color: #E8F0FE;\n",
              "      border: none;\n",
              "      border-radius: 50%;\n",
              "      cursor: pointer;\n",
              "      display: none;\n",
              "      fill: #1967D2;\n",
              "      height: 32px;\n",
              "      padding: 0 0 0 0;\n",
              "      width: 32px;\n",
              "    }\n",
              "\n",
              "    .colab-df-convert:hover {\n",
              "      background-color: #E2EBFA;\n",
              "      box-shadow: 0px 1px 2px rgba(60, 64, 67, 0.3), 0px 1px 3px 1px rgba(60, 64, 67, 0.15);\n",
              "      fill: #174EA6;\n",
              "    }\n",
              "\n",
              "    [theme=dark] .colab-df-convert {\n",
              "      background-color: #3B4455;\n",
              "      fill: #D2E3FC;\n",
              "    }\n",
              "\n",
              "    [theme=dark] .colab-df-convert:hover {\n",
              "      background-color: #434B5C;\n",
              "      box-shadow: 0px 1px 3px 1px rgba(0, 0, 0, 0.15);\n",
              "      filter: drop-shadow(0px 1px 2px rgba(0, 0, 0, 0.3));\n",
              "      fill: #FFFFFF;\n",
              "    }\n",
              "  </style>\n",
              "\n",
              "      <script>\n",
              "        const buttonEl =\n",
              "          document.querySelector('#df-c6e123c0-d369-4782-929f-302727747a75 button.colab-df-convert');\n",
              "        buttonEl.style.display =\n",
              "          google.colab.kernel.accessAllowed ? 'block' : 'none';\n",
              "\n",
              "        async function convertToInteractive(key) {\n",
              "          const element = document.querySelector('#df-c6e123c0-d369-4782-929f-302727747a75');\n",
              "          const dataTable =\n",
              "            await google.colab.kernel.invokeFunction('convertToInteractive',\n",
              "                                                     [key], {});\n",
              "          if (!dataTable) return;\n",
              "\n",
              "          const docLinkHtml = 'Like what you see? Visit the ' +\n",
              "            '<a target=\"_blank\" href=https://colab.research.google.com/notebooks/data_table.ipynb>data table notebook</a>'\n",
              "            + ' to learn more about interactive tables.';\n",
              "          element.innerHTML = '';\n",
              "          dataTable['output_type'] = 'display_data';\n",
              "          await google.colab.output.renderOutput(dataTable, element);\n",
              "          const docLink = document.createElement('div');\n",
              "          docLink.innerHTML = docLinkHtml;\n",
              "          element.appendChild(docLink);\n",
              "        }\n",
              "      </script>\n",
              "    </div>\n",
              "  </div>\n",
              "  "
            ]
          },
          "metadata": {},
          "execution_count": 186
        }
      ]
    },
    {
      "cell_type": "markdown",
      "source": [
        "<font color=red><h2>**ARIMA MODEL**"
      ],
      "metadata": {
        "id": "X3j97czWCJPE"
      }
    },
    {
      "cell_type": "code",
      "source": [
        "from statsmodels.tsa.stattools import adfuller"
      ],
      "metadata": {
        "id": "3aGay_Jy89OW"
      },
      "execution_count": null,
      "outputs": []
    },
    {
      "cell_type": "code",
      "source": [
        "result = adfuller(dff['avg_Target'])\n",
        "print('ADF Statistics: %.3f'%result[0])\n",
        "print('p-value: %f'%result[1])\n",
        "print('critical Values: ')\n",
        "for key,value in result[4].items():\n",
        "  print('\\t%s: %.3f'%(key,value))"
      ],
      "metadata": {
        "colab": {
          "base_uri": "https://localhost:8080/"
        },
        "id": "Rbef98sI9v2k",
        "outputId": "379c7047-04a4-4979-c57e-2c0eb5e21be7"
      },
      "execution_count": null,
      "outputs": [
        {
          "output_type": "stream",
          "name": "stdout",
          "text": [
            "ADF Statistics: -1.402\n",
            "p-value: 0.581217\n",
            "critical Values: \n",
            "\t1%: -3.449\n",
            "\t5%: -2.870\n",
            "\t10%: -2.571\n"
          ]
        }
      ]
    },
    {
      "cell_type": "markdown",
      "source": [
        "<font color=blue> since adf statistic > all 3 critical values <br>p-value >0.05</br><br>TimeSeries is not stationary</br></font>"
      ],
      "metadata": {
        "id": "X2iaVOXhIKoT"
      }
    },
    {
      "cell_type": "code",
      "source": [
        "dff['difference_1']=dff['avg_Target']-dff['avg_Target'].shift(1)"
      ],
      "metadata": {
        "id": "bxRnysY1N9qs"
      },
      "execution_count": null,
      "outputs": []
    },
    {
      "cell_type": "code",
      "source": [
        "# from statsmodels.tsa.seasonal import seasonal_decompose\n",
        "\n",
        "# ts_dicomposition = seasonal_decompose(x=dff['difference_1'], model='additive', period=15)\n",
        "# trend_estimate = ts_dicomposition.trend\n",
        "# seasonal_estimate = ts_dicomposition.seasonal\n",
        "# residual_estimate = ts_dicomposition.resid\n",
        "\n",
        "# fig, axes = plt.subplots(4, 1, sharex=True, sharey=False)\n",
        "# fig.set_figheight(10)\n",
        "# fig.set_figwidth(20)\n",
        "# # First plot to the Original time series\n",
        "# axes[0].plot(dff['difference_1'], label='Original')\n",
        "# axes[0].legend(loc='upper left');\n",
        "# # second plot to be for trend\n",
        "# axes[1].plot(trend_estimate, label='Trend')\n",
        "# axes[1].legend(loc='upper left');\n",
        "# # third plot to be Seasonality component\n",
        "# axes[2].plot(seasonal_estimate, label='Seasonality')\n",
        "# axes[2].legend(loc='upper left');\n",
        "# # last last plot to be Residual component\n",
        "# axes[3].plot(residual_estimate, label='Residuals')\n",
        "# axes[3].legend(loc='upper left');"
      ],
      "metadata": {
        "id": "lv7zdtI1kRbs"
      },
      "execution_count": null,
      "outputs": []
    },
    {
      "cell_type": "code",
      "source": [
        "dff.dropna(axis=0,inplace=True)\n",
        "result = adfuller(dff['difference_1'])\n",
        "print('ADF Statistics: %.3f'%result[0])\n",
        "print('p-value: %f'%result[1])\n",
        "print('critical Values: ')\n",
        "for key,value in result[4].items():\n",
        "  print('\\t%s: %.3f'%(key,value))"
      ],
      "metadata": {
        "colab": {
          "base_uri": "https://localhost:8080/"
        },
        "id": "u8_es6VxORtE",
        "outputId": "8032a6e0-6463-409f-8dc1-9b7c8e522378"
      },
      "execution_count": null,
      "outputs": [
        {
          "output_type": "stream",
          "name": "stdout",
          "text": [
            "ADF Statistics: -10.033\n",
            "p-value: 0.000000\n",
            "critical Values: \n",
            "\t1%: -3.449\n",
            "\t5%: -2.870\n",
            "\t10%: -2.571\n"
          ]
        }
      ]
    },
    {
      "cell_type": "code",
      "source": [
        "dff['difference_1'].plot()"
      ],
      "metadata": {
        "colab": {
          "base_uri": "https://localhost:8080/",
          "height": 297
        },
        "id": "EkB5Z2ZYO3oC",
        "outputId": "d3cd0bab-aa5c-439b-b879-d1588f50a247"
      },
      "execution_count": null,
      "outputs": [
        {
          "output_type": "execute_result",
          "data": {
            "text/plain": [
              "<Axes: xlabel='Date'>"
            ]
          },
          "metadata": {},
          "execution_count": 88
        },
        {
          "output_type": "display_data",
          "data": {
            "text/plain": [
              "<Figure size 432x288 with 1 Axes>"
            ],
            "image/png": "[encoded data removed]"
          },
          "metadata": {
            "needs_background": "light"
          }
        }
      ]
    },
    {
      "cell_type": "markdown",
      "source": [
        "<font color=blue> since adf statistic < all 3 critical values <br>p-value <0.05</br><br>TimeSeries is  stationary</br></font>"
      ],
      "metadata": {
        "id": "j1yC1soKOw72"
      }
    },
    {
      "cell_type": "code",
      "source": [
        "from pandas.plotting import autocorrelation_plot\n",
        "autocorrelation_plot(dff['difference_1'])\n",
        "plt.show()"
      ],
      "metadata": {
        "colab": {
          "base_uri": "https://localhost:8080/",
          "height": 283
        },
        "id": "jkl1tpN_L6kT",
        "outputId": "e4bf62dd-5442-4d06-f7b6-73b88f752dce"
      },
      "execution_count": null,
      "outputs": [
        {
          "output_type": "display_data",
          "data": {
            "text/plain": [
              "<Figure size 432x288 with 1 Axes>"
            ],
            "image/png": "[encoded data removed]"
          },
          "metadata": {
            "needs_background": "light"
          }
        }
      ]
    },
    {
      "cell_type": "markdown",
      "source": [
        "<font color=blue>No correlation in differenced stationary data</font>"
      ],
      "metadata": {
        "id": "ypjiLHGFSBrt"
      }
    },
    {
      "cell_type": "markdown",
      "source": [
        "<font color=green><h2>**Auto regressive Model**</h2></font>"
      ],
      "metadata": {
        "id": "tGytfEvwQUfk"
      }
    },
    {
      "cell_type": "code",
      "source": [
        "from statsmodels.graphics.tsaplots import plot_acf,plot_pacf"
      ],
      "metadata": {
        "id": "J9K0Z_-GPY_g"
      },
      "execution_count": null,
      "outputs": []
    },
    {
      "cell_type": "code",
      "source": [
        "fig=plt.figure(figsize=(12,8))\n",
        "ax1=fig.add_subplot(211)\n",
        "fig=plot_acf(dff['difference_1'],lags=20,ax=ax1)\n",
        "\n",
        "ax2=fig.add_subplot(212)\n",
        "fig=plot_pacf(dff['difference_1'],lags=20,ax=ax2)"
      ],
      "metadata": {
        "colab": {
          "base_uri": "https://localhost:8080/",
          "height": 588
        },
        "id": "Sxs9DiGb90Eh",
        "outputId": "f1380d56-9ccb-4968-cbe6-159431b1835b"
      },
      "execution_count": null,
      "outputs": [
        {
          "output_type": "stream",
          "name": "stderr",
          "text": [
            "/usr/local/lib/python3.9/dist-packages/statsmodels/graphics/tsaplots.py:348: FutureWarning:\n",
            "\n",
            "The default method 'yw' can produce PACF values outside of the [-1,1] interval. After 0.13, the default will change tounadjusted Yule-Walker ('ywm'). You can use this method now by setting method='ywm'.\n",
            "\n"
          ]
        },
        {
          "output_type": "display_data",
          "data": {
            "text/plain": [
              "<Figure size 864x576 with 2 Axes>"
            ],
            "image/png": "[encoded data removed]"
          },
          "metadata": {
            "needs_background": "light"
          }
        }
      ]
    },
    {
      "cell_type": "markdown",
      "source": [
        "<font color=blue>**FROM PACF GRAPH <BR>p = 2 as there is significant drop that is cut off after p=2.**</font><BR></BR>\n",
        "<font color=blue>**FROM ACF GRAPH <BR>q= 2 as there is significant drop that is cut off after q=2.**</font></BR>"
      ],
      "metadata": {
        "id": "XqauZBMplMl1"
      }
    },
    {
      "cell_type": "code",
      "source": [
        "from statsmodels.tsa.arima_model import ARIMA"
      ],
      "metadata": {
        "id": "dYbsb5Qc9v_p"
      },
      "execution_count": null,
      "outputs": []
    },
    {
      "cell_type": "code",
      "source": [
        "# model=ARIMA(dff['avg_Target'],order=(2,2,0))\n",
        "import statsmodels.api as sm\n",
        "model= sm.tsa.arima.ARIMA(dff['avg_Target'], order=(2,1,2))\n",
        "result = model.fit()\n",
        "# model_fit=model.fit()"
      ],
      "metadata": {
        "id": "5nPCcwSi9wC7"
      },
      "execution_count": null,
      "outputs": []
    },
    {
      "cell_type": "code",
      "source": [
        "dff['difference_1'].head()"
      ],
      "metadata": {
        "colab": {
          "base_uri": "https://localhost:8080/"
        },
        "id": "CwUsG0JBfiiu",
        "outputId": "068e1f68-ee5d-4bf5-ea81-b101f620e36e"
      },
      "execution_count": null,
      "outputs": [
        {
          "output_type": "execute_result",
          "data": {
            "text/plain": [
              "Date\n",
              "2021-01-02   -0.635792\n",
              "2021-01-03   -0.207739\n",
              "2021-01-04    0.210263\n",
              "2021-01-05    0.544712\n",
              "2021-01-06    0.777234\n",
              "Freq: D, Name: difference_1, dtype: float64"
            ]
          },
          "metadata": {},
          "execution_count": 195
        }
      ]
    },
    {
      "cell_type": "code",
      "source": [
        "result.summary()"
      ],
      "metadata": {
        "colab": {
          "base_uri": "https://localhost:8080/",
          "height": 465
        },
        "id": "yLGc-kpy9wF9",
        "outputId": "f3340a9c-c6e8-4df1-f018-660d6ae49792"
      },
      "execution_count": null,
      "outputs": [
        {
          "output_type": "execute_result",
          "data": {
            "text/plain": [
              "<class 'statsmodels.iolib.summary.Summary'>\n",
              "\"\"\"\n",
              "                               SARIMAX Results                                \n",
              "==============================================================================\n",
              "Dep. Variable:             avg_Target   No. Observations:                  359\n",
              "Model:                 ARIMA(2, 1, 2)   Log Likelihood                -513.248\n",
              "Date:                Sun, 19 Mar 2023   AIC                           1036.496\n",
              "Time:                        20:06:06   BIC                           1055.899\n",
              "Sample:                    01-02-2021   HQIC                          1044.213\n",
              "                         - 12-26-2021                                         \n",
              "Covariance Type:                  opg                                         \n",
              "==============================================================================\n",
              "                 coef    std err          z      P>|z|      [0.025      0.975]\n",
              "------------------------------------------------------------------------------\n",
              "ar.L1          0.3503      0.360      0.974      0.330      -0.355       1.056\n",
              "ar.L2          0.0185      0.276      0.067      0.947      -0.523       0.560\n",
              "ma.L1         -0.4921      0.356     -1.384      0.166      -1.189       0.205\n",
              "ma.L2         -0.2628      0.327     -0.803      0.422      -0.904       0.378\n",
              "sigma2         1.0288      0.022     46.511      0.000       0.985       1.072\n",
              "===================================================================================\n",
              "Ljung-Box (L1) (Q):                   0.00   Jarque-Bera (JB):              8001.71\n",
              "Prob(Q):                              0.99   Prob(JB):                         0.00\n",
              "Heteroskedasticity (H):               1.62   Skew:                            -2.58\n",
              "Prob(H) (two-sided):                  0.01   Kurtosis:                        25.58\n",
              "===================================================================================\n",
              "\n",
              "Warnings:\n",
              "[1] Covariance matrix calculated using the outer product of gradients (complex-step).\n",
              "\"\"\""
            ],
            "text/html": [
              "<table class=\"simpletable\">\n",
              "<caption>SARIMAX Results</caption>\n",
              "<tr>\n",
              "  <th>Dep. Variable:</th>      <td>avg_Target</td>    <th>  No. Observations:  </th>    <td>359</td>  \n",
              "</tr>\n",
              "<tr>\n",
              "  <th>Model:</th>            <td>ARIMA(2, 1, 2)</td>  <th>  Log Likelihood     </th> <td>-513.248</td>\n",
              "</tr>\n",
              "<tr>\n",
              "  <th>Date:</th>            <td>Sun, 19 Mar 2023</td> <th>  AIC                </th> <td>1036.496</td>\n",
              "</tr>\n",
              "<tr>\n",
              "  <th>Time:</th>                <td>20:06:06</td>     <th>  BIC                </th> <td>1055.899</td>\n",
              "</tr>\n",
              "<tr>\n",
              "  <th>Sample:</th>             <td>01-02-2021</td>    <th>  HQIC               </th> <td>1044.213</td>\n",
              "</tr>\n",
              "<tr>\n",
              "  <th></th>                   <td>- 12-26-2021</td>   <th>                     </th>     <td> </td>   \n",
              "</tr>\n",
              "<tr>\n",
              "  <th>Covariance Type:</th>        <td>opg</td>       <th>                     </th>     <td> </td>   \n",
              "</tr>\n",
              "</table>\n",
              "<table class=\"simpletable\">\n",
              "<tr>\n",
              "     <td></td>       <th>coef</th>     <th>std err</th>      <th>z</th>      <th>P>|z|</th>  <th>[0.025</th>    <th>0.975]</th>  \n",
              "</tr>\n",
              "<tr>\n",
              "  <th>ar.L1</th>  <td>    0.3503</td> <td>    0.360</td> <td>    0.974</td> <td> 0.330</td> <td>   -0.355</td> <td>    1.056</td>\n",
              "</tr>\n",
              "<tr>\n",
              "  <th>ar.L2</th>  <td>    0.0185</td> <td>    0.276</td> <td>    0.067</td> <td> 0.947</td> <td>   -0.523</td> <td>    0.560</td>\n",
              "</tr>\n",
              "<tr>\n",
              "  <th>ma.L1</th>  <td>   -0.4921</td> <td>    0.356</td> <td>   -1.384</td> <td> 0.166</td> <td>   -1.189</td> <td>    0.205</td>\n",
              "</tr>\n",
              "<tr>\n",
              "  <th>ma.L2</th>  <td>   -0.2628</td> <td>    0.327</td> <td>   -0.803</td> <td> 0.422</td> <td>   -0.904</td> <td>    0.378</td>\n",
              "</tr>\n",
              "<tr>\n",
              "  <th>sigma2</th> <td>    1.0288</td> <td>    0.022</td> <td>   46.511</td> <td> 0.000</td> <td>    0.985</td> <td>    1.072</td>\n",
              "</tr>\n",
              "</table>\n",
              "<table class=\"simpletable\">\n",
              "<tr>\n",
              "  <th>Ljung-Box (L1) (Q):</th>     <td>0.00</td> <th>  Jarque-Bera (JB):  </th> <td>8001.71</td>\n",
              "</tr>\n",
              "<tr>\n",
              "  <th>Prob(Q):</th>                <td>0.99</td> <th>  Prob(JB):          </th>  <td>0.00</td>  \n",
              "</tr>\n",
              "<tr>\n",
              "  <th>Heteroskedasticity (H):</th> <td>1.62</td> <th>  Skew:              </th>  <td>-2.58</td> \n",
              "</tr>\n",
              "<tr>\n",
              "  <th>Prob(H) (two-sided):</th>    <td>0.01</td> <th>  Kurtosis:          </th>  <td>25.58</td> \n",
              "</tr>\n",
              "</table><br/><br/>Warnings:<br/>[1] Covariance matrix calculated using the outer product of gradients (complex-step)."
            ]
          },
          "metadata": {},
          "execution_count": 196
        }
      ]
    },
    {
      "cell_type": "code",
      "source": [
        "# model_2=ARIMA(dff['avg_Target'],order=(1,1,0))\n",
        "# model_fit_2=model_2.fit()"
      ],
      "metadata": {
        "id": "CZzR5FOt9wJC"
      },
      "execution_count": null,
      "outputs": []
    },
    {
      "cell_type": "code",
      "source": [
        "# model_fit_2.summary()"
      ],
      "metadata": {
        "id": "mfnbj-1L9wMH"
      },
      "execution_count": null,
      "outputs": []
    },
    {
      "cell_type": "code",
      "source": [
        "dff['predicted']=result.predict(dynamic=False)"
      ],
      "metadata": {
        "id": "BR_lhDi59wPT"
      },
      "execution_count": null,
      "outputs": []
    },
    {
      "cell_type": "code",
      "source": [
        "print(\"PREDICTED VALUES\\n\",dff['predicted'].tail())\n",
        "print('*'*30)\n",
        "print(\"ACTUAL VALUES \\n\",dff['avg_Target'].tail())"
      ],
      "metadata": {
        "colab": {
          "base_uri": "https://localhost:8080/"
        },
        "id": "I6Zguy4iMvEF",
        "outputId": "a1732b56-9a96-48e4-cb5b-84b448b595a0"
      },
      "execution_count": null,
      "outputs": [
        {
          "output_type": "stream",
          "name": "stdout",
          "text": [
            "PREDICTED VALUES\n",
            " Date\n",
            "2021-12-22    45.431576\n",
            "2021-12-23    44.355753\n",
            "2021-12-24    44.455311\n",
            "2021-12-25    45.490983\n",
            "2021-12-26    44.592428\n",
            "Freq: D, Name: predicted, dtype: float64\n",
            "******************************\n",
            "ACTUAL VALUES \n",
            " Date\n",
            "2021-12-22    44.485262\n",
            "2021-12-23    44.260753\n",
            "2021-12-24    45.558432\n",
            "2021-12-25    44.781287\n",
            "2021-12-26    44.601301\n",
            "Freq: D, Name: avg_Target, dtype: float64\n"
          ]
        }
      ]
    },
    {
      "cell_type": "code",
      "source": [
        "plt.figure(figsize=(20,20))\n",
        "dff[['avg_Target','predicted']].plot()\n",
        "plt.show()"
      ],
      "metadata": {
        "colab": {
          "base_uri": "https://localhost:8080/",
          "height": 308
        },
        "id": "id_d4bfv9wWG",
        "outputId": "e21c9fdc-6f45-47f9-eca1-5ca5ec4f98cc"
      },
      "execution_count": null,
      "outputs": [
        {
          "output_type": "display_data",
          "data": {
            "text/plain": [
              "<Figure size 1440x1440 with 0 Axes>"
            ]
          },
          "metadata": {}
        },
        {
          "output_type": "display_data",
          "data": {
            "text/plain": [
              "<Figure size 432x288 with 1 Axes>"
            ],
            "image/png": "[encoded data removed]"
          },
          "metadata": {
            "needs_background": "light"
          }
        }
      ]
    },
    {
      "cell_type": "code",
      "source": [
        "forecast=result.predict(start='2021-12-27',end='2021-12-31',dynamic=True)"
      ],
      "metadata": {
        "id": "Lj8jc8eGc352"
      },
      "execution_count": null,
      "outputs": []
    },
    {
      "cell_type": "code",
      "source": [
        "print(\"PREDICTED VALUES\\n\",forecast)\n",
        "print('*'*30)\n",
        "print(\"ACTUAL VALUES \\n\",testing_data)"
      ],
      "metadata": {
        "colab": {
          "base_uri": "https://localhost:8080/"
        },
        "id": "kjfe_nCgdbrH",
        "outputId": "06d583ce-af83-4065-9d2a-462fe55edd0e"
      },
      "execution_count": null,
      "outputs": [
        {
          "output_type": "stream",
          "name": "stdout",
          "text": [
            "PREDICTED VALUES\n",
            " 2021-12-27    44.705991\n",
            "2021-12-28    44.737006\n",
            "2021-12-29    44.749808\n",
            "2021-12-30    44.754866\n",
            "2021-12-31    44.756875\n",
            "Freq: D, Name: predicted_mean, dtype: float64\n",
            "******************************\n",
            "ACTUAL VALUES \n",
            "             avg_Target\n",
            "Date                  \n",
            "2021-12-27   45.287792\n",
            "2021-12-28   44.081540\n",
            "2021-12-29   43.777394\n",
            "2021-12-30   43.749912\n",
            "2021-12-31   43.815648\n"
          ]
        }
      ]
    },
    {
      "cell_type": "markdown",
      "source": [
        "<h1><b>***************************PROJECT FINISHED************************<b></h1>"
      ],
      "metadata": {
        "id": "74FCr7g9gi4s"
      }
    },
    {
      "cell_type": "code",
      "source": [
        "def inverse_difference(history,yhat,interval=1):\n",
        "  return yhat+history[-interval]"
      ],
      "metadata": {
        "id": "yD3pWqf7lYul"
      },
      "execution_count": null,
      "outputs": []
    },
    {
      "cell_type": "code",
      "source": [
        "start_index = dff.shape[0]\n",
        "end_index = start_index + 4\n",
        "forecastt=result.predict(start=start_index,end=end_index)"
      ],
      "metadata": {
        "colab": {
          "base_uri": "https://localhost:8080/"
        },
        "id": "AguAPBc7moA2",
        "outputId": "7cc385dd-e940-4df4-82d7-b1f3b8be772c"
      },
      "execution_count": null,
      "outputs": [
        {
          "output_type": "stream",
          "name": "stderr",
          "text": [
            "/usr/local/lib/python3.9/dist-packages/statsmodels/tsa/base/tsa_model.py:834: ValueWarning:\n",
            "\n",
            "No supported index is available. Prediction results will be given with an integer index beginning at `start`.\n",
            "\n"
          ]
        }
      ]
    },
    {
      "cell_type": "code",
      "source": [
        "Series=dff['avg_Target'].squeeze()\n",
        "X=Series.values\n",
        "history=[x for x in X]\n",
        "day=1\n",
        "for yhat in forecastt:\n",
        "  inverted=inverse_difference(history,yhat,2)\n",
        "  print('day %d --> %f'%(day,inverted))\n",
        "  history.append(inverted)\n",
        "  day+=1"
      ],
      "metadata": {
        "colab": {
          "base_uri": "https://localhost:8080/"
        },
        "id": "V-RPlQEgoHV1",
        "outputId": "4ae2784c-ca69-4b67-9212-8276434b7613"
      },
      "execution_count": null,
      "outputs": [
        {
          "output_type": "stream",
          "name": "stdout",
          "text": [
            "day 1 --> 89.462300\n",
            "day 2 --> 89.320896\n",
            "day 3 --> 134.194295\n",
            "day 4 --> 134.056826\n",
            "day 5 --> 178.931473\n"
          ]
        }
      ]
    },
    {
      "cell_type": "code",
      "source": [
        "Test_data"
      ],
      "metadata": {
        "colab": {
          "base_uri": "https://localhost:8080/",
          "height": 237
        },
        "id": "vRBKRf6kmjO-",
        "outputId": "263a237c-9f0f-4e90-9f86-28af3af6aefe"
      },
      "execution_count": null,
      "outputs": [
        {
          "output_type": "execute_result",
          "data": {
            "text/plain": [
              "            avg_Target\n",
              "Date                  \n",
              "2021-12-27   45.287792\n",
              "2021-12-28   44.081540\n",
              "2021-12-29   43.777394\n",
              "2021-12-30   43.749912\n",
              "2021-12-31   43.815648"
            ],
            "text/html": [
              "\n",
              "  <div id=\"df-c5d1ea03-25db-4614-8be9-93341f42f0e7\">\n",
              "    <div class=\"colab-df-container\">\n",
              "      <div>\n",
              "<style scoped>\n",
              "    .dataframe tbody tr th:only-of-type {\n",
              "        vertical-align: middle;\n",
              "    }\n",
              "\n",
              "    .dataframe tbody tr th {\n",
              "        vertical-align: top;\n",
              "    }\n",
              "\n",
              "    .dataframe thead th {\n",
              "        text-align: right;\n",
              "    }\n",
              "</style>\n",
              "<table border=\"1\" class=\"dataframe\">\n",
              "  <thead>\n",
              "    <tr style=\"text-align: right;\">\n",
              "      <th></th>\n",
              "      <th>avg_Target</th>\n",
              "    </tr>\n",
              "    <tr>\n",
              "      <th>Date</th>\n",
              "      <th></th>\n",
              "    </tr>\n",
              "  </thead>\n",
              "  <tbody>\n",
              "    <tr>\n",
              "      <th>2021-12-27</th>\n",
              "      <td>45.287792</td>\n",
              "    </tr>\n",
              "    <tr>\n",
              "      <th>2021-12-28</th>\n",
              "      <td>44.081540</td>\n",
              "    </tr>\n",
              "    <tr>\n",
              "      <th>2021-12-29</th>\n",
              "      <td>43.777394</td>\n",
              "    </tr>\n",
              "    <tr>\n",
              "      <th>2021-12-30</th>\n",
              "      <td>43.749912</td>\n",
              "    </tr>\n",
              "    <tr>\n",
              "      <th>2021-12-31</th>\n",
              "      <td>43.815648</td>\n",
              "    </tr>\n",
              "  </tbody>\n",
              "</table>\n",
              "</div>\n",
              "      <button class=\"colab-df-convert\" onclick=\"convertToInteractive('df-c5d1ea03-25db-4614-8be9-93341f42f0e7')\"\n",
              "              title=\"Convert this dataframe to an interactive table.\"\n",
              "              style=\"display:none;\">\n",
              "        \n",
              "  <svg xmlns=\"http://www.w3.org/2000/svg\" height=\"24px\"viewBox=\"0 0 24 24\"\n",
              "       width=\"24px\">\n",
              "    <path d=\"M0 0h24v24H0V0z\" fill=\"none\"/>\n",
              "    <path d=\"M18.56 5.44l.94 2.06.94-2.06 2.06-.94-2.06-.94-.94-2.06-.94 2.06-2.06.94zm-11 1L8.5 8.5l.94-2.06 2.06-.94-2.06-.94L8.5 2.5l-.94 2.06-2.06.94zm10 10l.94 2.06.94-2.06 2.06-.94-2.06-.94-.94-2.06-.94 2.06-2.06.94z\"/><path d=\"M17.41 7.96l-1.37-1.37c-.4-.4-.92-.59-1.43-.59-.52 0-1.04.2-1.43.59L10.3 9.45l-7.72 7.72c-.78.78-.78 2.05 0 2.83L4 21.41c.39.39.9.59 1.41.59.51 0 1.02-.2 1.41-.59l7.78-7.78 2.81-2.81c.8-.78.8-2.07 0-2.86zM5.41 20L4 18.59l7.72-7.72 1.47 1.35L5.41 20z\"/>\n",
              "  </svg>\n",
              "      </button>\n",
              "      \n",
              "  <style>\n",
              "    .colab-df-container {\n",
              "      display:flex;\n",
              "      flex-wrap:wrap;\n",
              "      gap: 12px;\n",
              "    }\n",
              "\n",
              "    .colab-df-convert {\n",
              "      background-color: #E8F0FE;\n",
              "      border: none;\n",
              "      border-radius: 50%;\n",
              "      cursor: pointer;\n",
              "      display: none;\n",
              "      fill: #1967D2;\n",
              "      height: 32px;\n",
              "      padding: 0 0 0 0;\n",
              "      width: 32px;\n",
              "    }\n",
              "\n",
              "    .colab-df-convert:hover {\n",
              "      background-color: #E2EBFA;\n",
              "      box-shadow: 0px 1px 2px rgba(60, 64, 67, 0.3), 0px 1px 3px 1px rgba(60, 64, 67, 0.15);\n",
              "      fill: #174EA6;\n",
              "    }\n",
              "\n",
              "    [theme=dark] .colab-df-convert {\n",
              "      background-color: #3B4455;\n",
              "      fill: #D2E3FC;\n",
              "    }\n",
              "\n",
              "    [theme=dark] .colab-df-convert:hover {\n",
              "      background-color: #434B5C;\n",
              "      box-shadow: 0px 1px 3px 1px rgba(0, 0, 0, 0.15);\n",
              "      filter: drop-shadow(0px 1px 2px rgba(0, 0, 0, 0.3));\n",
              "      fill: #FFFFFF;\n",
              "    }\n",
              "  </style>\n",
              "\n",
              "      <script>\n",
              "        const buttonEl =\n",
              "          document.querySelector('#df-c5d1ea03-25db-4614-8be9-93341f42f0e7 button.colab-df-convert');\n",
              "        buttonEl.style.display =\n",
              "          google.colab.kernel.accessAllowed ? 'block' : 'none';\n",
              "\n",
              "        async function convertToInteractive(key) {\n",
              "          const element = document.querySelector('#df-c5d1ea03-25db-4614-8be9-93341f42f0e7');\n",
              "          const dataTable =\n",
              "            await google.colab.kernel.invokeFunction('convertToInteractive',\n",
              "                                                     [key], {});\n",
              "          if (!dataTable) return;\n",
              "\n",
              "          const docLinkHtml = 'Like what you see? Visit the ' +\n",
              "            '<a target=\"_blank\" href=https://colab.research.google.com/notebooks/data_table.ipynb>data table notebook</a>'\n",
              "            + ' to learn more about interactive tables.';\n",
              "          element.innerHTML = '';\n",
              "          dataTable['output_type'] = 'display_data';\n",
              "          await google.colab.output.renderOutput(dataTable, element);\n",
              "          const docLink = document.createElement('div');\n",
              "          docLink.innerHTML = docLinkHtml;\n",
              "          element.appendChild(docLink);\n",
              "        }\n",
              "      </script>\n",
              "    </div>\n",
              "  </div>\n",
              "  "
            ]
          },
          "metadata": {},
          "execution_count": 72
        }
      ]
    },
    {
      "cell_type": "markdown",
      "source": [],
      "metadata": {
        "id": "YtRJUtcltubD"
      }
    },
    {
      "cell_type": "code",
      "source": [
        "start_index = 5\n",
        "end_index = dff.shape[0] + 4\n",
        "forecastt=result.predict(start=start_index,end=end_index)"
      ],
      "metadata": {
        "colab": {
          "base_uri": "https://localhost:8080/"
        },
        "id": "rsoNntaqrllM",
        "outputId": "31faaf81-0588-4f9c-e962-f8a8d57e1682"
      },
      "execution_count": null,
      "outputs": [
        {
          "output_type": "stream",
          "name": "stderr",
          "text": [
            "/usr/local/lib/python3.9/dist-packages/statsmodels/tsa/base/tsa_model.py:834: ValueWarning:\n",
            "\n",
            "No supported index is available. Prediction results will be given with an integer index beginning at `start`.\n",
            "\n"
          ]
        }
      ]
    },
    {
      "cell_type": "code",
      "source": [
        "Series=dff['avg_Target'].head().squeeze()\n",
        "X=Series.values\n",
        "# predicted=[]\n",
        "history=[x for x in X]\n",
        "day=1\n",
        "for yhat in forecastt:\n",
        "  inverted=inverse_difference(history,yhat,2)\n",
        "  # print('day %d --> %f'%(day,inverted))\n",
        "  history.append(inverted)\n",
        "  day+=1"
      ],
      "metadata": {
        "id": "wIPuSX9em64Y"
      },
      "execution_count": null,
      "outputs": []
    },
    {
      "cell_type": "code",
      "source": [],
      "metadata": {
        "id": "q2X6mo6owvGr"
      },
      "execution_count": null,
      "outputs": []
    },
    {
      "cell_type": "code",
      "source": [
        "for i in range(0,4):\n",
        "  np.insert(history,i,X[i])"
      ],
      "metadata": {
        "id": "foW9absHwYQh"
      },
      "execution_count": null,
      "outputs": []
    },
    {
      "cell_type": "code",
      "source": [
        "plt.plot([x for x in range(0,dff['avg_Target'].shape[0])],dff['avg_Target'], color='blue')\n",
        "plt.plot([x for x in range(0,dff['avg_Target'].shape[0]+5)],history, color='red')\n",
        "plt.show()"
      ],
      "metadata": {
        "colab": {
          "base_uri": "https://localhost:8080/",
          "height": 265
        },
        "id": "qdN_PfpWuqz0",
        "outputId": "5f9cf07e-ccb9-4b2a-d2db-80c7fcc81e81"
      },
      "execution_count": null,
      "outputs": [
        {
          "output_type": "display_data",
          "data": {
            "text/plain": [
              "<Figure size 432x288 with 1 Axes>"
            ],
            "image/png": "[encoded data removed]"
          },
          "metadata": {
            "needs_background": "light"
          }
        }
      ]
    },
    {
      "cell_type": "code",
      "source": [
        "dff.head()"
      ],
      "metadata": {
        "colab": {
          "base_uri": "https://localhost:8080/",
          "height": 237
        },
        "id": "OcjvfHn19waI",
        "outputId": "52e20df7-1c59-47f3-b976-4e794657d9bb"
      },
      "execution_count": null,
      "outputs": [
        {
          "output_type": "execute_result",
          "data": {
            "text/plain": [
              "            avg_Target  difference_1  predicted\n",
              "Date                                           \n",
              "2021-01-02   46.106314     -0.635792        NaN\n",
              "2021-01-03   45.898575     -0.207739        NaN\n",
              "2021-01-15   48.071368      2.172792  -0.001089\n",
              "2021-01-16   46.475955     -1.595413  -1.135032\n",
              "2021-01-17   47.737885      1.261930   1.553693"
            ],
            "text/html": [
              "\n",
              "  <div id=\"df-d2db9341-7548-471a-ad3a-0db24ea98c05\">\n",
              "    <div class=\"colab-df-container\">\n",
              "      <div>\n",
              "<style scoped>\n",
              "    .dataframe tbody tr th:only-of-type {\n",
              "        vertical-align: middle;\n",
              "    }\n",
              "\n",
              "    .dataframe tbody tr th {\n",
              "        vertical-align: top;\n",
              "    }\n",
              "\n",
              "    .dataframe thead th {\n",
              "        text-align: right;\n",
              "    }\n",
              "</style>\n",
              "<table border=\"1\" class=\"dataframe\">\n",
              "  <thead>\n",
              "    <tr style=\"text-align: right;\">\n",
              "      <th></th>\n",
              "      <th>avg_Target</th>\n",
              "      <th>difference_1</th>\n",
              "      <th>predicted</th>\n",
              "    </tr>\n",
              "    <tr>\n",
              "      <th>Date</th>\n",
              "      <th></th>\n",
              "      <th></th>\n",
              "      <th></th>\n",
              "    </tr>\n",
              "  </thead>\n",
              "  <tbody>\n",
              "    <tr>\n",
              "      <th>2021-01-02</th>\n",
              "      <td>46.106314</td>\n",
              "      <td>-0.635792</td>\n",
              "      <td>NaN</td>\n",
              "    </tr>\n",
              "    <tr>\n",
              "      <th>2021-01-03</th>\n",
              "      <td>45.898575</td>\n",
              "      <td>-0.207739</td>\n",
              "      <td>NaN</td>\n",
              "    </tr>\n",
              "    <tr>\n",
              "      <th>2021-01-15</th>\n",
              "      <td>48.071368</td>\n",
              "      <td>2.172792</td>\n",
              "      <td>-0.001089</td>\n",
              "    </tr>\n",
              "    <tr>\n",
              "      <th>2021-01-16</th>\n",
              "      <td>46.475955</td>\n",
              "      <td>-1.595413</td>\n",
              "      <td>-1.135032</td>\n",
              "    </tr>\n",
              "    <tr>\n",
              "      <th>2021-01-17</th>\n",
              "      <td>47.737885</td>\n",
              "      <td>1.261930</td>\n",
              "      <td>1.553693</td>\n",
              "    </tr>\n",
              "  </tbody>\n",
              "</table>\n",
              "</div>\n",
              "      <button class=\"colab-df-convert\" onclick=\"convertToInteractive('df-d2db9341-7548-471a-ad3a-0db24ea98c05')\"\n",
              "              title=\"Convert this dataframe to an interactive table.\"\n",
              "              style=\"display:none;\">\n",
              "        \n",
              "  <svg xmlns=\"http://www.w3.org/2000/svg\" height=\"24px\"viewBox=\"0 0 24 24\"\n",
              "       width=\"24px\">\n",
              "    <path d=\"M0 0h24v24H0V0z\" fill=\"none\"/>\n",
              "    <path d=\"M18.56 5.44l.94 2.06.94-2.06 2.06-.94-2.06-.94-.94-2.06-.94 2.06-2.06.94zm-11 1L8.5 8.5l.94-2.06 2.06-.94-2.06-.94L8.5 2.5l-.94 2.06-2.06.94zm10 10l.94 2.06.94-2.06 2.06-.94-2.06-.94-.94-2.06-.94 2.06-2.06.94z\"/><path d=\"M17.41 7.96l-1.37-1.37c-.4-.4-.92-.59-1.43-.59-.52 0-1.04.2-1.43.59L10.3 9.45l-7.72 7.72c-.78.78-.78 2.05 0 2.83L4 21.41c.39.39.9.59 1.41.59.51 0 1.02-.2 1.41-.59l7.78-7.78 2.81-2.81c.8-.78.8-2.07 0-2.86zM5.41 20L4 18.59l7.72-7.72 1.47 1.35L5.41 20z\"/>\n",
              "  </svg>\n",
              "      </button>\n",
              "      \n",
              "  <style>\n",
              "    .colab-df-container {\n",
              "      display:flex;\n",
              "      flex-wrap:wrap;\n",
              "      gap: 12px;\n",
              "    }\n",
              "\n",
              "    .colab-df-convert {\n",
              "      background-color: #E8F0FE;\n",
              "      border: none;\n",
              "      border-radius: 50%;\n",
              "      cursor: pointer;\n",
              "      display: none;\n",
              "      fill: #1967D2;\n",
              "      height: 32px;\n",
              "      padding: 0 0 0 0;\n",
              "      width: 32px;\n",
              "    }\n",
              "\n",
              "    .colab-df-convert:hover {\n",
              "      background-color: #E2EBFA;\n",
              "      box-shadow: 0px 1px 2px rgba(60, 64, 67, 0.3), 0px 1px 3px 1px rgba(60, 64, 67, 0.15);\n",
              "      fill: #174EA6;\n",
              "    }\n",
              "\n",
              "    [theme=dark] .colab-df-convert {\n",
              "      background-color: #3B4455;\n",
              "      fill: #D2E3FC;\n",
              "    }\n",
              "\n",
              "    [theme=dark] .colab-df-convert:hover {\n",
              "      background-color: #434B5C;\n",
              "      box-shadow: 0px 1px 3px 1px rgba(0, 0, 0, 0.15);\n",
              "      filter: drop-shadow(0px 1px 2px rgba(0, 0, 0, 0.3));\n",
              "      fill: #FFFFFF;\n",
              "    }\n",
              "  </style>\n",
              "\n",
              "      <script>\n",
              "        const buttonEl =\n",
              "          document.querySelector('#df-d2db9341-7548-471a-ad3a-0db24ea98c05 button.colab-df-convert');\n",
              "        buttonEl.style.display =\n",
              "          google.colab.kernel.accessAllowed ? 'block' : 'none';\n",
              "\n",
              "        async function convertToInteractive(key) {\n",
              "          const element = document.querySelector('#df-d2db9341-7548-471a-ad3a-0db24ea98c05');\n",
              "          const dataTable =\n",
              "            await google.colab.kernel.invokeFunction('convertToInteractive',\n",
              "                                                     [key], {});\n",
              "          if (!dataTable) return;\n",
              "\n",
              "          const docLinkHtml = 'Like what you see? Visit the ' +\n",
              "            '<a target=\"_blank\" href=https://colab.research.google.com/notebooks/data_table.ipynb>data table notebook</a>'\n",
              "            + ' to learn more about interactive tables.';\n",
              "          element.innerHTML = '';\n",
              "          dataTable['output_type'] = 'display_data';\n",
              "          await google.colab.output.renderOutput(dataTable, element);\n",
              "          const docLink = document.createElement('div');\n",
              "          docLink.innerHTML = docLinkHtml;\n",
              "          element.appendChild(docLink);\n",
              "        }\n",
              "      </script>\n",
              "    </div>\n",
              "  </div>\n",
              "  "
            ]
          },
          "metadata": {},
          "execution_count": 177
        }
      ]
    },
    {
      "cell_type": "code",
      "source": [
        "l=[1,2,3,4,5,6,7]"
      ],
      "metadata": {
        "id": "ZI79IrSN9wd2"
      },
      "execution_count": null,
      "outputs": []
    },
    {
      "cell_type": "code",
      "source": [
        "np.insert(l, 0,100)"
      ],
      "metadata": {
        "colab": {
          "base_uri": "https://localhost:8080/"
        },
        "id": "qOzAnqPZwPJw",
        "outputId": "12fe4dcb-3763-4746-fee9-e284c5578351"
      },
      "execution_count": null,
      "outputs": [
        {
          "output_type": "execute_result",
          "data": {
            "text/plain": [
              "array([100,   1,   2,   3,   4,   5,   6,   7])"
            ]
          },
          "metadata": {},
          "execution_count": 179
        }
      ]
    },
    {
      "cell_type": "code",
      "source": [
        "l[-1]"
      ],
      "metadata": {
        "id": "WvP182nk9whM",
        "colab": {
          "base_uri": "https://localhost:8080/"
        },
        "outputId": "6e5d6cbd-e179-4d72-8197-a3b43065b0af"
      },
      "execution_count": null,
      "outputs": [
        {
          "output_type": "execute_result",
          "data": {
            "text/plain": [
              "7"
            ]
          },
          "metadata": {},
          "execution_count": 180
        }
      ]
    },
    {
      "cell_type": "markdown",
      "source": [
        "<h1><b>MULTIVARIATE TIME SERIES</b></h1>"
      ],
      "metadata": {
        "id": "p8Gh80yHXdpw"
      }
    },
    {
      "cell_type": "code",
      "source": [
        "from statsmodels.graphics.tsaplots import plot_acf, plot_pacf\n",
        "from statsmodels.tsa.statespace.varmax import VARMAX\n",
        "from statsmodels.tsa.api import VAR\n",
        "from statsmodels.tsa.stattools import grangercausalitytests, adfuller\n",
        "from tqdm import tqdm_notebook\n",
        "from itertools import product\n",
        "\n",
        "import matplotlib.pyplot as plt\n",
        "import statsmodels.api as sm\n",
        "import pandas as pd\n",
        "import numpy as np\n",
        "\n",
        "import warnings\n",
        "warnings.filterwarnings('ignore')"
      ],
      "metadata": {
        "id": "is1tOVPCYuDn"
      },
      "execution_count": null,
      "outputs": []
    },
    {
      "cell_type": "code",
      "source": [
        "DTurbine_01=dTurbine_01.copy()"
      ],
      "metadata": {
        "id": "1HH34ZqfXWRV"
      },
      "execution_count": null,
      "outputs": []
    },
    {
      "cell_type": "code",
      "source": [
        "corr= DTurbine_01.corr()\n",
        "\n",
        "fig = plt.figure(figsize=(15,10))\n",
        "sns.heatmap(corr,annot=True,fmt=\"0.3f\",cmap='YlGnBu',cbar=True,square=True,xticklabels='auto',\n",
        "    yticklabels='auto')"
      ],
      "metadata": {
        "colab": {
          "base_uri": "https://localhost:8080/",
          "height": 805
        },
        "id": "C7QkSDHfVlrk",
        "outputId": "5205ca9f-228c-4514-d054-2f9ddd8cec53"
      },
      "execution_count": null,
      "outputs": [
        {
          "output_type": "execute_result",
          "data": {
            "text/plain": [
              "<matplotlib.axes._subplots.AxesSubplot at 0x7f19ab915a30>"
            ]
          },
          "metadata": {},
          "execution_count": 15
        },
        {
          "output_type": "display_data",
          "data": {
            "text/plain": [
              "<Figure size 1080x720 with 2 Axes>"
            ],
            "image/png": "[encoded data removed]"
          },
          "metadata": {
            "needs_background": "light"
          }
        }
      ]
    },
    {
      "cell_type": "code",
      "source": [
        "features=DTurbine_01.columns"
      ],
      "metadata": {
        "id": "WVum6KznYMJW"
      },
      "execution_count": null,
      "outputs": []
    },
    {
      "cell_type": "code",
      "source": [
        "# def correlation(corr,features,threshold):\n",
        "#     col_corr=set()  # set of all the names of correlated columns\n",
        "#     for i in range(len(features)-1):\n",
        "#         for j in range(i):\n",
        "#             if abs(corr.iloc[i][j]) > threshold:\n",
        "#                 col_corr.add(corr.columns[i])\n",
        "#     return col_corr\n",
        "\n",
        "# correlation(corr,features,0.95)"
      ],
      "metadata": {
        "colab": {
          "base_uri": "https://localhost:8080/"
        },
        "id": "1jKh4XFeXoKc",
        "outputId": "493603de-c5da-4c66-8f9b-208916309591"
      },
      "execution_count": null,
      "outputs": [
        {
          "output_type": "execute_result",
          "data": {
            "text/plain": [
              "{'active_power_raw', 'nacelle_temp', 'reactive_power'}"
            ]
          },
          "metadata": {},
          "execution_count": 21
        }
      ]
    },
    {
      "cell_type": "code",
      "source": [
        "ad_fuller_result_1 = adfuller(DTurbine_01['nacelle_temp'].diff()[1:])\n",
        "\n",
        "print('nacelle temp')\n",
        "print(f'ADF Statistic: {ad_fuller_result_1[0]}')\n",
        "print(f'p-value: {ad_fuller_result_1[1]}')\n",
        "\n",
        "print('\\n---------------------\\n')\n",
        "\n",
        "ad_fuller_result_2 = adfuller(DTurbine_01['ambient_temperature'].diff()[1:])\n",
        "\n",
        "print('ambient temp')\n",
        "print(f'ADF Statistic: {ad_fuller_result_2[0]}')\n",
        "print(f'p-value: {ad_fuller_result_2[1]}')"
      ],
      "metadata": {
        "colab": {
          "base_uri": "https://localhost:8080/"
        },
        "id": "xOs4lJTwYQ05",
        "outputId": "0517c70f-fee7-440f-9517-7663444139ed"
      },
      "execution_count": null,
      "outputs": [
        {
          "output_type": "stream",
          "name": "stdout",
          "text": [
            "nacelle temp\n",
            "ADF Statistic: -47.95749982973079\n",
            "p-value: 0.0\n",
            "\n",
            "---------------------\n",
            "\n",
            "ambient temp\n",
            "ADF Statistic: -48.18411310520012\n",
            "p-value: 0.0\n"
          ]
        }
      ]
    },
    {
      "cell_type": "code",
      "source": [
        "ad_fuller_result_2 = adfuller(DTurbine_01['Target'].diff()[1:])\n",
        "\n",
        "print('Target')\n",
        "print(f'ADF Statistic: {ad_fuller_result_2[0]}')\n",
        "print(f'p-value: {ad_fuller_result_2[1]}')"
      ],
      "metadata": {
        "colab": {
          "base_uri": "https://localhost:8080/"
        },
        "id": "lpQ88of4ZyBt",
        "outputId": "e0a4e3d8-e2c0-400d-9146-ef2b3cd77297"
      },
      "execution_count": null,
      "outputs": [
        {
          "output_type": "stream",
          "name": "stdout",
          "text": [
            "Target\n",
            "ADF Statistic: -47.70083414669033\n",
            "p-value: 0.0\n"
          ]
        }
      ]
    },
    {
      "cell_type": "code",
      "source": [
        "print('rgnp causes ulc?\\n')\n",
        "print('------------------')\n",
        "granger_1 = grangercausalitytests(DTurbine_01[['ambient_temperature','nacelle_temp']], 5)\n",
        "\n",
        "print('\\nulc causes rgnp?\\n')\n",
        "print('------------------')\n",
        "granger_2 = grangercausalitytests(DTurbine_01[['nacelle_temp','ambient_temperature']], 5)"
      ],
      "metadata": {
        "colab": {
          "base_uri": "https://localhost:8080/"
        },
        "id": "KnUFMoe-ZSIH",
        "outputId": "de5de1db-a5f1-4d1a-809d-d8ec6886bee5"
      },
      "execution_count": null,
      "outputs": [
        {
          "output_type": "stream",
          "name": "stdout",
          "text": [
            "rgnp causes ulc?\n",
            "\n",
            "------------------\n",
            "\n",
            "Granger Causality\n",
            "number of lags (no zero) 1\n",
            "ssr based F test:         F=2.4294  , p=0.1191  , df_denom=45093, df_num=1\n",
            "ssr based chi2 test:   chi2=2.4295  , p=0.1191  , df=1\n",
            "likelihood ratio test: chi2=2.4295  , p=0.1191  , df=1\n",
            "parameter F test:         F=2.4294  , p=0.1191  , df_denom=45093, df_num=1\n",
            "\n",
            "Granger Causality\n",
            "number of lags (no zero) 2\n",
            "ssr based F test:         F=1.5387  , p=0.2147  , df_denom=45090, df_num=2\n",
            "ssr based chi2 test:   chi2=3.0777  , p=0.2146  , df=2\n",
            "likelihood ratio test: chi2=3.0776  , p=0.2146  , df=2\n",
            "parameter F test:         F=1.5387  , p=0.2147  , df_denom=45090, df_num=2\n",
            "\n",
            "Granger Causality\n",
            "number of lags (no zero) 3\n",
            "ssr based F test:         F=1.0507  , p=0.3688  , df_denom=45087, df_num=3\n",
            "ssr based chi2 test:   chi2=3.1525  , p=0.3687  , df=3\n",
            "likelihood ratio test: chi2=3.1523  , p=0.3687  , df=3\n",
            "parameter F test:         F=1.0507  , p=0.3688  , df_denom=45087, df_num=3\n",
            "\n",
            "Granger Causality\n",
            "number of lags (no zero) 4\n",
            "ssr based F test:         F=2.4476  , p=0.0441  , df_denom=45084, df_num=4\n",
            "ssr based chi2 test:   chi2=9.7923  , p=0.0441  , df=4\n",
            "likelihood ratio test: chi2=9.7912  , p=0.0441  , df=4\n",
            "parameter F test:         F=2.4476  , p=0.0441  , df_denom=45084, df_num=4\n",
            "\n",
            "Granger Causality\n",
            "number of lags (no zero) 5\n",
            "ssr based F test:         F=1.9754  , p=0.0788  , df_denom=45081, df_num=5\n",
            "ssr based chi2 test:   chi2=9.8794  , p=0.0787  , df=5\n",
            "likelihood ratio test: chi2=9.8783  , p=0.0788  , df=5\n",
            "parameter F test:         F=1.9754  , p=0.0788  , df_denom=45081, df_num=5\n",
            "\n",
            "ulc causes rgnp?\n",
            "\n",
            "------------------\n",
            "\n",
            "Granger Causality\n",
            "number of lags (no zero) 1\n",
            "ssr based F test:         F=3.2441  , p=0.0717  , df_denom=45093, df_num=1\n",
            "ssr based chi2 test:   chi2=3.2443  , p=0.0717  , df=1\n",
            "likelihood ratio test: chi2=3.2442  , p=0.0717  , df=1\n",
            "parameter F test:         F=3.2441  , p=0.0717  , df_denom=45093, df_num=1\n",
            "\n",
            "Granger Causality\n",
            "number of lags (no zero) 2\n",
            "ssr based F test:         F=2.1037  , p=0.1220  , df_denom=45090, df_num=2\n",
            "ssr based chi2 test:   chi2=4.2078  , p=0.1220  , df=2\n",
            "likelihood ratio test: chi2=4.2077  , p=0.1220  , df=2\n",
            "parameter F test:         F=2.1037  , p=0.1220  , df_denom=45090, df_num=2\n",
            "\n",
            "Granger Causality\n",
            "number of lags (no zero) 3\n",
            "ssr based F test:         F=1.4627  , p=0.2225  , df_denom=45087, df_num=3\n",
            "ssr based chi2 test:   chi2=4.3889  , p=0.2224  , df=3\n",
            "likelihood ratio test: chi2=4.3887  , p=0.2224  , df=3\n",
            "parameter F test:         F=1.4627  , p=0.2225  , df_denom=45087, df_num=3\n",
            "\n",
            "Granger Causality\n",
            "number of lags (no zero) 4\n",
            "ssr based F test:         F=2.6804  , p=0.0299  , df_denom=45084, df_num=4\n",
            "ssr based chi2 test:   chi2=10.7236 , p=0.0299  , df=4\n",
            "likelihood ratio test: chi2=10.7223 , p=0.0299  , df=4\n",
            "parameter F test:         F=2.6804  , p=0.0299  , df_denom=45084, df_num=4\n",
            "\n",
            "Granger Causality\n",
            "number of lags (no zero) 5\n",
            "ssr based F test:         F=2.1504  , p=0.0565  , df_denom=45081, df_num=5\n",
            "ssr based chi2 test:   chi2=10.7545 , p=0.0565  , df=5\n",
            "likelihood ratio test: chi2=10.7533 , p=0.0565  , df=5\n",
            "parameter F test:         F=2.1504  , p=0.0565  , df_denom=45081, df_num=5\n"
          ]
        }
      ]
    },
    {
      "cell_type": "code",
      "source": [
        "train=DTurbine_01[['ambient_temperature','nacelle_temp','Target']]"
      ],
      "metadata": {
        "id": "qW6UXiaFcGzb"
      },
      "execution_count": null,
      "outputs": []
    },
    {
      "cell_type": "code",
      "source": [
        "train_df=DTurbine_01[:-5]\n",
        "test_df=DTurbine_01[-5:]"
      ],
      "metadata": {
        "id": "PiTrXNTdaog7"
      },
      "execution_count": null,
      "outputs": []
    },
    {
      "cell_type": "code",
      "source": [
        "change_dtype={'ambient_temperature':'float','nacelle_temp':'float','Target':'float'}"
      ],
      "metadata": {
        "id": "cWwR-N7Adsfz"
      },
      "execution_count": null,
      "outputs": []
    },
    {
      "cell_type": "code",
      "source": [
        "Dturbine=DTurbine_01.astype(dtype=change_dtype)"
      ],
      "metadata": {
        "id": "5I5S379oeH5S"
      },
      "execution_count": null,
      "outputs": []
    },
    {
      "cell_type": "code",
      "source": [
        "# var_model = VAR(train_df)\n",
        "# fitted_model = var_model.fit(disp=False)\n",
        "# print(fitted_model.summary())"
      ],
      "metadata": {
        "id": "a_CCgbahbzsm"
      },
      "execution_count": null,
      "outputs": []
    },
    {
      "cell_type": "code",
      "source": [],
      "metadata": {
        "id": "L4umzKt9b4lN"
      },
      "execution_count": null,
      "outputs": []
    },
    {
      "cell_type": "code",
      "source": [],
      "metadata": {
        "id": "4BC2H4XzrI_M"
      },
      "execution_count": null,
      "outputs": []
    }
  ]
}